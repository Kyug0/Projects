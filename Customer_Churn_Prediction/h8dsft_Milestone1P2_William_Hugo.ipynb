{
 "cells": [
  {
   "cell_type": "markdown",
   "metadata": {},
   "source": [
    "# Milestone 1"
   ]
  },
  {
   "cell_type": "markdown",
   "metadata": {},
   "source": [
    "------------------------\n",
    "## Perkenalan\n",
    "> Bab pengenalan harus diisi dengan identitas, gambaran besar dataset yang digunakan, dan objective yang ingin dicapai."
   ]
  },
  {
   "cell_type": "markdown",
   "metadata": {},
   "source": [
    "Name : William Hugo Ravindra Putra\n",
    "\n",
    "Batch : 11\n",
    "\n",
    "Dataset : Telco Customer Churn (https://www.kaggle.com/datasets/blastchar/telco-customer-churn)\n",
    "\n",
    "Objective :\n",
    "- Mampu memahami konsep Artificial Neural Network.\n",
    "- Mampu mempersiapkan data untuk digunakan dalam model Artificial Neural Network.\n",
    "- Mampu mengimplementasikan Artificial Neural Network dengan data yang diberikan.\n",
    "- Mampu menganalisis dan menjelaskan layer yang dibuat.\n"
   ]
  },
  {
   "cell_type": "markdown",
   "metadata": {},
   "source": [
    "------------------------\n",
    "## Import Libraries\n",
    "> Cell pertama pada notebook harus berisi dan hanya berisi semua library yang digunakan dalam project."
   ]
  },
  {
   "cell_type": "code",
   "execution_count": 1,
   "metadata": {},
   "outputs": [],
   "source": [
    "import numpy as np\n",
    "import pandas as pd\n",
    "import matplotlib.pyplot as plt\n",
    "import seaborn as sns\n",
    "from sklearn.model_selection import train_test_split\n",
    "from tensorflow import keras\n",
    "from feature_engine.outliers import Winsorizer\n",
    "from sklearn.ensemble import RandomForestClassifier\n",
    "from sklearn.preprocessing import StandardScaler, OrdinalEncoder\n",
    "from tensorflow import math\n",
    "from tensorflow import data\n",
    "from sklearn.impute import SimpleImputer\n",
    "from sklearn.pipeline import Pipeline\n",
    "from sklearn.compose import ColumnTransformer\n",
    "from sklearn.metrics import classification_report\n",
    "from imblearn.over_sampling import SMOTENC\n",
    "import pickle"
   ]
  },
  {
   "cell_type": "markdown",
   "metadata": {},
   "source": [
    "------------------------\n",
    "## Data Loading\n",
    "> Bagian ini berisi proses penyiapan data sebelum dilakukan eksplorasi data lebih lanjut. Proses Data Loading dapat berupa memberi nama baru untuk setiap kolom, mengecek ukuran dataset, dll.\n",
    "\n"
   ]
  },
  {
   "cell_type": "code",
   "execution_count": 2,
   "metadata": {},
   "outputs": [
    {
     "data": {
      "text/html": [
       "<div>\n",
       "<style scoped>\n",
       "    .dataframe tbody tr th:only-of-type {\n",
       "        vertical-align: middle;\n",
       "    }\n",
       "\n",
       "    .dataframe tbody tr th {\n",
       "        vertical-align: top;\n",
       "    }\n",
       "\n",
       "    .dataframe thead th {\n",
       "        text-align: right;\n",
       "    }\n",
       "</style>\n",
       "<table border=\"1\" class=\"dataframe\">\n",
       "  <thead>\n",
       "    <tr style=\"text-align: right;\">\n",
       "      <th></th>\n",
       "      <th>customerID</th>\n",
       "      <th>gender</th>\n",
       "      <th>SeniorCitizen</th>\n",
       "      <th>Partner</th>\n",
       "      <th>Dependents</th>\n",
       "      <th>tenure</th>\n",
       "      <th>PhoneService</th>\n",
       "      <th>MultipleLines</th>\n",
       "      <th>InternetService</th>\n",
       "      <th>OnlineSecurity</th>\n",
       "      <th>...</th>\n",
       "      <th>DeviceProtection</th>\n",
       "      <th>TechSupport</th>\n",
       "      <th>StreamingTV</th>\n",
       "      <th>StreamingMovies</th>\n",
       "      <th>Contract</th>\n",
       "      <th>PaperlessBilling</th>\n",
       "      <th>PaymentMethod</th>\n",
       "      <th>MonthlyCharges</th>\n",
       "      <th>TotalCharges</th>\n",
       "      <th>Churn</th>\n",
       "    </tr>\n",
       "  </thead>\n",
       "  <tbody>\n",
       "    <tr>\n",
       "      <th>0</th>\n",
       "      <td>7590-VHVEG</td>\n",
       "      <td>Female</td>\n",
       "      <td>0</td>\n",
       "      <td>Yes</td>\n",
       "      <td>No</td>\n",
       "      <td>1</td>\n",
       "      <td>No</td>\n",
       "      <td>No phone service</td>\n",
       "      <td>DSL</td>\n",
       "      <td>No</td>\n",
       "      <td>...</td>\n",
       "      <td>No</td>\n",
       "      <td>No</td>\n",
       "      <td>No</td>\n",
       "      <td>No</td>\n",
       "      <td>Month-to-month</td>\n",
       "      <td>Yes</td>\n",
       "      <td>Electronic check</td>\n",
       "      <td>29.85</td>\n",
       "      <td>29.85</td>\n",
       "      <td>No</td>\n",
       "    </tr>\n",
       "    <tr>\n",
       "      <th>1</th>\n",
       "      <td>5575-GNVDE</td>\n",
       "      <td>Male</td>\n",
       "      <td>0</td>\n",
       "      <td>No</td>\n",
       "      <td>No</td>\n",
       "      <td>34</td>\n",
       "      <td>Yes</td>\n",
       "      <td>No</td>\n",
       "      <td>DSL</td>\n",
       "      <td>Yes</td>\n",
       "      <td>...</td>\n",
       "      <td>Yes</td>\n",
       "      <td>No</td>\n",
       "      <td>No</td>\n",
       "      <td>No</td>\n",
       "      <td>One year</td>\n",
       "      <td>No</td>\n",
       "      <td>Mailed check</td>\n",
       "      <td>56.95</td>\n",
       "      <td>1889.5</td>\n",
       "      <td>No</td>\n",
       "    </tr>\n",
       "    <tr>\n",
       "      <th>2</th>\n",
       "      <td>3668-QPYBK</td>\n",
       "      <td>Male</td>\n",
       "      <td>0</td>\n",
       "      <td>No</td>\n",
       "      <td>No</td>\n",
       "      <td>2</td>\n",
       "      <td>Yes</td>\n",
       "      <td>No</td>\n",
       "      <td>DSL</td>\n",
       "      <td>Yes</td>\n",
       "      <td>...</td>\n",
       "      <td>No</td>\n",
       "      <td>No</td>\n",
       "      <td>No</td>\n",
       "      <td>No</td>\n",
       "      <td>Month-to-month</td>\n",
       "      <td>Yes</td>\n",
       "      <td>Mailed check</td>\n",
       "      <td>53.85</td>\n",
       "      <td>108.15</td>\n",
       "      <td>Yes</td>\n",
       "    </tr>\n",
       "    <tr>\n",
       "      <th>3</th>\n",
       "      <td>7795-CFOCW</td>\n",
       "      <td>Male</td>\n",
       "      <td>0</td>\n",
       "      <td>No</td>\n",
       "      <td>No</td>\n",
       "      <td>45</td>\n",
       "      <td>No</td>\n",
       "      <td>No phone service</td>\n",
       "      <td>DSL</td>\n",
       "      <td>Yes</td>\n",
       "      <td>...</td>\n",
       "      <td>Yes</td>\n",
       "      <td>Yes</td>\n",
       "      <td>No</td>\n",
       "      <td>No</td>\n",
       "      <td>One year</td>\n",
       "      <td>No</td>\n",
       "      <td>Bank transfer (automatic)</td>\n",
       "      <td>42.30</td>\n",
       "      <td>1840.75</td>\n",
       "      <td>No</td>\n",
       "    </tr>\n",
       "    <tr>\n",
       "      <th>4</th>\n",
       "      <td>9237-HQITU</td>\n",
       "      <td>Female</td>\n",
       "      <td>0</td>\n",
       "      <td>No</td>\n",
       "      <td>No</td>\n",
       "      <td>2</td>\n",
       "      <td>Yes</td>\n",
       "      <td>No</td>\n",
       "      <td>Fiber optic</td>\n",
       "      <td>No</td>\n",
       "      <td>...</td>\n",
       "      <td>No</td>\n",
       "      <td>No</td>\n",
       "      <td>No</td>\n",
       "      <td>No</td>\n",
       "      <td>Month-to-month</td>\n",
       "      <td>Yes</td>\n",
       "      <td>Electronic check</td>\n",
       "      <td>70.70</td>\n",
       "      <td>151.65</td>\n",
       "      <td>Yes</td>\n",
       "    </tr>\n",
       "  </tbody>\n",
       "</table>\n",
       "<p>5 rows × 21 columns</p>\n",
       "</div>"
      ],
      "text/plain": [
       "   customerID  gender  SeniorCitizen Partner Dependents  tenure PhoneService  \\\n",
       "0  7590-VHVEG  Female              0     Yes         No       1           No   \n",
       "1  5575-GNVDE    Male              0      No         No      34          Yes   \n",
       "2  3668-QPYBK    Male              0      No         No       2          Yes   \n",
       "3  7795-CFOCW    Male              0      No         No      45           No   \n",
       "4  9237-HQITU  Female              0      No         No       2          Yes   \n",
       "\n",
       "      MultipleLines InternetService OnlineSecurity  ... DeviceProtection  \\\n",
       "0  No phone service             DSL             No  ...               No   \n",
       "1                No             DSL            Yes  ...              Yes   \n",
       "2                No             DSL            Yes  ...               No   \n",
       "3  No phone service             DSL            Yes  ...              Yes   \n",
       "4                No     Fiber optic             No  ...               No   \n",
       "\n",
       "  TechSupport StreamingTV StreamingMovies        Contract PaperlessBilling  \\\n",
       "0          No          No              No  Month-to-month              Yes   \n",
       "1          No          No              No        One year               No   \n",
       "2          No          No              No  Month-to-month              Yes   \n",
       "3         Yes          No              No        One year               No   \n",
       "4          No          No              No  Month-to-month              Yes   \n",
       "\n",
       "               PaymentMethod MonthlyCharges  TotalCharges Churn  \n",
       "0           Electronic check          29.85         29.85    No  \n",
       "1               Mailed check          56.95        1889.5    No  \n",
       "2               Mailed check          53.85        108.15   Yes  \n",
       "3  Bank transfer (automatic)          42.30       1840.75    No  \n",
       "4           Electronic check          70.70        151.65   Yes  \n",
       "\n",
       "[5 rows x 21 columns]"
      ]
     },
     "execution_count": 2,
     "metadata": {},
     "output_type": "execute_result"
    }
   ],
   "source": [
    "# Data Loading\n",
    "df = pd.read_csv('Telco_Data.csv')\n",
    "# Displaying the data\n",
    "df.head()"
   ]
  },
  {
   "cell_type": "markdown",
   "metadata": {},
   "source": [
    "> From the table above, I can see that the data is about the churning rate or customers for a Telecommunnication company. the data shows a range of features from customer ID, Partner, Dependents, Tenure, Internet Service and etc"
   ]
  },
  {
   "cell_type": "code",
   "execution_count": 3,
   "metadata": {},
   "outputs": [
    {
     "data": {
      "text/html": [
       "<div>\n",
       "<style scoped>\n",
       "    .dataframe tbody tr th:only-of-type {\n",
       "        vertical-align: middle;\n",
       "    }\n",
       "\n",
       "    .dataframe tbody tr th {\n",
       "        vertical-align: top;\n",
       "    }\n",
       "\n",
       "    .dataframe thead th {\n",
       "        text-align: right;\n",
       "    }\n",
       "</style>\n",
       "<table border=\"1\" class=\"dataframe\">\n",
       "  <thead>\n",
       "    <tr style=\"text-align: right;\">\n",
       "      <th></th>\n",
       "      <th>SeniorCitizen</th>\n",
       "      <th>tenure</th>\n",
       "      <th>MonthlyCharges</th>\n",
       "    </tr>\n",
       "  </thead>\n",
       "  <tbody>\n",
       "    <tr>\n",
       "      <th>count</th>\n",
       "      <td>7043.000000</td>\n",
       "      <td>7043.000000</td>\n",
       "      <td>7043.000000</td>\n",
       "    </tr>\n",
       "    <tr>\n",
       "      <th>mean</th>\n",
       "      <td>0.162147</td>\n",
       "      <td>32.371149</td>\n",
       "      <td>64.761692</td>\n",
       "    </tr>\n",
       "    <tr>\n",
       "      <th>std</th>\n",
       "      <td>0.368612</td>\n",
       "      <td>24.559481</td>\n",
       "      <td>30.090047</td>\n",
       "    </tr>\n",
       "    <tr>\n",
       "      <th>min</th>\n",
       "      <td>0.000000</td>\n",
       "      <td>0.000000</td>\n",
       "      <td>18.250000</td>\n",
       "    </tr>\n",
       "    <tr>\n",
       "      <th>25%</th>\n",
       "      <td>0.000000</td>\n",
       "      <td>9.000000</td>\n",
       "      <td>35.500000</td>\n",
       "    </tr>\n",
       "    <tr>\n",
       "      <th>50%</th>\n",
       "      <td>0.000000</td>\n",
       "      <td>29.000000</td>\n",
       "      <td>70.350000</td>\n",
       "    </tr>\n",
       "    <tr>\n",
       "      <th>75%</th>\n",
       "      <td>0.000000</td>\n",
       "      <td>55.000000</td>\n",
       "      <td>89.850000</td>\n",
       "    </tr>\n",
       "    <tr>\n",
       "      <th>max</th>\n",
       "      <td>1.000000</td>\n",
       "      <td>72.000000</td>\n",
       "      <td>118.750000</td>\n",
       "    </tr>\n",
       "  </tbody>\n",
       "</table>\n",
       "</div>"
      ],
      "text/plain": [
       "       SeniorCitizen       tenure  MonthlyCharges\n",
       "count    7043.000000  7043.000000     7043.000000\n",
       "mean        0.162147    32.371149       64.761692\n",
       "std         0.368612    24.559481       30.090047\n",
       "min         0.000000     0.000000       18.250000\n",
       "25%         0.000000     9.000000       35.500000\n",
       "50%         0.000000    29.000000       70.350000\n",
       "75%         0.000000    55.000000       89.850000\n",
       "max         1.000000    72.000000      118.750000"
      ]
     },
     "execution_count": 3,
     "metadata": {},
     "output_type": "execute_result"
    }
   ],
   "source": [
    "#Checking the description of the numerical data\n",
    "df.describe()"
   ]
  },
  {
   "cell_type": "code",
   "execution_count": 4,
   "metadata": {},
   "outputs": [
    {
     "name": "stdout",
     "output_type": "stream",
     "text": [
      "<class 'pandas.core.frame.DataFrame'>\n",
      "RangeIndex: 7043 entries, 0 to 7042\n",
      "Data columns (total 21 columns):\n",
      " #   Column            Non-Null Count  Dtype  \n",
      "---  ------            --------------  -----  \n",
      " 0   customerID        7043 non-null   object \n",
      " 1   gender            7043 non-null   object \n",
      " 2   SeniorCitizen     7043 non-null   int64  \n",
      " 3   Partner           7043 non-null   object \n",
      " 4   Dependents        7043 non-null   object \n",
      " 5   tenure            7043 non-null   int64  \n",
      " 6   PhoneService      7043 non-null   object \n",
      " 7   MultipleLines     7043 non-null   object \n",
      " 8   InternetService   7043 non-null   object \n",
      " 9   OnlineSecurity    7043 non-null   object \n",
      " 10  OnlineBackup      7043 non-null   object \n",
      " 11  DeviceProtection  7043 non-null   object \n",
      " 12  TechSupport       7043 non-null   object \n",
      " 13  StreamingTV       7043 non-null   object \n",
      " 14  StreamingMovies   7043 non-null   object \n",
      " 15  Contract          7043 non-null   object \n",
      " 16  PaperlessBilling  7043 non-null   object \n",
      " 17  PaymentMethod     7043 non-null   object \n",
      " 18  MonthlyCharges    7043 non-null   float64\n",
      " 19  TotalCharges      7043 non-null   object \n",
      " 20  Churn             7043 non-null   object \n",
      "dtypes: float64(1), int64(2), object(18)\n",
      "memory usage: 1.1+ MB\n"
     ]
    }
   ],
   "source": [
    "# Checking the information on the data\n",
    "df.info()"
   ]
  },
  {
   "cell_type": "markdown",
   "metadata": {},
   "source": [
    "> From the information above, I can spot a few 'weird' or misplaced dtypes. For TotalCharges, it says it is an object but in reality it is a numerical value (int or float), that means I will have to change the dtypes from object to int/float. For Senior Citizen, it says it is an int which is fine, but to quell the confusion I'm going to change it in the form of an object"
   ]
  },
  {
   "cell_type": "code",
   "execution_count": 5,
   "metadata": {},
   "outputs": [
    {
     "data": {
      "text/plain": [
       "0"
      ]
     },
     "execution_count": 5,
     "metadata": {},
     "output_type": "execute_result"
    }
   ],
   "source": [
    "#Checking for missing values\n",
    "df.isnull().sum().sum()"
   ]
  },
  {
   "cell_type": "code",
   "execution_count": 6,
   "metadata": {},
   "outputs": [
    {
     "data": {
      "text/plain": [
       "0"
      ]
     },
     "execution_count": 6,
     "metadata": {},
     "output_type": "execute_result"
    }
   ],
   "source": [
    "#Checking for duplicated rows\n",
    "df.duplicated().sum()"
   ]
  },
  {
   "cell_type": "code",
   "execution_count": 7,
   "metadata": {},
   "outputs": [],
   "source": [
    "#Copying the data to be manipulated\n",
    "df1 = df.copy()"
   ]
  },
  {
   "cell_type": "code",
   "execution_count": 8,
   "metadata": {},
   "outputs": [
    {
     "name": "stdout",
     "output_type": "stream",
     "text": [
      "<class 'pandas.core.frame.DataFrame'>\n",
      "RangeIndex: 7043 entries, 0 to 7042\n",
      "Data columns (total 21 columns):\n",
      " #   Column            Non-Null Count  Dtype  \n",
      "---  ------            --------------  -----  \n",
      " 0   customerID        7043 non-null   object \n",
      " 1   gender            7043 non-null   object \n",
      " 2   SeniorCitizen     7043 non-null   int64  \n",
      " 3   Partner           7043 non-null   object \n",
      " 4   Dependents        7043 non-null   object \n",
      " 5   tenure            7043 non-null   int64  \n",
      " 6   PhoneService      7043 non-null   object \n",
      " 7   MultipleLines     7043 non-null   object \n",
      " 8   InternetService   7043 non-null   object \n",
      " 9   OnlineSecurity    7043 non-null   object \n",
      " 10  OnlineBackup      7043 non-null   object \n",
      " 11  DeviceProtection  7043 non-null   object \n",
      " 12  TechSupport       7043 non-null   object \n",
      " 13  StreamingTV       7043 non-null   object \n",
      " 14  StreamingMovies   7043 non-null   object \n",
      " 15  Contract          7043 non-null   object \n",
      " 16  PaperlessBilling  7043 non-null   object \n",
      " 17  PaymentMethod     7043 non-null   object \n",
      " 18  MonthlyCharges    7043 non-null   float64\n",
      " 19  TotalCharges      7032 non-null   float64\n",
      " 20  Churn             7043 non-null   object \n",
      "dtypes: float64(2), int64(2), object(17)\n",
      "memory usage: 1.1+ MB\n"
     ]
    }
   ],
   "source": [
    "#Changing the TotalCharges into a numerical dtype\n",
    "df1['TotalCharges'] = pd.to_numeric(df1['TotalCharges'],errors = 'coerce')\n",
    "df1.info()"
   ]
  },
  {
   "cell_type": "markdown",
   "metadata": {},
   "source": [
    "> By the code above, I can see that TotalCharges has been changed to float64"
   ]
  },
  {
   "cell_type": "code",
   "execution_count": 9,
   "metadata": {},
   "outputs": [
    {
     "name": "stdout",
     "output_type": "stream",
     "text": [
      "CATEGORICAL: \n",
      "customerID = ['7590-VHVEG' '5575-GNVDE' '3668-QPYBK' ... '4801-JZAZL' '8361-LTMKD'\n",
      " '3186-AJIEK']\n",
      "gender = ['Female' 'Male']\n",
      "Partner = ['Yes' 'No']\n",
      "Dependents = ['No' 'Yes']\n",
      "PhoneService = ['No' 'Yes']\n",
      "MultipleLines = ['No phone service' 'No' 'Yes']\n",
      "InternetService = ['DSL' 'Fiber optic' 'No']\n",
      "OnlineSecurity = ['No' 'Yes' 'No internet service']\n",
      "OnlineBackup = ['Yes' 'No' 'No internet service']\n",
      "DeviceProtection = ['No' 'Yes' 'No internet service']\n",
      "TechSupport = ['No' 'Yes' 'No internet service']\n",
      "StreamingTV = ['No' 'Yes' 'No internet service']\n",
      "StreamingMovies = ['No' 'Yes' 'No internet service']\n",
      "Contract = ['Month-to-month' 'One year' 'Two year']\n",
      "PaperlessBilling = ['Yes' 'No']\n",
      "PaymentMethod = ['Electronic check' 'Mailed check' 'Bank transfer (automatic)'\n",
      " 'Credit card (automatic)']\n",
      "Churn = ['No' 'Yes']\n"
     ]
    }
   ],
   "source": [
    "#Checking all the unique values for categorical data\n",
    "print('CATEGORICAL: ')\n",
    "for col in df1:\n",
    "    if df1[col].dtypes == 'object':\n",
    "        print(f'{col} = {df1[col].unique()}')"
   ]
  },
  {
   "cell_type": "markdown",
   "metadata": {},
   "source": [
    "> From the information above, I can see that there are multiple columns with useless unique values ('No internet service'), that value can be turned into 'No' and the data would still be the same. So I have decided to change it"
   ]
  },
  {
   "cell_type": "code",
   "execution_count": 10,
   "metadata": {},
   "outputs": [
    {
     "data": {
      "text/plain": [
       "array([0, 1], dtype=int64)"
      ]
     },
     "execution_count": 10,
     "metadata": {},
     "output_type": "execute_result"
    }
   ],
   "source": [
    "#Checking unique value of Senior Citizen\n",
    "df1['SeniorCitizen'].unique()"
   ]
  },
  {
   "cell_type": "markdown",
   "metadata": {},
   "source": [
    "> Here I can see that Senior Citizen is in the form a number, although not a problem, I will change it into Categorical just so it's uniformed with the others"
   ]
  },
  {
   "cell_type": "code",
   "execution_count": 11,
   "metadata": {},
   "outputs": [],
   "source": [
    "#Replacing Values in column senior citizen\n",
    "df1['SeniorCitizen'].replace(0, 'No', inplace=True)\n",
    "df1['SeniorCitizen'].replace(1, 'Yes', inplace=True)\n",
    "#Replacing Values in column Churn\n",
    "df1['Churn'].replace('No', 0, inplace=True)\n",
    "df1['Churn'].replace('Yes', 1, inplace=True)"
   ]
  },
  {
   "cell_type": "markdown",
   "metadata": {},
   "source": [
    "> By the code above, I have successfully changed the values in SeniorCitizen into an object. For column 'Churn' since it is the target and I will be removing it before I do scaling, I will change it into a form of numerical value so as it won't become a problem during the training of models"
   ]
  },
  {
   "cell_type": "code",
   "execution_count": 12,
   "metadata": {},
   "outputs": [
    {
     "name": "stdout",
     "output_type": "stream",
     "text": [
      "<class 'pandas.core.frame.DataFrame'>\n",
      "RangeIndex: 7043 entries, 0 to 7042\n",
      "Data columns (total 21 columns):\n",
      " #   Column            Non-Null Count  Dtype  \n",
      "---  ------            --------------  -----  \n",
      " 0   customerID        7043 non-null   object \n",
      " 1   gender            7043 non-null   object \n",
      " 2   SeniorCitizen     7043 non-null   object \n",
      " 3   Partner           7043 non-null   object \n",
      " 4   Dependents        7043 non-null   object \n",
      " 5   tenure            7043 non-null   int64  \n",
      " 6   PhoneService      7043 non-null   object \n",
      " 7   MultipleLines     7043 non-null   object \n",
      " 8   InternetService   7043 non-null   object \n",
      " 9   OnlineSecurity    7043 non-null   object \n",
      " 10  OnlineBackup      7043 non-null   object \n",
      " 11  DeviceProtection  7043 non-null   object \n",
      " 12  TechSupport       7043 non-null   object \n",
      " 13  StreamingTV       7043 non-null   object \n",
      " 14  StreamingMovies   7043 non-null   object \n",
      " 15  Contract          7043 non-null   object \n",
      " 16  PaperlessBilling  7043 non-null   object \n",
      " 17  PaymentMethod     7043 non-null   object \n",
      " 18  MonthlyCharges    7043 non-null   float64\n",
      " 19  TotalCharges      7032 non-null   float64\n",
      " 20  Churn             7043 non-null   int64  \n",
      "dtypes: float64(2), int64(2), object(17)\n",
      "memory usage: 1.1+ MB\n"
     ]
    }
   ],
   "source": [
    "#Checking the data information\n",
    "df1.info()"
   ]
  },
  {
   "cell_type": "markdown",
   "metadata": {},
   "source": [
    "> Since I changed all the 'problematic' columns dtypes, I just wanted to make sure it is what I hoped for and it is"
   ]
  },
  {
   "cell_type": "code",
   "execution_count": 13,
   "metadata": {},
   "outputs": [
    {
     "name": "stdout",
     "output_type": "stream",
     "text": [
      "customerID = ['7590-VHVEG' '5575-GNVDE' '3668-QPYBK' ... '4801-JZAZL' '8361-LTMKD'\n",
      " '3186-AJIEK']\n",
      "gender = ['Female' 'Male']\n",
      "SeniorCitizen = ['No' 'Yes']\n",
      "Partner = ['Yes' 'No']\n",
      "Dependents = ['No' 'Yes']\n",
      "PhoneService = ['No' 'Yes']\n",
      "MultipleLines = ['No' 'Yes']\n",
      "InternetService = ['DSL' 'Fiber optic' 'No']\n",
      "OnlineSecurity = ['No' 'Yes']\n",
      "OnlineBackup = ['Yes' 'No']\n",
      "DeviceProtection = ['No' 'Yes']\n",
      "TechSupport = ['No' 'Yes']\n",
      "StreamingTV = ['No' 'Yes']\n",
      "StreamingMovies = ['No' 'Yes']\n",
      "Contract = ['Month-to-month' 'One year' 'Two year']\n",
      "PaperlessBilling = ['Yes' 'No']\n",
      "PaymentMethod = ['Electronic check' 'Mailed check' 'Bank transfer (automatic)'\n",
      " 'Credit card (automatic)']\n"
     ]
    }
   ],
   "source": [
    "#Replacing redundant unique values\n",
    "df1.replace('No internet service', 'No', inplace=True)\n",
    "df1.replace('No phone service', 'No', inplace=True)\n",
    "#Checking all the categorical unique values\n",
    "for col in df1:\n",
    "    if df1[col].dtypes == 'object':\n",
    "        print(f'{col} = {df1[col].unique()}')"
   ]
  },
  {
   "cell_type": "markdown",
   "metadata": {},
   "source": [
    "> By the code above, I can see that the replacement has worked and has changed all the redundant unique values"
   ]
  },
  {
   "cell_type": "code",
   "execution_count": 14,
   "metadata": {},
   "outputs": [],
   "source": [
    "#Dropping column\n",
    "df1.drop('customerID', axis=1, inplace=True)"
   ]
  },
  {
   "cell_type": "markdown",
   "metadata": {},
   "source": [
    "> Here I have chosen to drop customerID because it has no use in training of the models since the values it has are all different from another, and is just there to tell it's a different customer"
   ]
  },
  {
   "cell_type": "code",
   "execution_count": 15,
   "metadata": {},
   "outputs": [
    {
     "data": {
      "text/plain": [
       "Index(['gender', 'SeniorCitizen', 'Partner', 'Dependents', 'tenure',\n",
       "       'PhoneService', 'MultipleLines', 'InternetService', 'OnlineSecurity',\n",
       "       'OnlineBackup', 'DeviceProtection', 'TechSupport', 'StreamingTV',\n",
       "       'StreamingMovies', 'Contract', 'PaperlessBilling', 'PaymentMethod',\n",
       "       'MonthlyCharges', 'TotalCharges', 'Churn'],\n",
       "      dtype='object')"
      ]
     },
     "execution_count": 15,
     "metadata": {},
     "output_type": "execute_result"
    }
   ],
   "source": [
    "#Checking the columns\n",
    "df1.columns"
   ]
  },
  {
   "cell_type": "markdown",
   "metadata": {},
   "source": [
    "------------------------\n",
    "## Exploratory Data Analysis (EDA)\n",
    "> Bagian ini berisi explorasi data pada dataset diatas dengan menggunakan query, grouping, visualisasi sederhana, dan lain sebagainya.\n",
    "\n"
   ]
  },
  {
   "cell_type": "code",
   "execution_count": 16,
   "metadata": {},
   "outputs": [
    {
     "data": {
      "text/plain": [
       "<AxesSubplot:ylabel='Churn'>"
      ]
     },
     "execution_count": 16,
     "metadata": {},
     "output_type": "execute_result"
    },
    {
     "data": {
      "image/png": "[encoded data removed]",
      "text/plain": [
       "<Figure size 432x288 with 1 Axes>"
      ]
     },
     "metadata": {},
     "output_type": "display_data"
    }
   ],
   "source": [
    "#Checking the ratio of Churnings\n",
    "df1.Churn.value_counts().sort_values().plot(kind = 'pie', autopct='%1.1f%%')"
   ]
  },
  {
   "cell_type": "markdown",
   "metadata": {},
   "source": [
    "> From the graph above, I can see that most customers (73%) choose to not churn while 26.5% of them choose to churn. Here even though the data is imbalance, I could use Smote or balancing the data because the ratio of 7:3, but it wouldn't be necessary since the imbalanced data is considered mild. But I will do so anyway"
   ]
  },
  {
   "cell_type": "code",
   "execution_count": 17,
   "metadata": {},
   "outputs": [
    {
     "data": {
      "text/plain": [
       "<AxesSubplot:xlabel='TotalCharges', ylabel='Count'>"
      ]
     },
     "execution_count": 17,
     "metadata": {},
     "output_type": "execute_result"
    },
    {
     "data": {
      "image/png": "[encoded data removed]",
      "text/plain": [
       "<Figure size 432x288 with 1 Axes>"
      ]
     },
     "metadata": {
      "needs_background": "light"
     },
     "output_type": "display_data"
    }
   ],
   "source": [
    "#Visualising Data of TotalCharges by Churn\n",
    "sns.histplot(x='TotalCharges', hue='Churn', data=df1, multiple=\"dodge\")"
   ]
  },
  {
   "cell_type": "markdown",
   "metadata": {},
   "source": [
    "> From the graph above, I can see that the most amount of people choose to churn 'yes' if they're given a low amount of TotalCharges. This could mean that they are still new towards the company/services and still hasn't given full commitment towards it"
   ]
  },
  {
   "cell_type": "code",
   "execution_count": 18,
   "metadata": {},
   "outputs": [
    {
     "data": {
      "text/plain": [
       "<AxesSubplot:xlabel='MonthlyCharges', ylabel='Count'>"
      ]
     },
     "execution_count": 18,
     "metadata": {},
     "output_type": "execute_result"
    },
    {
     "data": {
      "image/png": "[encoded data removed]",
      "text/plain": [
       "<Figure size 432x288 with 1 Axes>"
      ]
     },
     "metadata": {
      "needs_background": "light"
     },
     "output_type": "display_data"
    }
   ],
   "source": [
    "#Visualising Data of MonthlyCharges by Churn\n",
    "sns.histplot(x='MonthlyCharges', hue='Churn', data=df1, multiple=\"dodge\")"
   ]
  },
  {
   "cell_type": "markdown",
   "metadata": {},
   "source": [
    "> The graph about TotalCharges tell one story, the graph about MonthlyCharges tell us another. Here I can see that most people/customers start to churn 'yes' if they are given a Monthly Charge above 70. This could mean that they are leaving the services because they have found an alternative with cheaper MonthlyCharges"
   ]
  },
  {
   "cell_type": "code",
   "execution_count": 19,
   "metadata": {},
   "outputs": [
    {
     "data": {
      "text/plain": [
       "<AxesSubplot:xlabel='tenure', ylabel='Count'>"
      ]
     },
     "execution_count": 19,
     "metadata": {},
     "output_type": "execute_result"
    },
    {
     "data": {
      "image/png": "[encoded data removed]",
      "text/plain": [
       "<Figure size 432x288 with 1 Axes>"
      ]
     },
     "metadata": {
      "needs_background": "light"
     },
     "output_type": "display_data"
    }
   ],
   "source": [
    "#Visualising Data of tenure by Churn\n",
    "sns.histplot(x='tenure', hue='Churn', data=df1, multiple=\"dodge\")"
   ]
  },
  {
   "cell_type": "markdown",
   "metadata": {},
   "source": [
    "> From the graph above, I can see that the less time spent with the services/company the more likely it is for them to churn 'yes'. This makes sense in the real world as they do not have the commitment to stick with one service, while someone with a higher tenure rate will have a feeling of commitment towards the service/company"
   ]
  },
  {
   "cell_type": "markdown",
   "metadata": {},
   "source": [
    "------------------------\n",
    "## Data Preprocessing\n",
    "> Bagian ini berisi proses penyiapan data untuk proses pelatihan model, seperti pembagian data menjadi train-dev-test, transformasi data (normalisasi, encoding, dll.), dan proses-proses lain yang dibutuhkan."
   ]
  },
  {
   "cell_type": "markdown",
   "metadata": {},
   "source": [
    "### Data Inference"
   ]
  },
  {
   "cell_type": "code",
   "execution_count": 20,
   "metadata": {},
   "outputs": [
    {
     "data": {
      "text/html": [
       "<div>\n",
       "<style scoped>\n",
       "    .dataframe tbody tr th:only-of-type {\n",
       "        vertical-align: middle;\n",
       "    }\n",
       "\n",
       "    .dataframe tbody tr th {\n",
       "        vertical-align: top;\n",
       "    }\n",
       "\n",
       "    .dataframe thead th {\n",
       "        text-align: right;\n",
       "    }\n",
       "</style>\n",
       "<table border=\"1\" class=\"dataframe\">\n",
       "  <thead>\n",
       "    <tr style=\"text-align: right;\">\n",
       "      <th></th>\n",
       "      <th>gender</th>\n",
       "      <th>SeniorCitizen</th>\n",
       "      <th>Partner</th>\n",
       "      <th>Dependents</th>\n",
       "      <th>tenure</th>\n",
       "      <th>PhoneService</th>\n",
       "      <th>MultipleLines</th>\n",
       "      <th>InternetService</th>\n",
       "      <th>OnlineSecurity</th>\n",
       "      <th>OnlineBackup</th>\n",
       "      <th>DeviceProtection</th>\n",
       "      <th>TechSupport</th>\n",
       "      <th>StreamingTV</th>\n",
       "      <th>StreamingMovies</th>\n",
       "      <th>Contract</th>\n",
       "      <th>PaperlessBilling</th>\n",
       "      <th>PaymentMethod</th>\n",
       "      <th>MonthlyCharges</th>\n",
       "      <th>TotalCharges</th>\n",
       "      <th>Churn</th>\n",
       "    </tr>\n",
       "  </thead>\n",
       "  <tbody>\n",
       "    <tr>\n",
       "      <th>4903</th>\n",
       "      <td>Female</td>\n",
       "      <td>No</td>\n",
       "      <td>No</td>\n",
       "      <td>No</td>\n",
       "      <td>5</td>\n",
       "      <td>Yes</td>\n",
       "      <td>Yes</td>\n",
       "      <td>Fiber optic</td>\n",
       "      <td>No</td>\n",
       "      <td>Yes</td>\n",
       "      <td>No</td>\n",
       "      <td>No</td>\n",
       "      <td>Yes</td>\n",
       "      <td>No</td>\n",
       "      <td>Month-to-month</td>\n",
       "      <td>Yes</td>\n",
       "      <td>Electronic check</td>\n",
       "      <td>90.80</td>\n",
       "      <td>455.50</td>\n",
       "      <td>1</td>\n",
       "    </tr>\n",
       "    <tr>\n",
       "      <th>2695</th>\n",
       "      <td>Male</td>\n",
       "      <td>No</td>\n",
       "      <td>Yes</td>\n",
       "      <td>No</td>\n",
       "      <td>52</td>\n",
       "      <td>Yes</td>\n",
       "      <td>Yes</td>\n",
       "      <td>DSL</td>\n",
       "      <td>Yes</td>\n",
       "      <td>Yes</td>\n",
       "      <td>Yes</td>\n",
       "      <td>Yes</td>\n",
       "      <td>No</td>\n",
       "      <td>Yes</td>\n",
       "      <td>One year</td>\n",
       "      <td>Yes</td>\n",
       "      <td>Credit card (automatic)</td>\n",
       "      <td>81.40</td>\n",
       "      <td>4354.45</td>\n",
       "      <td>0</td>\n",
       "    </tr>\n",
       "    <tr>\n",
       "      <th>2184</th>\n",
       "      <td>Female</td>\n",
       "      <td>Yes</td>\n",
       "      <td>No</td>\n",
       "      <td>No</td>\n",
       "      <td>2</td>\n",
       "      <td>Yes</td>\n",
       "      <td>Yes</td>\n",
       "      <td>Fiber optic</td>\n",
       "      <td>No</td>\n",
       "      <td>No</td>\n",
       "      <td>Yes</td>\n",
       "      <td>No</td>\n",
       "      <td>No</td>\n",
       "      <td>Yes</td>\n",
       "      <td>Month-to-month</td>\n",
       "      <td>Yes</td>\n",
       "      <td>Electronic check</td>\n",
       "      <td>88.55</td>\n",
       "      <td>179.25</td>\n",
       "      <td>1</td>\n",
       "    </tr>\n",
       "    <tr>\n",
       "      <th>6024</th>\n",
       "      <td>Female</td>\n",
       "      <td>No</td>\n",
       "      <td>Yes</td>\n",
       "      <td>No</td>\n",
       "      <td>3</td>\n",
       "      <td>Yes</td>\n",
       "      <td>Yes</td>\n",
       "      <td>Fiber optic</td>\n",
       "      <td>No</td>\n",
       "      <td>Yes</td>\n",
       "      <td>No</td>\n",
       "      <td>No</td>\n",
       "      <td>No</td>\n",
       "      <td>Yes</td>\n",
       "      <td>Month-to-month</td>\n",
       "      <td>Yes</td>\n",
       "      <td>Credit card (automatic)</td>\n",
       "      <td>91.50</td>\n",
       "      <td>242.95</td>\n",
       "      <td>1</td>\n",
       "    </tr>\n",
       "    <tr>\n",
       "      <th>5861</th>\n",
       "      <td>Male</td>\n",
       "      <td>No</td>\n",
       "      <td>No</td>\n",
       "      <td>No</td>\n",
       "      <td>35</td>\n",
       "      <td>Yes</td>\n",
       "      <td>No</td>\n",
       "      <td>No</td>\n",
       "      <td>No</td>\n",
       "      <td>No</td>\n",
       "      <td>No</td>\n",
       "      <td>No</td>\n",
       "      <td>No</td>\n",
       "      <td>No</td>\n",
       "      <td>Two year</td>\n",
       "      <td>No</td>\n",
       "      <td>Mailed check</td>\n",
       "      <td>19.25</td>\n",
       "      <td>677.90</td>\n",
       "      <td>0</td>\n",
       "    </tr>\n",
       "    <tr>\n",
       "      <th>5017</th>\n",
       "      <td>Female</td>\n",
       "      <td>No</td>\n",
       "      <td>Yes</td>\n",
       "      <td>No</td>\n",
       "      <td>41</td>\n",
       "      <td>No</td>\n",
       "      <td>No</td>\n",
       "      <td>DSL</td>\n",
       "      <td>No</td>\n",
       "      <td>Yes</td>\n",
       "      <td>No</td>\n",
       "      <td>Yes</td>\n",
       "      <td>No</td>\n",
       "      <td>No</td>\n",
       "      <td>One year</td>\n",
       "      <td>No</td>\n",
       "      <td>Mailed check</td>\n",
       "      <td>35.45</td>\n",
       "      <td>1391.65</td>\n",
       "      <td>0</td>\n",
       "    </tr>\n",
       "    <tr>\n",
       "      <th>4612</th>\n",
       "      <td>Female</td>\n",
       "      <td>No</td>\n",
       "      <td>No</td>\n",
       "      <td>Yes</td>\n",
       "      <td>65</td>\n",
       "      <td>No</td>\n",
       "      <td>No</td>\n",
       "      <td>DSL</td>\n",
       "      <td>No</td>\n",
       "      <td>Yes</td>\n",
       "      <td>No</td>\n",
       "      <td>Yes</td>\n",
       "      <td>Yes</td>\n",
       "      <td>No</td>\n",
       "      <td>Two year</td>\n",
       "      <td>No</td>\n",
       "      <td>Mailed check</td>\n",
       "      <td>45.25</td>\n",
       "      <td>2933.95</td>\n",
       "      <td>0</td>\n",
       "    </tr>\n",
       "    <tr>\n",
       "      <th>5475</th>\n",
       "      <td>Male</td>\n",
       "      <td>No</td>\n",
       "      <td>No</td>\n",
       "      <td>Yes</td>\n",
       "      <td>54</td>\n",
       "      <td>Yes</td>\n",
       "      <td>Yes</td>\n",
       "      <td>DSL</td>\n",
       "      <td>No</td>\n",
       "      <td>Yes</td>\n",
       "      <td>No</td>\n",
       "      <td>No</td>\n",
       "      <td>No</td>\n",
       "      <td>No</td>\n",
       "      <td>Month-to-month</td>\n",
       "      <td>Yes</td>\n",
       "      <td>Credit card (automatic)</td>\n",
       "      <td>55.00</td>\n",
       "      <td>3092.65</td>\n",
       "      <td>1</td>\n",
       "    </tr>\n",
       "    <tr>\n",
       "      <th>1737</th>\n",
       "      <td>Female</td>\n",
       "      <td>No</td>\n",
       "      <td>Yes</td>\n",
       "      <td>No</td>\n",
       "      <td>7</td>\n",
       "      <td>Yes</td>\n",
       "      <td>No</td>\n",
       "      <td>DSL</td>\n",
       "      <td>No</td>\n",
       "      <td>No</td>\n",
       "      <td>No</td>\n",
       "      <td>No</td>\n",
       "      <td>No</td>\n",
       "      <td>No</td>\n",
       "      <td>Month-to-month</td>\n",
       "      <td>Yes</td>\n",
       "      <td>Mailed check</td>\n",
       "      <td>44.25</td>\n",
       "      <td>313.45</td>\n",
       "      <td>0</td>\n",
       "    </tr>\n",
       "    <tr>\n",
       "      <th>4700</th>\n",
       "      <td>Female</td>\n",
       "      <td>No</td>\n",
       "      <td>No</td>\n",
       "      <td>No</td>\n",
       "      <td>2</td>\n",
       "      <td>Yes</td>\n",
       "      <td>No</td>\n",
       "      <td>DSL</td>\n",
       "      <td>No</td>\n",
       "      <td>No</td>\n",
       "      <td>No</td>\n",
       "      <td>No</td>\n",
       "      <td>No</td>\n",
       "      <td>No</td>\n",
       "      <td>Month-to-month</td>\n",
       "      <td>Yes</td>\n",
       "      <td>Mailed check</td>\n",
       "      <td>45.85</td>\n",
       "      <td>105.60</td>\n",
       "      <td>0</td>\n",
       "    </tr>\n",
       "  </tbody>\n",
       "</table>\n",
       "</div>"
      ],
      "text/plain": [
       "      gender SeniorCitizen Partner Dependents  tenure PhoneService  \\\n",
       "4903  Female            No      No         No       5          Yes   \n",
       "2695    Male            No     Yes         No      52          Yes   \n",
       "2184  Female           Yes      No         No       2          Yes   \n",
       "6024  Female            No     Yes         No       3          Yes   \n",
       "5861    Male            No      No         No      35          Yes   \n",
       "5017  Female            No     Yes         No      41           No   \n",
       "4612  Female            No      No        Yes      65           No   \n",
       "5475    Male            No      No        Yes      54          Yes   \n",
       "1737  Female            No     Yes         No       7          Yes   \n",
       "4700  Female            No      No         No       2          Yes   \n",
       "\n",
       "     MultipleLines InternetService OnlineSecurity OnlineBackup  \\\n",
       "4903           Yes     Fiber optic             No          Yes   \n",
       "2695           Yes             DSL            Yes          Yes   \n",
       "2184           Yes     Fiber optic             No           No   \n",
       "6024           Yes     Fiber optic             No          Yes   \n",
       "5861            No              No             No           No   \n",
       "5017            No             DSL             No          Yes   \n",
       "4612            No             DSL             No          Yes   \n",
       "5475           Yes             DSL             No          Yes   \n",
       "1737            No             DSL             No           No   \n",
       "4700            No             DSL             No           No   \n",
       "\n",
       "     DeviceProtection TechSupport StreamingTV StreamingMovies        Contract  \\\n",
       "4903               No          No         Yes              No  Month-to-month   \n",
       "2695              Yes         Yes          No             Yes        One year   \n",
       "2184              Yes          No          No             Yes  Month-to-month   \n",
       "6024               No          No          No             Yes  Month-to-month   \n",
       "5861               No          No          No              No        Two year   \n",
       "5017               No         Yes          No              No        One year   \n",
       "4612               No         Yes         Yes              No        Two year   \n",
       "5475               No          No          No              No  Month-to-month   \n",
       "1737               No          No          No              No  Month-to-month   \n",
       "4700               No          No          No              No  Month-to-month   \n",
       "\n",
       "     PaperlessBilling            PaymentMethod  MonthlyCharges  TotalCharges  \\\n",
       "4903              Yes         Electronic check           90.80        455.50   \n",
       "2695              Yes  Credit card (automatic)           81.40       4354.45   \n",
       "2184              Yes         Electronic check           88.55        179.25   \n",
       "6024              Yes  Credit card (automatic)           91.50        242.95   \n",
       "5861               No             Mailed check           19.25        677.90   \n",
       "5017               No             Mailed check           35.45       1391.65   \n",
       "4612               No             Mailed check           45.25       2933.95   \n",
       "5475              Yes  Credit card (automatic)           55.00       3092.65   \n",
       "1737              Yes             Mailed check           44.25        313.45   \n",
       "4700              Yes             Mailed check           45.85        105.60   \n",
       "\n",
       "      Churn  \n",
       "4903      1  \n",
       "2695      0  \n",
       "2184      1  \n",
       "6024      1  \n",
       "5861      0  \n",
       "5017      0  \n",
       "4612      0  \n",
       "5475      1  \n",
       "1737      0  \n",
       "4700      0  "
      ]
     },
     "execution_count": 20,
     "metadata": {},
     "output_type": "execute_result"
    }
   ],
   "source": [
    "#Get Data for Model Inference\n",
    "data_inf = df1.sample(10, random_state=27)\n",
    "#Displaying Model inference\n",
    "data_inf"
   ]
  },
  {
   "cell_type": "code",
   "execution_count": 21,
   "metadata": {},
   "outputs": [
    {
     "data": {
      "text/html": [
       "<div>\n",
       "<style scoped>\n",
       "    .dataframe tbody tr th:only-of-type {\n",
       "        vertical-align: middle;\n",
       "    }\n",
       "\n",
       "    .dataframe tbody tr th {\n",
       "        vertical-align: top;\n",
       "    }\n",
       "\n",
       "    .dataframe thead th {\n",
       "        text-align: right;\n",
       "    }\n",
       "</style>\n",
       "<table border=\"1\" class=\"dataframe\">\n",
       "  <thead>\n",
       "    <tr style=\"text-align: right;\">\n",
       "      <th></th>\n",
       "      <th>gender</th>\n",
       "      <th>SeniorCitizen</th>\n",
       "      <th>Partner</th>\n",
       "      <th>Dependents</th>\n",
       "      <th>tenure</th>\n",
       "      <th>PhoneService</th>\n",
       "      <th>MultipleLines</th>\n",
       "      <th>InternetService</th>\n",
       "      <th>OnlineSecurity</th>\n",
       "      <th>OnlineBackup</th>\n",
       "      <th>DeviceProtection</th>\n",
       "      <th>TechSupport</th>\n",
       "      <th>StreamingTV</th>\n",
       "      <th>StreamingMovies</th>\n",
       "      <th>Contract</th>\n",
       "      <th>PaperlessBilling</th>\n",
       "      <th>PaymentMethod</th>\n",
       "      <th>MonthlyCharges</th>\n",
       "      <th>TotalCharges</th>\n",
       "      <th>Churn</th>\n",
       "    </tr>\n",
       "  </thead>\n",
       "  <tbody>\n",
       "    <tr>\n",
       "      <th>0</th>\n",
       "      <td>Female</td>\n",
       "      <td>No</td>\n",
       "      <td>Yes</td>\n",
       "      <td>No</td>\n",
       "      <td>1</td>\n",
       "      <td>No</td>\n",
       "      <td>No</td>\n",
       "      <td>DSL</td>\n",
       "      <td>No</td>\n",
       "      <td>Yes</td>\n",
       "      <td>No</td>\n",
       "      <td>No</td>\n",
       "      <td>No</td>\n",
       "      <td>No</td>\n",
       "      <td>Month-to-month</td>\n",
       "      <td>Yes</td>\n",
       "      <td>Electronic check</td>\n",
       "      <td>29.85</td>\n",
       "      <td>29.85</td>\n",
       "      <td>0</td>\n",
       "    </tr>\n",
       "    <tr>\n",
       "      <th>1</th>\n",
       "      <td>Male</td>\n",
       "      <td>No</td>\n",
       "      <td>No</td>\n",
       "      <td>No</td>\n",
       "      <td>34</td>\n",
       "      <td>Yes</td>\n",
       "      <td>No</td>\n",
       "      <td>DSL</td>\n",
       "      <td>Yes</td>\n",
       "      <td>No</td>\n",
       "      <td>Yes</td>\n",
       "      <td>No</td>\n",
       "      <td>No</td>\n",
       "      <td>No</td>\n",
       "      <td>One year</td>\n",
       "      <td>No</td>\n",
       "      <td>Mailed check</td>\n",
       "      <td>56.95</td>\n",
       "      <td>1889.50</td>\n",
       "      <td>0</td>\n",
       "    </tr>\n",
       "    <tr>\n",
       "      <th>2</th>\n",
       "      <td>Male</td>\n",
       "      <td>No</td>\n",
       "      <td>No</td>\n",
       "      <td>No</td>\n",
       "      <td>2</td>\n",
       "      <td>Yes</td>\n",
       "      <td>No</td>\n",
       "      <td>DSL</td>\n",
       "      <td>Yes</td>\n",
       "      <td>Yes</td>\n",
       "      <td>No</td>\n",
       "      <td>No</td>\n",
       "      <td>No</td>\n",
       "      <td>No</td>\n",
       "      <td>Month-to-month</td>\n",
       "      <td>Yes</td>\n",
       "      <td>Mailed check</td>\n",
       "      <td>53.85</td>\n",
       "      <td>108.15</td>\n",
       "      <td>1</td>\n",
       "    </tr>\n",
       "    <tr>\n",
       "      <th>3</th>\n",
       "      <td>Male</td>\n",
       "      <td>No</td>\n",
       "      <td>No</td>\n",
       "      <td>No</td>\n",
       "      <td>45</td>\n",
       "      <td>No</td>\n",
       "      <td>No</td>\n",
       "      <td>DSL</td>\n",
       "      <td>Yes</td>\n",
       "      <td>No</td>\n",
       "      <td>Yes</td>\n",
       "      <td>Yes</td>\n",
       "      <td>No</td>\n",
       "      <td>No</td>\n",
       "      <td>One year</td>\n",
       "      <td>No</td>\n",
       "      <td>Bank transfer (automatic)</td>\n",
       "      <td>42.30</td>\n",
       "      <td>1840.75</td>\n",
       "      <td>0</td>\n",
       "    </tr>\n",
       "    <tr>\n",
       "      <th>4</th>\n",
       "      <td>Female</td>\n",
       "      <td>No</td>\n",
       "      <td>No</td>\n",
       "      <td>No</td>\n",
       "      <td>2</td>\n",
       "      <td>Yes</td>\n",
       "      <td>No</td>\n",
       "      <td>Fiber optic</td>\n",
       "      <td>No</td>\n",
       "      <td>No</td>\n",
       "      <td>No</td>\n",
       "      <td>No</td>\n",
       "      <td>No</td>\n",
       "      <td>No</td>\n",
       "      <td>Month-to-month</td>\n",
       "      <td>Yes</td>\n",
       "      <td>Electronic check</td>\n",
       "      <td>70.70</td>\n",
       "      <td>151.65</td>\n",
       "      <td>1</td>\n",
       "    </tr>\n",
       "    <tr>\n",
       "      <th>...</th>\n",
       "      <td>...</td>\n",
       "      <td>...</td>\n",
       "      <td>...</td>\n",
       "      <td>...</td>\n",
       "      <td>...</td>\n",
       "      <td>...</td>\n",
       "      <td>...</td>\n",
       "      <td>...</td>\n",
       "      <td>...</td>\n",
       "      <td>...</td>\n",
       "      <td>...</td>\n",
       "      <td>...</td>\n",
       "      <td>...</td>\n",
       "      <td>...</td>\n",
       "      <td>...</td>\n",
       "      <td>...</td>\n",
       "      <td>...</td>\n",
       "      <td>...</td>\n",
       "      <td>...</td>\n",
       "      <td>...</td>\n",
       "    </tr>\n",
       "    <tr>\n",
       "      <th>7038</th>\n",
       "      <td>Male</td>\n",
       "      <td>No</td>\n",
       "      <td>Yes</td>\n",
       "      <td>Yes</td>\n",
       "      <td>24</td>\n",
       "      <td>Yes</td>\n",
       "      <td>Yes</td>\n",
       "      <td>DSL</td>\n",
       "      <td>Yes</td>\n",
       "      <td>No</td>\n",
       "      <td>Yes</td>\n",
       "      <td>Yes</td>\n",
       "      <td>Yes</td>\n",
       "      <td>Yes</td>\n",
       "      <td>One year</td>\n",
       "      <td>Yes</td>\n",
       "      <td>Mailed check</td>\n",
       "      <td>84.80</td>\n",
       "      <td>1990.50</td>\n",
       "      <td>0</td>\n",
       "    </tr>\n",
       "    <tr>\n",
       "      <th>7039</th>\n",
       "      <td>Female</td>\n",
       "      <td>No</td>\n",
       "      <td>Yes</td>\n",
       "      <td>Yes</td>\n",
       "      <td>72</td>\n",
       "      <td>Yes</td>\n",
       "      <td>Yes</td>\n",
       "      <td>Fiber optic</td>\n",
       "      <td>No</td>\n",
       "      <td>Yes</td>\n",
       "      <td>Yes</td>\n",
       "      <td>No</td>\n",
       "      <td>Yes</td>\n",
       "      <td>Yes</td>\n",
       "      <td>One year</td>\n",
       "      <td>Yes</td>\n",
       "      <td>Credit card (automatic)</td>\n",
       "      <td>103.20</td>\n",
       "      <td>7362.90</td>\n",
       "      <td>0</td>\n",
       "    </tr>\n",
       "    <tr>\n",
       "      <th>7040</th>\n",
       "      <td>Female</td>\n",
       "      <td>No</td>\n",
       "      <td>Yes</td>\n",
       "      <td>Yes</td>\n",
       "      <td>11</td>\n",
       "      <td>No</td>\n",
       "      <td>No</td>\n",
       "      <td>DSL</td>\n",
       "      <td>Yes</td>\n",
       "      <td>No</td>\n",
       "      <td>No</td>\n",
       "      <td>No</td>\n",
       "      <td>No</td>\n",
       "      <td>No</td>\n",
       "      <td>Month-to-month</td>\n",
       "      <td>Yes</td>\n",
       "      <td>Electronic check</td>\n",
       "      <td>29.60</td>\n",
       "      <td>346.45</td>\n",
       "      <td>0</td>\n",
       "    </tr>\n",
       "    <tr>\n",
       "      <th>7041</th>\n",
       "      <td>Male</td>\n",
       "      <td>Yes</td>\n",
       "      <td>Yes</td>\n",
       "      <td>No</td>\n",
       "      <td>4</td>\n",
       "      <td>Yes</td>\n",
       "      <td>Yes</td>\n",
       "      <td>Fiber optic</td>\n",
       "      <td>No</td>\n",
       "      <td>No</td>\n",
       "      <td>No</td>\n",
       "      <td>No</td>\n",
       "      <td>No</td>\n",
       "      <td>No</td>\n",
       "      <td>Month-to-month</td>\n",
       "      <td>Yes</td>\n",
       "      <td>Mailed check</td>\n",
       "      <td>74.40</td>\n",
       "      <td>306.60</td>\n",
       "      <td>1</td>\n",
       "    </tr>\n",
       "    <tr>\n",
       "      <th>7042</th>\n",
       "      <td>Male</td>\n",
       "      <td>No</td>\n",
       "      <td>No</td>\n",
       "      <td>No</td>\n",
       "      <td>66</td>\n",
       "      <td>Yes</td>\n",
       "      <td>No</td>\n",
       "      <td>Fiber optic</td>\n",
       "      <td>Yes</td>\n",
       "      <td>No</td>\n",
       "      <td>Yes</td>\n",
       "      <td>Yes</td>\n",
       "      <td>Yes</td>\n",
       "      <td>Yes</td>\n",
       "      <td>Two year</td>\n",
       "      <td>Yes</td>\n",
       "      <td>Bank transfer (automatic)</td>\n",
       "      <td>105.65</td>\n",
       "      <td>6844.50</td>\n",
       "      <td>0</td>\n",
       "    </tr>\n",
       "  </tbody>\n",
       "</table>\n",
       "<p>7033 rows × 20 columns</p>\n",
       "</div>"
      ],
      "text/plain": [
       "      gender SeniorCitizen Partner Dependents  tenure PhoneService  \\\n",
       "0     Female            No     Yes         No       1           No   \n",
       "1       Male            No      No         No      34          Yes   \n",
       "2       Male            No      No         No       2          Yes   \n",
       "3       Male            No      No         No      45           No   \n",
       "4     Female            No      No         No       2          Yes   \n",
       "...      ...           ...     ...        ...     ...          ...   \n",
       "7038    Male            No     Yes        Yes      24          Yes   \n",
       "7039  Female            No     Yes        Yes      72          Yes   \n",
       "7040  Female            No     Yes        Yes      11           No   \n",
       "7041    Male           Yes     Yes         No       4          Yes   \n",
       "7042    Male            No      No         No      66          Yes   \n",
       "\n",
       "     MultipleLines InternetService OnlineSecurity OnlineBackup  \\\n",
       "0               No             DSL             No          Yes   \n",
       "1               No             DSL            Yes           No   \n",
       "2               No             DSL            Yes          Yes   \n",
       "3               No             DSL            Yes           No   \n",
       "4               No     Fiber optic             No           No   \n",
       "...            ...             ...            ...          ...   \n",
       "7038           Yes             DSL            Yes           No   \n",
       "7039           Yes     Fiber optic             No          Yes   \n",
       "7040            No             DSL            Yes           No   \n",
       "7041           Yes     Fiber optic             No           No   \n",
       "7042            No     Fiber optic            Yes           No   \n",
       "\n",
       "     DeviceProtection TechSupport StreamingTV StreamingMovies        Contract  \\\n",
       "0                  No          No          No              No  Month-to-month   \n",
       "1                 Yes          No          No              No        One year   \n",
       "2                  No          No          No              No  Month-to-month   \n",
       "3                 Yes         Yes          No              No        One year   \n",
       "4                  No          No          No              No  Month-to-month   \n",
       "...               ...         ...         ...             ...             ...   \n",
       "7038              Yes         Yes         Yes             Yes        One year   \n",
       "7039              Yes          No         Yes             Yes        One year   \n",
       "7040               No          No          No              No  Month-to-month   \n",
       "7041               No          No          No              No  Month-to-month   \n",
       "7042              Yes         Yes         Yes             Yes        Two year   \n",
       "\n",
       "     PaperlessBilling              PaymentMethod  MonthlyCharges  \\\n",
       "0                 Yes           Electronic check           29.85   \n",
       "1                  No               Mailed check           56.95   \n",
       "2                 Yes               Mailed check           53.85   \n",
       "3                  No  Bank transfer (automatic)           42.30   \n",
       "4                 Yes           Electronic check           70.70   \n",
       "...               ...                        ...             ...   \n",
       "7038              Yes               Mailed check           84.80   \n",
       "7039              Yes    Credit card (automatic)          103.20   \n",
       "7040              Yes           Electronic check           29.60   \n",
       "7041              Yes               Mailed check           74.40   \n",
       "7042              Yes  Bank transfer (automatic)          105.65   \n",
       "\n",
       "      TotalCharges  Churn  \n",
       "0            29.85      0  \n",
       "1          1889.50      0  \n",
       "2           108.15      1  \n",
       "3          1840.75      0  \n",
       "4           151.65      1  \n",
       "...            ...    ...  \n",
       "7038       1990.50      0  \n",
       "7039       7362.90      0  \n",
       "7040        346.45      0  \n",
       "7041        306.60      1  \n",
       "7042       6844.50      0  \n",
       "\n",
       "[7033 rows x 20 columns]"
      ]
     },
     "execution_count": 21,
     "metadata": {},
     "output_type": "execute_result"
    }
   ],
   "source": [
    "#Remove Inference Set\n",
    "df1 = df1.drop(data_inf.index)\n",
    "#Displaying Inference\n",
    "df1"
   ]
  },
  {
   "cell_type": "code",
   "execution_count": 22,
   "metadata": {},
   "outputs": [
    {
     "data": {
      "text/html": [
       "<div>\n",
       "<style scoped>\n",
       "    .dataframe tbody tr th:only-of-type {\n",
       "        vertical-align: middle;\n",
       "    }\n",
       "\n",
       "    .dataframe tbody tr th {\n",
       "        vertical-align: top;\n",
       "    }\n",
       "\n",
       "    .dataframe thead th {\n",
       "        text-align: right;\n",
       "    }\n",
       "</style>\n",
       "<table border=\"1\" class=\"dataframe\">\n",
       "  <thead>\n",
       "    <tr style=\"text-align: right;\">\n",
       "      <th></th>\n",
       "      <th>gender</th>\n",
       "      <th>SeniorCitizen</th>\n",
       "      <th>Partner</th>\n",
       "      <th>Dependents</th>\n",
       "      <th>tenure</th>\n",
       "      <th>PhoneService</th>\n",
       "      <th>MultipleLines</th>\n",
       "      <th>InternetService</th>\n",
       "      <th>OnlineSecurity</th>\n",
       "      <th>OnlineBackup</th>\n",
       "      <th>DeviceProtection</th>\n",
       "      <th>TechSupport</th>\n",
       "      <th>StreamingTV</th>\n",
       "      <th>StreamingMovies</th>\n",
       "      <th>Contract</th>\n",
       "      <th>PaperlessBilling</th>\n",
       "      <th>PaymentMethod</th>\n",
       "      <th>MonthlyCharges</th>\n",
       "      <th>TotalCharges</th>\n",
       "      <th>Churn</th>\n",
       "    </tr>\n",
       "  </thead>\n",
       "  <tbody>\n",
       "    <tr>\n",
       "      <th>0</th>\n",
       "      <td>Female</td>\n",
       "      <td>No</td>\n",
       "      <td>No</td>\n",
       "      <td>No</td>\n",
       "      <td>5</td>\n",
       "      <td>Yes</td>\n",
       "      <td>Yes</td>\n",
       "      <td>Fiber optic</td>\n",
       "      <td>No</td>\n",
       "      <td>Yes</td>\n",
       "      <td>No</td>\n",
       "      <td>No</td>\n",
       "      <td>Yes</td>\n",
       "      <td>No</td>\n",
       "      <td>Month-to-month</td>\n",
       "      <td>Yes</td>\n",
       "      <td>Electronic check</td>\n",
       "      <td>90.80</td>\n",
       "      <td>455.50</td>\n",
       "      <td>1</td>\n",
       "    </tr>\n",
       "    <tr>\n",
       "      <th>1</th>\n",
       "      <td>Male</td>\n",
       "      <td>No</td>\n",
       "      <td>Yes</td>\n",
       "      <td>No</td>\n",
       "      <td>52</td>\n",
       "      <td>Yes</td>\n",
       "      <td>Yes</td>\n",
       "      <td>DSL</td>\n",
       "      <td>Yes</td>\n",
       "      <td>Yes</td>\n",
       "      <td>Yes</td>\n",
       "      <td>Yes</td>\n",
       "      <td>No</td>\n",
       "      <td>Yes</td>\n",
       "      <td>One year</td>\n",
       "      <td>Yes</td>\n",
       "      <td>Credit card (automatic)</td>\n",
       "      <td>81.40</td>\n",
       "      <td>4354.45</td>\n",
       "      <td>0</td>\n",
       "    </tr>\n",
       "    <tr>\n",
       "      <th>2</th>\n",
       "      <td>Female</td>\n",
       "      <td>Yes</td>\n",
       "      <td>No</td>\n",
       "      <td>No</td>\n",
       "      <td>2</td>\n",
       "      <td>Yes</td>\n",
       "      <td>Yes</td>\n",
       "      <td>Fiber optic</td>\n",
       "      <td>No</td>\n",
       "      <td>No</td>\n",
       "      <td>Yes</td>\n",
       "      <td>No</td>\n",
       "      <td>No</td>\n",
       "      <td>Yes</td>\n",
       "      <td>Month-to-month</td>\n",
       "      <td>Yes</td>\n",
       "      <td>Electronic check</td>\n",
       "      <td>88.55</td>\n",
       "      <td>179.25</td>\n",
       "      <td>1</td>\n",
       "    </tr>\n",
       "    <tr>\n",
       "      <th>3</th>\n",
       "      <td>Female</td>\n",
       "      <td>No</td>\n",
       "      <td>Yes</td>\n",
       "      <td>No</td>\n",
       "      <td>3</td>\n",
       "      <td>Yes</td>\n",
       "      <td>Yes</td>\n",
       "      <td>Fiber optic</td>\n",
       "      <td>No</td>\n",
       "      <td>Yes</td>\n",
       "      <td>No</td>\n",
       "      <td>No</td>\n",
       "      <td>No</td>\n",
       "      <td>Yes</td>\n",
       "      <td>Month-to-month</td>\n",
       "      <td>Yes</td>\n",
       "      <td>Credit card (automatic)</td>\n",
       "      <td>91.50</td>\n",
       "      <td>242.95</td>\n",
       "      <td>1</td>\n",
       "    </tr>\n",
       "    <tr>\n",
       "      <th>4</th>\n",
       "      <td>Male</td>\n",
       "      <td>No</td>\n",
       "      <td>No</td>\n",
       "      <td>No</td>\n",
       "      <td>35</td>\n",
       "      <td>Yes</td>\n",
       "      <td>No</td>\n",
       "      <td>No</td>\n",
       "      <td>No</td>\n",
       "      <td>No</td>\n",
       "      <td>No</td>\n",
       "      <td>No</td>\n",
       "      <td>No</td>\n",
       "      <td>No</td>\n",
       "      <td>Two year</td>\n",
       "      <td>No</td>\n",
       "      <td>Mailed check</td>\n",
       "      <td>19.25</td>\n",
       "      <td>677.90</td>\n",
       "      <td>0</td>\n",
       "    </tr>\n",
       "    <tr>\n",
       "      <th>5</th>\n",
       "      <td>Female</td>\n",
       "      <td>No</td>\n",
       "      <td>Yes</td>\n",
       "      <td>No</td>\n",
       "      <td>41</td>\n",
       "      <td>No</td>\n",
       "      <td>No</td>\n",
       "      <td>DSL</td>\n",
       "      <td>No</td>\n",
       "      <td>Yes</td>\n",
       "      <td>No</td>\n",
       "      <td>Yes</td>\n",
       "      <td>No</td>\n",
       "      <td>No</td>\n",
       "      <td>One year</td>\n",
       "      <td>No</td>\n",
       "      <td>Mailed check</td>\n",
       "      <td>35.45</td>\n",
       "      <td>1391.65</td>\n",
       "      <td>0</td>\n",
       "    </tr>\n",
       "    <tr>\n",
       "      <th>6</th>\n",
       "      <td>Female</td>\n",
       "      <td>No</td>\n",
       "      <td>No</td>\n",
       "      <td>Yes</td>\n",
       "      <td>65</td>\n",
       "      <td>No</td>\n",
       "      <td>No</td>\n",
       "      <td>DSL</td>\n",
       "      <td>No</td>\n",
       "      <td>Yes</td>\n",
       "      <td>No</td>\n",
       "      <td>Yes</td>\n",
       "      <td>Yes</td>\n",
       "      <td>No</td>\n",
       "      <td>Two year</td>\n",
       "      <td>No</td>\n",
       "      <td>Mailed check</td>\n",
       "      <td>45.25</td>\n",
       "      <td>2933.95</td>\n",
       "      <td>0</td>\n",
       "    </tr>\n",
       "    <tr>\n",
       "      <th>7</th>\n",
       "      <td>Male</td>\n",
       "      <td>No</td>\n",
       "      <td>No</td>\n",
       "      <td>Yes</td>\n",
       "      <td>54</td>\n",
       "      <td>Yes</td>\n",
       "      <td>Yes</td>\n",
       "      <td>DSL</td>\n",
       "      <td>No</td>\n",
       "      <td>Yes</td>\n",
       "      <td>No</td>\n",
       "      <td>No</td>\n",
       "      <td>No</td>\n",
       "      <td>No</td>\n",
       "      <td>Month-to-month</td>\n",
       "      <td>Yes</td>\n",
       "      <td>Credit card (automatic)</td>\n",
       "      <td>55.00</td>\n",
       "      <td>3092.65</td>\n",
       "      <td>1</td>\n",
       "    </tr>\n",
       "    <tr>\n",
       "      <th>8</th>\n",
       "      <td>Female</td>\n",
       "      <td>No</td>\n",
       "      <td>Yes</td>\n",
       "      <td>No</td>\n",
       "      <td>7</td>\n",
       "      <td>Yes</td>\n",
       "      <td>No</td>\n",
       "      <td>DSL</td>\n",
       "      <td>No</td>\n",
       "      <td>No</td>\n",
       "      <td>No</td>\n",
       "      <td>No</td>\n",
       "      <td>No</td>\n",
       "      <td>No</td>\n",
       "      <td>Month-to-month</td>\n",
       "      <td>Yes</td>\n",
       "      <td>Mailed check</td>\n",
       "      <td>44.25</td>\n",
       "      <td>313.45</td>\n",
       "      <td>0</td>\n",
       "    </tr>\n",
       "    <tr>\n",
       "      <th>9</th>\n",
       "      <td>Female</td>\n",
       "      <td>No</td>\n",
       "      <td>No</td>\n",
       "      <td>No</td>\n",
       "      <td>2</td>\n",
       "      <td>Yes</td>\n",
       "      <td>No</td>\n",
       "      <td>DSL</td>\n",
       "      <td>No</td>\n",
       "      <td>No</td>\n",
       "      <td>No</td>\n",
       "      <td>No</td>\n",
       "      <td>No</td>\n",
       "      <td>No</td>\n",
       "      <td>Month-to-month</td>\n",
       "      <td>Yes</td>\n",
       "      <td>Mailed check</td>\n",
       "      <td>45.85</td>\n",
       "      <td>105.60</td>\n",
       "      <td>0</td>\n",
       "    </tr>\n",
       "  </tbody>\n",
       "</table>\n",
       "</div>"
      ],
      "text/plain": [
       "   gender SeniorCitizen Partner Dependents  tenure PhoneService MultipleLines  \\\n",
       "0  Female            No      No         No       5          Yes           Yes   \n",
       "1    Male            No     Yes         No      52          Yes           Yes   \n",
       "2  Female           Yes      No         No       2          Yes           Yes   \n",
       "3  Female            No     Yes         No       3          Yes           Yes   \n",
       "4    Male            No      No         No      35          Yes            No   \n",
       "5  Female            No     Yes         No      41           No            No   \n",
       "6  Female            No      No        Yes      65           No            No   \n",
       "7    Male            No      No        Yes      54          Yes           Yes   \n",
       "8  Female            No     Yes         No       7          Yes            No   \n",
       "9  Female            No      No         No       2          Yes            No   \n",
       "\n",
       "  InternetService OnlineSecurity OnlineBackup DeviceProtection TechSupport  \\\n",
       "0     Fiber optic             No          Yes               No          No   \n",
       "1             DSL            Yes          Yes              Yes         Yes   \n",
       "2     Fiber optic             No           No              Yes          No   \n",
       "3     Fiber optic             No          Yes               No          No   \n",
       "4              No             No           No               No          No   \n",
       "5             DSL             No          Yes               No         Yes   \n",
       "6             DSL             No          Yes               No         Yes   \n",
       "7             DSL             No          Yes               No          No   \n",
       "8             DSL             No           No               No          No   \n",
       "9             DSL             No           No               No          No   \n",
       "\n",
       "  StreamingTV StreamingMovies        Contract PaperlessBilling  \\\n",
       "0         Yes              No  Month-to-month              Yes   \n",
       "1          No             Yes        One year              Yes   \n",
       "2          No             Yes  Month-to-month              Yes   \n",
       "3          No             Yes  Month-to-month              Yes   \n",
       "4          No              No        Two year               No   \n",
       "5          No              No        One year               No   \n",
       "6         Yes              No        Two year               No   \n",
       "7          No              No  Month-to-month              Yes   \n",
       "8          No              No  Month-to-month              Yes   \n",
       "9          No              No  Month-to-month              Yes   \n",
       "\n",
       "             PaymentMethod  MonthlyCharges  TotalCharges  Churn  \n",
       "0         Electronic check           90.80        455.50      1  \n",
       "1  Credit card (automatic)           81.40       4354.45      0  \n",
       "2         Electronic check           88.55        179.25      1  \n",
       "3  Credit card (automatic)           91.50        242.95      1  \n",
       "4             Mailed check           19.25        677.90      0  \n",
       "5             Mailed check           35.45       1391.65      0  \n",
       "6             Mailed check           45.25       2933.95      0  \n",
       "7  Credit card (automatic)           55.00       3092.65      1  \n",
       "8             Mailed check           44.25        313.45      0  \n",
       "9             Mailed check           45.85        105.60      0  "
      ]
     },
     "execution_count": 22,
     "metadata": {},
     "output_type": "execute_result"
    }
   ],
   "source": [
    "#Reset Index\n",
    "df1.reset_index(drop=True, inplace=True)\n",
    "data_inf.reset_index(drop=True, inplace=True)\n",
    "#Displaying Model Inference\n",
    "data_inf"
   ]
  },
  {
   "cell_type": "markdown",
   "metadata": {},
   "source": [
    "### Splitting Dataset"
   ]
  },
  {
   "cell_type": "code",
   "execution_count": 23,
   "metadata": {},
   "outputs": [
    {
     "data": {
      "text/html": [
       "<div>\n",
       "<style scoped>\n",
       "    .dataframe tbody tr th:only-of-type {\n",
       "        vertical-align: middle;\n",
       "    }\n",
       "\n",
       "    .dataframe tbody tr th {\n",
       "        vertical-align: top;\n",
       "    }\n",
       "\n",
       "    .dataframe thead th {\n",
       "        text-align: right;\n",
       "    }\n",
       "</style>\n",
       "<table border=\"1\" class=\"dataframe\">\n",
       "  <thead>\n",
       "    <tr style=\"text-align: right;\">\n",
       "      <th></th>\n",
       "      <th>gender</th>\n",
       "      <th>SeniorCitizen</th>\n",
       "      <th>Partner</th>\n",
       "      <th>Dependents</th>\n",
       "      <th>tenure</th>\n",
       "      <th>PhoneService</th>\n",
       "      <th>MultipleLines</th>\n",
       "      <th>InternetService</th>\n",
       "      <th>OnlineSecurity</th>\n",
       "      <th>OnlineBackup</th>\n",
       "      <th>DeviceProtection</th>\n",
       "      <th>TechSupport</th>\n",
       "      <th>StreamingTV</th>\n",
       "      <th>StreamingMovies</th>\n",
       "      <th>Contract</th>\n",
       "      <th>PaperlessBilling</th>\n",
       "      <th>PaymentMethod</th>\n",
       "      <th>MonthlyCharges</th>\n",
       "      <th>TotalCharges</th>\n",
       "    </tr>\n",
       "  </thead>\n",
       "  <tbody>\n",
       "    <tr>\n",
       "      <th>0</th>\n",
       "      <td>Female</td>\n",
       "      <td>No</td>\n",
       "      <td>Yes</td>\n",
       "      <td>No</td>\n",
       "      <td>1</td>\n",
       "      <td>No</td>\n",
       "      <td>No</td>\n",
       "      <td>DSL</td>\n",
       "      <td>No</td>\n",
       "      <td>Yes</td>\n",
       "      <td>No</td>\n",
       "      <td>No</td>\n",
       "      <td>No</td>\n",
       "      <td>No</td>\n",
       "      <td>Month-to-month</td>\n",
       "      <td>Yes</td>\n",
       "      <td>Electronic check</td>\n",
       "      <td>29.85</td>\n",
       "      <td>29.85</td>\n",
       "    </tr>\n",
       "    <tr>\n",
       "      <th>1</th>\n",
       "      <td>Male</td>\n",
       "      <td>No</td>\n",
       "      <td>No</td>\n",
       "      <td>No</td>\n",
       "      <td>34</td>\n",
       "      <td>Yes</td>\n",
       "      <td>No</td>\n",
       "      <td>DSL</td>\n",
       "      <td>Yes</td>\n",
       "      <td>No</td>\n",
       "      <td>Yes</td>\n",
       "      <td>No</td>\n",
       "      <td>No</td>\n",
       "      <td>No</td>\n",
       "      <td>One year</td>\n",
       "      <td>No</td>\n",
       "      <td>Mailed check</td>\n",
       "      <td>56.95</td>\n",
       "      <td>1889.50</td>\n",
       "    </tr>\n",
       "    <tr>\n",
       "      <th>2</th>\n",
       "      <td>Male</td>\n",
       "      <td>No</td>\n",
       "      <td>No</td>\n",
       "      <td>No</td>\n",
       "      <td>2</td>\n",
       "      <td>Yes</td>\n",
       "      <td>No</td>\n",
       "      <td>DSL</td>\n",
       "      <td>Yes</td>\n",
       "      <td>Yes</td>\n",
       "      <td>No</td>\n",
       "      <td>No</td>\n",
       "      <td>No</td>\n",
       "      <td>No</td>\n",
       "      <td>Month-to-month</td>\n",
       "      <td>Yes</td>\n",
       "      <td>Mailed check</td>\n",
       "      <td>53.85</td>\n",
       "      <td>108.15</td>\n",
       "    </tr>\n",
       "    <tr>\n",
       "      <th>3</th>\n",
       "      <td>Male</td>\n",
       "      <td>No</td>\n",
       "      <td>No</td>\n",
       "      <td>No</td>\n",
       "      <td>45</td>\n",
       "      <td>No</td>\n",
       "      <td>No</td>\n",
       "      <td>DSL</td>\n",
       "      <td>Yes</td>\n",
       "      <td>No</td>\n",
       "      <td>Yes</td>\n",
       "      <td>Yes</td>\n",
       "      <td>No</td>\n",
       "      <td>No</td>\n",
       "      <td>One year</td>\n",
       "      <td>No</td>\n",
       "      <td>Bank transfer (automatic)</td>\n",
       "      <td>42.30</td>\n",
       "      <td>1840.75</td>\n",
       "    </tr>\n",
       "    <tr>\n",
       "      <th>4</th>\n",
       "      <td>Female</td>\n",
       "      <td>No</td>\n",
       "      <td>No</td>\n",
       "      <td>No</td>\n",
       "      <td>2</td>\n",
       "      <td>Yes</td>\n",
       "      <td>No</td>\n",
       "      <td>Fiber optic</td>\n",
       "      <td>No</td>\n",
       "      <td>No</td>\n",
       "      <td>No</td>\n",
       "      <td>No</td>\n",
       "      <td>No</td>\n",
       "      <td>No</td>\n",
       "      <td>Month-to-month</td>\n",
       "      <td>Yes</td>\n",
       "      <td>Electronic check</td>\n",
       "      <td>70.70</td>\n",
       "      <td>151.65</td>\n",
       "    </tr>\n",
       "  </tbody>\n",
       "</table>\n",
       "</div>"
      ],
      "text/plain": [
       "   gender SeniorCitizen Partner Dependents  tenure PhoneService MultipleLines  \\\n",
       "0  Female            No     Yes         No       1           No            No   \n",
       "1    Male            No      No         No      34          Yes            No   \n",
       "2    Male            No      No         No       2          Yes            No   \n",
       "3    Male            No      No         No      45           No            No   \n",
       "4  Female            No      No         No       2          Yes            No   \n",
       "\n",
       "  InternetService OnlineSecurity OnlineBackup DeviceProtection TechSupport  \\\n",
       "0             DSL             No          Yes               No          No   \n",
       "1             DSL            Yes           No              Yes          No   \n",
       "2             DSL            Yes          Yes               No          No   \n",
       "3             DSL            Yes           No              Yes         Yes   \n",
       "4     Fiber optic             No           No               No          No   \n",
       "\n",
       "  StreamingTV StreamingMovies        Contract PaperlessBilling  \\\n",
       "0          No              No  Month-to-month              Yes   \n",
       "1          No              No        One year               No   \n",
       "2          No              No  Month-to-month              Yes   \n",
       "3          No              No        One year               No   \n",
       "4          No              No  Month-to-month              Yes   \n",
       "\n",
       "               PaymentMethod  MonthlyCharges  TotalCharges  \n",
       "0           Electronic check           29.85         29.85  \n",
       "1               Mailed check           56.95       1889.50  \n",
       "2               Mailed check           53.85        108.15  \n",
       "3  Bank transfer (automatic)           42.30       1840.75  \n",
       "4           Electronic check           70.70        151.65  "
      ]
     },
     "execution_count": 23,
     "metadata": {},
     "output_type": "execute_result"
    }
   ],
   "source": [
    "#Split between 'X' (features) and 'y' (target)\n",
    "X = df1.drop('Churn', axis=1) \n",
    "y = df1['Churn']\n",
    "X.head()"
   ]
  },
  {
   "cell_type": "markdown",
   "metadata": {},
   "source": [
    "> Here I have split it into features and target to be used in our model training"
   ]
  },
  {
   "cell_type": "code",
   "execution_count": 24,
   "metadata": {},
   "outputs": [],
   "source": [
    "#Splitting the data into train, test, and valid\n",
    "X_train_full, X_test, y_train_full, y_test = train_test_split(X, y, train_size=0.9, random_state=27)\n",
    "X_train, X_valid, y_train, y_valid = train_test_split(X_train_full, y_train_full, train_size=0.8,random_state=27)"
   ]
  },
  {
   "cell_type": "markdown",
   "metadata": {},
   "source": [
    "> Here I have split the data into 3 different parts train, test and validation. I have done so to have a validation set, so it doesn't solely depend on the train set"
   ]
  },
  {
   "cell_type": "code",
   "execution_count": 25,
   "metadata": {},
   "outputs": [
    {
     "name": "stdout",
     "output_type": "stream",
     "text": [
      "X_train: 5\n",
      "y_train: 0\n",
      "X_test: 0\n",
      "y_test; 0\n",
      "X_valid: 6\n",
      "y_valid: 0\n"
     ]
    }
   ],
   "source": [
    "#Checking for missing values\n",
    "print('X_train:', X_train.isnull().sum().sum())\n",
    "print('y_train:', y_train.isnull().sum().sum())\n",
    "print('X_test:', X_test.isnull().sum().sum())\n",
    "print('y_test;', y_test.isnull().sum().sum())\n",
    "print('X_valid:', X_valid.isnull().sum().sum())\n",
    "print('y_valid:', y_valid.isnull().sum().sum())"
   ]
  },
  {
   "cell_type": "markdown",
   "metadata": {},
   "source": [
    "> Since I can see there are some missing values, I will have to handle them below. The reason as to why Missing Values came up (eventhough the originla dataset has none) might be because I have changed/modified the data earlier"
   ]
  },
  {
   "cell_type": "markdown",
   "metadata": {},
   "source": [
    "### Handling Missing Values"
   ]
  },
  {
   "cell_type": "code",
   "execution_count": 26,
   "metadata": {},
   "outputs": [
    {
     "data": {
      "text/plain": [
       "gender              0\n",
       "SeniorCitizen       0\n",
       "Partner             0\n",
       "Dependents          0\n",
       "tenure              0\n",
       "PhoneService        0\n",
       "MultipleLines       0\n",
       "InternetService     0\n",
       "OnlineSecurity      0\n",
       "OnlineBackup        0\n",
       "DeviceProtection    0\n",
       "TechSupport         0\n",
       "StreamingTV         0\n",
       "StreamingMovies     0\n",
       "Contract            0\n",
       "PaperlessBilling    0\n",
       "PaymentMethod       0\n",
       "MonthlyCharges      0\n",
       "TotalCharges        5\n",
       "dtype: int64"
      ]
     },
     "execution_count": 26,
     "metadata": {},
     "output_type": "execute_result"
    }
   ],
   "source": [
    "#Checking where is the missing values\n",
    "X_train.isnull().sum()"
   ]
  },
  {
   "cell_type": "code",
   "execution_count": 27,
   "metadata": {},
   "outputs": [
    {
     "data": {
      "text/plain": [
       "gender              0\n",
       "SeniorCitizen       0\n",
       "Partner             0\n",
       "Dependents          0\n",
       "tenure              0\n",
       "PhoneService        0\n",
       "MultipleLines       0\n",
       "InternetService     0\n",
       "OnlineSecurity      0\n",
       "OnlineBackup        0\n",
       "DeviceProtection    0\n",
       "TechSupport         0\n",
       "StreamingTV         0\n",
       "StreamingMovies     0\n",
       "Contract            0\n",
       "PaperlessBilling    0\n",
       "PaymentMethod       0\n",
       "MonthlyCharges      0\n",
       "TotalCharges        0\n",
       "dtype: int64"
      ]
     },
     "execution_count": 27,
     "metadata": {},
     "output_type": "execute_result"
    }
   ],
   "source": [
    "#Checking where is the missing values\n",
    "X_test.isnull().sum()"
   ]
  },
  {
   "cell_type": "code",
   "execution_count": 28,
   "metadata": {},
   "outputs": [
    {
     "data": {
      "text/plain": [
       "gender              0\n",
       "SeniorCitizen       0\n",
       "Partner             0\n",
       "Dependents          0\n",
       "tenure              0\n",
       "PhoneService        0\n",
       "MultipleLines       0\n",
       "InternetService     0\n",
       "OnlineSecurity      0\n",
       "OnlineBackup        0\n",
       "DeviceProtection    0\n",
       "TechSupport         0\n",
       "StreamingTV         0\n",
       "StreamingMovies     0\n",
       "Contract            0\n",
       "PaperlessBilling    0\n",
       "PaymentMethod       0\n",
       "MonthlyCharges      0\n",
       "TotalCharges        6\n",
       "dtype: int64"
      ]
     },
     "execution_count": 28,
     "metadata": {},
     "output_type": "execute_result"
    }
   ],
   "source": [
    "#Checking where is the missing values\n",
    "X_valid.isnull().sum()"
   ]
  },
  {
   "cell_type": "markdown",
   "metadata": {},
   "source": [
    "> From checking where all the missing values are I can see that all of them are from TotalCharges, this makes sense because I have changed/manipulated the data earlier (so it didn't just randomly popped up)"
   ]
  },
  {
   "cell_type": "code",
   "execution_count": 29,
   "metadata": {},
   "outputs": [
    {
     "data": {
      "text/html": [
       "<div>\n",
       "<style scoped>\n",
       "    .dataframe tbody tr th:only-of-type {\n",
       "        vertical-align: middle;\n",
       "    }\n",
       "\n",
       "    .dataframe tbody tr th {\n",
       "        vertical-align: top;\n",
       "    }\n",
       "\n",
       "    .dataframe thead th {\n",
       "        text-align: right;\n",
       "    }\n",
       "</style>\n",
       "<table border=\"1\" class=\"dataframe\">\n",
       "  <thead>\n",
       "    <tr style=\"text-align: right;\">\n",
       "      <th></th>\n",
       "      <th>gender</th>\n",
       "      <th>SeniorCitizen</th>\n",
       "      <th>Partner</th>\n",
       "      <th>Dependents</th>\n",
       "      <th>tenure</th>\n",
       "      <th>PhoneService</th>\n",
       "      <th>MultipleLines</th>\n",
       "      <th>InternetService</th>\n",
       "      <th>OnlineSecurity</th>\n",
       "      <th>OnlineBackup</th>\n",
       "      <th>DeviceProtection</th>\n",
       "      <th>TechSupport</th>\n",
       "      <th>StreamingTV</th>\n",
       "      <th>StreamingMovies</th>\n",
       "      <th>Contract</th>\n",
       "      <th>PaperlessBilling</th>\n",
       "      <th>PaymentMethod</th>\n",
       "      <th>MonthlyCharges</th>\n",
       "      <th>TotalCharges</th>\n",
       "    </tr>\n",
       "  </thead>\n",
       "  <tbody>\n",
       "    <tr>\n",
       "      <th>3823</th>\n",
       "      <td>Male</td>\n",
       "      <td>No</td>\n",
       "      <td>Yes</td>\n",
       "      <td>Yes</td>\n",
       "      <td>0</td>\n",
       "      <td>Yes</td>\n",
       "      <td>Yes</td>\n",
       "      <td>No</td>\n",
       "      <td>No</td>\n",
       "      <td>No</td>\n",
       "      <td>No</td>\n",
       "      <td>No</td>\n",
       "      <td>No</td>\n",
       "      <td>No</td>\n",
       "      <td>Two year</td>\n",
       "      <td>No</td>\n",
       "      <td>Mailed check</td>\n",
       "      <td>25.35</td>\n",
       "      <td>NaN</td>\n",
       "    </tr>\n",
       "    <tr>\n",
       "      <th>5211</th>\n",
       "      <td>Male</td>\n",
       "      <td>No</td>\n",
       "      <td>Yes</td>\n",
       "      <td>Yes</td>\n",
       "      <td>0</td>\n",
       "      <td>Yes</td>\n",
       "      <td>No</td>\n",
       "      <td>No</td>\n",
       "      <td>No</td>\n",
       "      <td>No</td>\n",
       "      <td>No</td>\n",
       "      <td>No</td>\n",
       "      <td>No</td>\n",
       "      <td>No</td>\n",
       "      <td>One year</td>\n",
       "      <td>Yes</td>\n",
       "      <td>Mailed check</td>\n",
       "      <td>19.70</td>\n",
       "      <td>NaN</td>\n",
       "    </tr>\n",
       "    <tr>\n",
       "      <th>936</th>\n",
       "      <td>Female</td>\n",
       "      <td>No</td>\n",
       "      <td>Yes</td>\n",
       "      <td>Yes</td>\n",
       "      <td>0</td>\n",
       "      <td>Yes</td>\n",
       "      <td>No</td>\n",
       "      <td>DSL</td>\n",
       "      <td>Yes</td>\n",
       "      <td>Yes</td>\n",
       "      <td>Yes</td>\n",
       "      <td>No</td>\n",
       "      <td>Yes</td>\n",
       "      <td>Yes</td>\n",
       "      <td>Two year</td>\n",
       "      <td>No</td>\n",
       "      <td>Mailed check</td>\n",
       "      <td>80.85</td>\n",
       "      <td>NaN</td>\n",
       "    </tr>\n",
       "    <tr>\n",
       "      <th>488</th>\n",
       "      <td>Female</td>\n",
       "      <td>No</td>\n",
       "      <td>Yes</td>\n",
       "      <td>Yes</td>\n",
       "      <td>0</td>\n",
       "      <td>No</td>\n",
       "      <td>No</td>\n",
       "      <td>DSL</td>\n",
       "      <td>Yes</td>\n",
       "      <td>No</td>\n",
       "      <td>Yes</td>\n",
       "      <td>Yes</td>\n",
       "      <td>Yes</td>\n",
       "      <td>No</td>\n",
       "      <td>Two year</td>\n",
       "      <td>Yes</td>\n",
       "      <td>Bank transfer (automatic)</td>\n",
       "      <td>52.55</td>\n",
       "      <td>NaN</td>\n",
       "    </tr>\n",
       "    <tr>\n",
       "      <th>6660</th>\n",
       "      <td>Female</td>\n",
       "      <td>No</td>\n",
       "      <td>Yes</td>\n",
       "      <td>Yes</td>\n",
       "      <td>0</td>\n",
       "      <td>Yes</td>\n",
       "      <td>Yes</td>\n",
       "      <td>DSL</td>\n",
       "      <td>No</td>\n",
       "      <td>Yes</td>\n",
       "      <td>Yes</td>\n",
       "      <td>Yes</td>\n",
       "      <td>Yes</td>\n",
       "      <td>No</td>\n",
       "      <td>Two year</td>\n",
       "      <td>No</td>\n",
       "      <td>Mailed check</td>\n",
       "      <td>73.35</td>\n",
       "      <td>NaN</td>\n",
       "    </tr>\n",
       "  </tbody>\n",
       "</table>\n",
       "</div>"
      ],
      "text/plain": [
       "      gender SeniorCitizen Partner Dependents  tenure PhoneService  \\\n",
       "3823    Male            No     Yes        Yes       0          Yes   \n",
       "5211    Male            No     Yes        Yes       0          Yes   \n",
       "936   Female            No     Yes        Yes       0          Yes   \n",
       "488   Female            No     Yes        Yes       0           No   \n",
       "6660  Female            No     Yes        Yes       0          Yes   \n",
       "\n",
       "     MultipleLines InternetService OnlineSecurity OnlineBackup  \\\n",
       "3823           Yes              No             No           No   \n",
       "5211            No              No             No           No   \n",
       "936             No             DSL            Yes          Yes   \n",
       "488             No             DSL            Yes           No   \n",
       "6660           Yes             DSL             No          Yes   \n",
       "\n",
       "     DeviceProtection TechSupport StreamingTV StreamingMovies  Contract  \\\n",
       "3823               No          No          No              No  Two year   \n",
       "5211               No          No          No              No  One year   \n",
       "936               Yes          No         Yes             Yes  Two year   \n",
       "488               Yes         Yes         Yes              No  Two year   \n",
       "6660              Yes         Yes         Yes              No  Two year   \n",
       "\n",
       "     PaperlessBilling              PaymentMethod  MonthlyCharges  TotalCharges  \n",
       "3823               No               Mailed check           25.35           NaN  \n",
       "5211              Yes               Mailed check           19.70           NaN  \n",
       "936                No               Mailed check           80.85           NaN  \n",
       "488               Yes  Bank transfer (automatic)           52.55           NaN  \n",
       "6660               No               Mailed check           73.35           NaN  "
      ]
     },
     "execution_count": 29,
     "metadata": {},
     "output_type": "execute_result"
    }
   ],
   "source": [
    "#Checking the Missing Values\n",
    "X_train[X_train['TotalCharges'].isnull()]"
   ]
  },
  {
   "cell_type": "code",
   "execution_count": 30,
   "metadata": {},
   "outputs": [
    {
     "name": "stderr",
     "output_type": "stream",
     "text": [
      "C:\\Users\\Hugo\\AppData\\Local\\Temp/ipykernel_17816/836351862.py:2: FutureWarning: Dropping of nuisance columns in DataFrame reductions (with 'numeric_only=None') is deprecated; in a future version this will raise TypeError.  Select only valid columns before calling the reduction.\n",
      "  X_train.fillna(X_train.median(), inplace=True)\n",
      "C:\\Users\\Hugo\\AppData\\Local\\Temp/ipykernel_17816/836351862.py:3: FutureWarning: Dropping of nuisance columns in DataFrame reductions (with 'numeric_only=None') is deprecated; in a future version this will raise TypeError.  Select only valid columns before calling the reduction.\n",
      "  X_test.fillna(X_test.median(), inplace=True)\n",
      "C:\\Users\\Hugo\\AppData\\Local\\Temp/ipykernel_17816/836351862.py:4: FutureWarning: Dropping of nuisance columns in DataFrame reductions (with 'numeric_only=None') is deprecated; in a future version this will raise TypeError.  Select only valid columns before calling the reduction.\n",
      "  X_valid.fillna(X_valid.median(), inplace=True)\n"
     ]
    }
   ],
   "source": [
    "#Filling the missing values\n",
    "X_train.fillna(X_train.median(), inplace=True)\n",
    "X_test.fillna(X_test.median(), inplace=True)\n",
    "X_valid.fillna(X_valid.median(), inplace=True)"
   ]
  },
  {
   "cell_type": "markdown",
   "metadata": {},
   "source": [
    "> Here I have chosen to use median to fill up the missing values because TotalCharges was RightSkewed, and one of the ways to handle missing values of Skewed Distribution is to use the median value"
   ]
  },
  {
   "cell_type": "code",
   "execution_count": 31,
   "metadata": {},
   "outputs": [
    {
     "name": "stdout",
     "output_type": "stream",
     "text": [
      "X_train: 0\n",
      "y_train: 0\n",
      "X_test: 0\n",
      "y_test; 0\n",
      "X_valid: 0\n",
      "y_valid: 0\n"
     ]
    }
   ],
   "source": [
    "#Checking for missing value\n",
    "print('X_train:', X_train.isnull().sum().sum())\n",
    "print('y_train:', y_train.isnull().sum().sum())\n",
    "print('X_test:', X_test.isnull().sum().sum())\n",
    "print('y_test;', y_test.isnull().sum().sum())\n",
    "print('X_valid:', X_valid.isnull().sum().sum())\n",
    "print('y_valid:', y_valid.isnull().sum().sum())"
   ]
  },
  {
   "cell_type": "markdown",
   "metadata": {},
   "source": [
    "> I can see that all the missing values has been dealt with, now moving onto the Outliers"
   ]
  },
  {
   "cell_type": "markdown",
   "metadata": {},
   "source": [
    "### Handling Outliers"
   ]
  },
  {
   "cell_type": "code",
   "execution_count": 32,
   "metadata": {},
   "outputs": [],
   "source": [
    "# Looping to check the Distribution of each column\n",
    "dist_check = X_train_full.skew(numeric_only=True)\n",
    "\n",
    "normal_dist = []\n",
    "skew_dist = []\n",
    "for x in range(len(dist_check)):\n",
    "    if dist_check.values[x] < -0.5:\n",
    "        skew_dist.append(dist_check.index[x])\n",
    "    elif dist_check.values[x] > 0.5:\n",
    "        skew_dist.append(dist_check.index[x])\n",
    "    else:\n",
    "        normal_dist.append(dist_check.index[x])"
   ]
  },
  {
   "cell_type": "code",
   "execution_count": 33,
   "metadata": {},
   "outputs": [
    {
     "name": "stdout",
     "output_type": "stream",
     "text": [
      "Skewed distribution : ['TotalCharges']\n",
      "\n",
      "Normal distribution : ['tenure', 'MonthlyCharges']\n"
     ]
    }
   ],
   "source": [
    "# Skewed distribution\n",
    "print('Skewed distribution :', skew_dist)\n",
    "print(\"\")\n",
    "# Normal distribution\n",
    "print('Normal distribution :',normal_dist)"
   ]
  },
  {
   "cell_type": "markdown",
   "metadata": {},
   "source": [
    "> Here I have shown the distribution of the data because I wanted to know how to deal with the outliers better"
   ]
  },
  {
   "cell_type": "code",
   "execution_count": 34,
   "metadata": {},
   "outputs": [],
   "source": [
    "#Making a function to check the outliers of the data with Normal Distributed \n",
    "def detect_normal(df, variable):\n",
    "    \n",
    "    threshold = 1.5\n",
    "    mean_ = np.mean(df[variable])\n",
    "    std_ = np.std(df[variable])\n",
    "\n",
    "    upper_count = df[\n",
    "                    ((df[variable]-mean_)/std_) > threshold\n",
    "                    ][variable].count()\n",
    "\n",
    "    bottom_count = df[\n",
    "                    ((df[variable]-mean_)/std_) < -threshold\n",
    "                    ][variable].count()\n",
    "\n",
    "    total_count = upper_count + bottom_count\n",
    "\n",
    "    percentage = (total_count/len(df[variable])*100)\n",
    "\n",
    "    a = ({'Variable':variable, 'Total Outliers':total_count, 'Percentage':percentage})\n",
    "\n",
    "    return print(a)"
   ]
  },
  {
   "cell_type": "code",
   "execution_count": 35,
   "metadata": {},
   "outputs": [
    {
     "name": "stdout",
     "output_type": "stream",
     "text": [
      "X_train\n",
      "{'Variable': 'tenure', 'Total Outliers': 478, 'Percentage': 9.441042859964448}\n",
      "{'Variable': 'MonthlyCharges', 'Total Outliers': 333, 'Percentage': 6.57712818487063}\n"
     ]
    }
   ],
   "source": [
    "#Checking the outliers in the normal range\n",
    "print('X_train')\n",
    "for x in normal_dist:\n",
    "    detect_normal(X_train, variable=x)"
   ]
  },
  {
   "cell_type": "markdown",
   "metadata": {},
   "source": [
    "> From the code above, I can see that the outliers is less than 10% of the total data. There are 2 ways to handle that; first one being to trim it off, and the second being to censor it. Here I have chosen to censor the data because I would like to trim the data if it is less than 5-4% of the total data"
   ]
  },
  {
   "cell_type": "code",
   "execution_count": 36,
   "metadata": {},
   "outputs": [],
   "source": [
    "#Censoring\n",
    "windsoriser = Winsorizer(capping_method='gaussian', \n",
    "                          tail='both',  #Censor both the right and left end outliers\n",
    "                          fold=1.5, \n",
    "                          variables=['tenure', 'MonthlyCharges'])\n",
    "\n",
    "windsoriser.fit(X_train)\n",
    "\n",
    "X_train_cen = windsoriser.transform(X_train)"
   ]
  },
  {
   "cell_type": "code",
   "execution_count": 37,
   "metadata": {},
   "outputs": [],
   "source": [
    "#Making a function to check the outliers of the data with Skewed Distributed \n",
    "def detect_skew(df, variable, distance):\n",
    "    \n",
    "    for i in variable:\n",
    "        \n",
    "        IQR = df[variable].quantile(0.75) - df[variable].quantile(0.25)\n",
    "        lower_boundary = df[variable].quantile(0.25) - (IQR * distance)\n",
    "        upper_boundary = df[variable].quantile(0.75) + (IQR * distance)\n",
    "\n",
    "        upper_boundary_count = df[(df[variable] > upper_boundary)][variable].count()\n",
    "\n",
    "        lower_boundary_count = df[(df[variable] < lower_boundary)][variable].count()\n",
    "        \n",
    "        total_count = upper_boundary_count + lower_boundary_count\n",
    "\n",
    "        percentage = (total_count/len(df[variable])*100)\n",
    "\n",
    "        a = ({'Variable':variable, 'Total Outliers':total_count, 'Percentage':percentage})\n",
    "\n",
    "    return print(a)"
   ]
  },
  {
   "cell_type": "code",
   "execution_count": 38,
   "metadata": {},
   "outputs": [
    {
     "name": "stdout",
     "output_type": "stream",
     "text": [
      "{'Variable': 'TotalCharges', 'Total Outliers': 0, 'Percentage': 0.0}\n"
     ]
    }
   ],
   "source": [
    "#Checking the outliers in the extreme range\n",
    "for i in skew_dist:\n",
    "    detect_skew(X_train_cen, variable=i, distance=1.5)"
   ]
  },
  {
   "cell_type": "markdown",
   "metadata": {},
   "source": [
    "> Since TotalCharges doesn't have any outliers, I will leave it as it is"
   ]
  },
  {
   "cell_type": "markdown",
   "metadata": {},
   "source": [
    "### Split"
   ]
  },
  {
   "cell_type": "code",
   "execution_count": 39,
   "metadata": {},
   "outputs": [
    {
     "name": "stdout",
     "output_type": "stream",
     "text": [
      "Numerical Columns:  ['tenure', 'MonthlyCharges', 'TotalCharges']\n",
      "Categorical Columns: ['gender', 'SeniorCitizen', 'Partner', 'Dependents', 'PhoneService', 'MultipleLines', 'InternetService', 'OnlineSecurity', 'OnlineBackup', 'DeviceProtection', 'TechSupport', 'StreamingTV', 'StreamingMovies', 'Contract', 'PaperlessBilling', 'PaymentMethod']\n"
     ]
    }
   ],
   "source": [
    "#Getting Numerical and Categorical Column \n",
    "num_column = X_train_cen.select_dtypes(include=np.number).columns.tolist()\n",
    "cat_column = X_train_cen.select_dtypes(include=['object']).columns.tolist()\n",
    "\n",
    "print('Numerical Columns: ', num_column)\n",
    "print('Categorical Columns:', cat_column)"
   ]
  },
  {
   "cell_type": "code",
   "execution_count": 40,
   "metadata": {},
   "outputs": [],
   "source": [
    "#Split Train set and Test set based on COlummn type\n",
    "X_train_num = X_train[num_column]\n",
    "X_train_cat = X_train[cat_column]\n",
    "\n",
    "X_valid_num = X_valid[num_column]\n",
    "X_valid_cat = X_valid[cat_column]\n",
    "\n",
    "X_test_num = X_test[num_column]\n",
    "X_test_cat = X_test[cat_column]"
   ]
  },
  {
   "cell_type": "markdown",
   "metadata": {},
   "source": [
    "### Feature Scaling"
   ]
  },
  {
   "cell_type": "code",
   "execution_count": 41,
   "metadata": {},
   "outputs": [
    {
     "data": {
      "text/plain": [
       "array([[ 0.59150686,  0.67868654,  0.76729264],\n",
       "       [ 1.60611522,  0.82779293,  1.84612133],\n",
       "       [ 1.48436221,  1.29996318,  2.17507042],\n",
       "       ...,\n",
       "       [ 1.20027187,  1.68101285,  2.1300098 ],\n",
       "       [ 0.42916952,  0.70519434,  0.5510717 ],\n",
       "       [-1.27537253, -0.99793201, -0.98827697]])"
      ]
     },
     "execution_count": 41,
     "metadata": {},
     "output_type": "execute_result"
    }
   ],
   "source": [
    "scaler = StandardScaler()\n",
    "X_train_num_scaled = scaler.fit_transform(X_train_num)\n",
    "X_valid_num_scaled  = scaler.transform(X_valid_num)\n",
    "X_test_num_scaled  = scaler.transform(X_test_num)\n",
    "X_train_num_scaled"
   ]
  },
  {
   "cell_type": "markdown",
   "metadata": {},
   "source": [
    "> Here I have chosen to use Standard Scaler because the majority of the numerical data are Normally Distributed"
   ]
  },
  {
   "cell_type": "markdown",
   "metadata": {},
   "source": [
    "### Feature Encoding"
   ]
  },
  {
   "cell_type": "code",
   "execution_count": 42,
   "metadata": {},
   "outputs": [
    {
     "data": {
      "text/plain": [
       "array([[0., 0., 1., ..., 0., 1., 2.],\n",
       "       [0., 0., 1., ..., 2., 0., 1.],\n",
       "       [1., 0., 0., ..., 1., 1., 0.],\n",
       "       ...,\n",
       "       [1., 0., 1., ..., 2., 0., 0.],\n",
       "       [1., 0., 1., ..., 0., 1., 1.],\n",
       "       [0., 0., 0., ..., 0., 1., 2.]])"
      ]
     },
     "execution_count": 42,
     "metadata": {},
     "output_type": "execute_result"
    }
   ],
   "source": [
    "#Encoding Catergorical Columns\n",
    "encoder = OrdinalEncoder()\n",
    "X_train_cat_enc = encoder.fit_transform(X_train_cat)\n",
    "X_valid_cat_enc  = encoder.transform(X_valid_cat)\n",
    "X_test_cat_enc = encoder.transform(X_test_cat)\n",
    "\n",
    "X_train_cat_enc"
   ]
  },
  {
   "cell_type": "markdown",
   "metadata": {},
   "source": [
    "> Here I have chosen to use Ordinal Encoder because the unique values are not as much, and in my opinion doesn't need to be ranked using OneHotEncoder"
   ]
  },
  {
   "cell_type": "code",
   "execution_count": 43,
   "metadata": {},
   "outputs": [
    {
     "data": {
      "text/plain": [
       "array([[ 0.59150686,  0.67868654,  0.76729264, ...,  0.        ,\n",
       "         1.        ,  2.        ],\n",
       "       [ 1.60611522,  0.82779293,  1.84612133, ...,  2.        ,\n",
       "         0.        ,  1.        ],\n",
       "       [ 1.48436221,  1.29996318,  2.17507042, ...,  1.        ,\n",
       "         1.        ,  0.        ],\n",
       "       ...,\n",
       "       [ 1.20027187,  1.68101285,  2.1300098 , ...,  2.        ,\n",
       "         0.        ,  0.        ],\n",
       "       [ 0.42916952,  0.70519434,  0.5510717 , ...,  0.        ,\n",
       "         1.        ,  1.        ],\n",
       "       [-1.27537253, -0.99793201, -0.98827697, ...,  0.        ,\n",
       "         1.        ,  2.        ]])"
      ]
     },
     "execution_count": 43,
     "metadata": {},
     "output_type": "execute_result"
    }
   ],
   "source": [
    "#Concate Columns\n",
    "X_train_final = np.concatenate((X_train_num_scaled, X_train_cat_enc), axis=1)\n",
    "X_valid_final = np.concatenate((X_valid_num_scaled, X_valid_cat_enc), axis=1)\n",
    "X_test_final = np.concatenate((X_test_num_scaled, X_test_cat_enc), axis=1)\n",
    "\n",
    "X_train_final"
   ]
  },
  {
   "cell_type": "code",
   "execution_count": 44,
   "metadata": {},
   "outputs": [],
   "source": [
    "#Display as dataframe\n",
    "X_train_final_df = pd.DataFrame(X_train_final, columns=[num_column+cat_column])\n",
    "X_valid_final_df = pd.DataFrame(X_valid_final, columns=[num_column+cat_column])\n",
    "X_test_final_df = pd.DataFrame(X_test_final, columns=[num_column+cat_column])"
   ]
  },
  {
   "cell_type": "markdown",
   "metadata": {},
   "source": [
    "> I have made the train, valid and test sets into dataframes just incase I want to explore"
   ]
  },
  {
   "cell_type": "markdown",
   "metadata": {},
   "source": [
    "### Feature Selection"
   ]
  },
  {
   "cell_type": "code",
   "execution_count": 45,
   "metadata": {},
   "outputs": [
    {
     "data": {
      "text/plain": [
       "TotalCharges        0.193167\n",
       "MonthlyCharges      0.191388\n",
       "tenure              0.159639\n",
       "Contract            0.085546\n",
       "PaymentMethod       0.054851\n",
       "InternetService     0.047492\n",
       "gender              0.028406\n",
       "PaperlessBilling    0.027478\n",
       "TechSupport         0.024979\n",
       "OnlineSecurity      0.023275\n",
       "Partner             0.022811\n",
       "OnlineBackup        0.020733\n",
       "SeniorCitizen       0.020112\n",
       "MultipleLines       0.019788\n",
       "DeviceProtection    0.019461\n",
       "Dependents          0.018800\n",
       "StreamingMovies     0.018258\n",
       "StreamingTV         0.016640\n",
       "PhoneService        0.007178\n",
       "dtype: float64"
      ]
     },
     "execution_count": 45,
     "metadata": {},
     "output_type": "execute_result"
    }
   ],
   "source": [
    "#Checking the Feature importance of each column\n",
    "fs = RandomForestClassifier()\n",
    "fs.fit(X_train_final_df, y_train)\n",
    "feature_scores = pd.Series(fs.feature_importances_, index=X_train_final_df.columns).sort_values(ascending=False)\n",
    "\n",
    "#Displating the scores\n",
    "feature_scores"
   ]
  },
  {
   "cell_type": "markdown",
   "metadata": {},
   "source": [
    "> From the scores above, I can see that nearly every column has an importance of above 1% except for Phone Service with only a 0.5% importance score. With that I will be dropping PhoneService as it has the least amount of importance compared to the others"
   ]
  },
  {
   "cell_type": "code",
   "execution_count": 46,
   "metadata": {},
   "outputs": [
    {
     "name": "stderr",
     "output_type": "stream",
     "text": [
      "c:\\Users\\Hugo\\anaconda3\\lib\\site-packages\\pandas\\core\\generic.py:4150: PerformanceWarning: dropping on a non-lexsorted multi-index without a level parameter may impact performance.\n",
      "  obj = obj._drop_axis(labels, axis, level=level, errors=errors)\n"
     ]
    }
   ],
   "source": [
    "#Dropping least important feature\n",
    "X_train_final_df.drop(['PhoneService'], axis=1, inplace=True)\n",
    "X_valid_final_df.drop(['PhoneService'], axis=1, inplace=True)\n",
    "X_test_final_df.drop(['PhoneService'], axis=1, inplace=True)"
   ]
  },
  {
   "cell_type": "code",
   "execution_count": 47,
   "metadata": {},
   "outputs": [],
   "source": [
    "#Pipeline for Scaling and Encoding\n",
    "numeric_transformer = Pipeline(steps=[(\"imputer\", SimpleImputer(strategy=\"median\")), (\"scaler\", StandardScaler())])\n",
    "categorical_transformer = Pipeline(steps=[ (\"encoder\", OrdinalEncoder())])\n",
    "\n",
    "#Columns to use\n",
    "num_columns =  ['tenure', 'MonthlyCharges', 'TotalCharges']\n",
    "cat_columns = ['gender', 'SeniorCitizen', 'Partner', 'Dependents',  'MultipleLines', 'InternetService', 'OnlineSecurity', 'OnlineBackup', \n",
    "                'DeviceProtection', 'TechSupport', 'StreamingTV', 'StreamingMovies', 'Contract', 'PaperlessBilling', 'PaymentMethod']\n",
    "\n",
    "#Combining the Pipelines together\n",
    "preprocessor = ColumnTransformer(\n",
    "    transformers=[\n",
    "        (\"num\", numeric_transformer, num_columns),\n",
    "        (\"cat\", categorical_transformer, cat_columns),\n",
    "    ])"
   ]
  },
  {
   "cell_type": "markdown",
   "metadata": {},
   "source": [
    "> Even though I've already done manual preprocessing, I've made it into a pipeline to ease the use incase of deployment. So I'm just utilizing it to see if it work when I do deploy using the train, valid and test set in this notebook"
   ]
  },
  {
   "cell_type": "code",
   "execution_count": 48,
   "metadata": {},
   "outputs": [],
   "source": [
    "# Preprocess the split dataset\n",
    "Xtrain = preprocessor.fit_transform(X_train)\n",
    "X_valid_final = preprocessor.transform(X_valid)\n",
    "X_test_final = preprocessor.transform(X_test)\n",
    "\n",
    "# Input Pipeline\n",
    "train_data = data.Dataset.from_tensor_slices((Xtrain, y_train)).batch(32)\n",
    "valid_data = data.Dataset.from_tensor_slices((X_valid_final, y_valid)).batch(32)\n",
    "test_data = data.Dataset.from_tensor_slices((X_test_final, y_test)).batch(32)"
   ]
  },
  {
   "cell_type": "markdown",
   "metadata": {},
   "source": [
    "> After preprocessing the train, test, and valid sets; I have inputted a pipeline from tensorflow so it's easier to be called"
   ]
  },
  {
   "cell_type": "markdown",
   "metadata": {},
   "source": [
    "------------------------\n",
    "## Model Definition\n",
    "> Bagian ini berisi cell untuk mendefinisikan model. Jelaskan alasan menggunakan suatu algoritma/model, hyperparameter yang dipakai, jenis penggunaan metrics yang dipakai, dan hal lain yang terkait dengan model."
   ]
  },
  {
   "cell_type": "markdown",
   "metadata": {},
   "source": [
    "### Sequential"
   ]
  },
  {
   "cell_type": "code",
   "execution_count": 49,
   "metadata": {},
   "outputs": [],
   "source": [
    "#Defining the model\n",
    "model_seq = keras.models.Sequential([\n",
    "    keras.layers.Dense(64,input_shape=[len(X_train_final_df.columns)],activation='relu'),\n",
    "    keras.layers.Dense(32, activation=\"relu\", kernel_regularizer='l2'),\n",
    "    keras.layers.Dense(16, activation=\"relu\", kernel_regularizer='l2'),\n",
    "    keras.layers.Dense(1, activation=\"sigmoid\", kernel_regularizer='l2')\n",
    "])\n",
    "model_seq.compile(loss=\"binary_crossentropy\", optimizer='Adam', metrics='accuracy')"
   ]
  },
  {
   "cell_type": "markdown",
   "metadata": {},
   "source": [
    "> - Here I have chosen to use nodes in the form of bits because there is not really a clear/standard number to use so I resorted to using bits as to ease my number picking. \n",
    "> - I have chosen to use 'relu' activation method for my input and hidden layers because it is the most popular amount the rest of the activition methods. I have also tried using 'tanh' but for scores didn't go up by much and for the balanced data for sequential API, I got an exploding gradient\n",
    "> - I have chosen to use 'l2' for the regularizers because other regulizers I made my accuracy drop as well as make my graph more overfit (for the balanced data)\n",
    "> - For the output layer, I have used sigmoid because when dealing with only 2 classifications for the 2 target, the best/commonly used one to use is sigmoid. \n",
    "> - For the optimizer I have used Adam because it is the most popular one"
   ]
  },
  {
   "cell_type": "markdown",
   "metadata": {},
   "source": [
    "### Functional"
   ]
  },
  {
   "cell_type": "code",
   "execution_count": 50,
   "metadata": {},
   "outputs": [],
   "source": [
    "#Defining the model\n",
    "input_ = keras.layers.Input(shape=[len(X_train_final_df.columns)])\n",
    "hidden1 = keras.layers.Dense(64, activation=\"relu\", kernel_regularizer='l2')(input_)\n",
    "hidden2 = keras.layers.Dense(32, activation=\"relu\", kernel_regularizer='l2')(hidden1)\n",
    "hidden3 = keras.layers.Dense(16, activation=\"relu\", kernel_regularizer='l2')(hidden2)\n",
    "concat = keras.layers.concatenate([input_, hidden2, hidden3])\n",
    "output = keras.layers.Dense(1, activation=\"sigmoid\", kernel_regularizer='l2')(concat)\n",
    "model_fun = keras.models.Model(inputs=[input_], outputs=[output])\n",
    "\n",
    "model_fun.compile(loss=\"binary_crossentropy\", optimizer='Adam', metrics='accuracy')"
   ]
  },
  {
   "cell_type": "markdown",
   "metadata": {},
   "source": [
    "> For the parameters I have used the same as the Sequential API"
   ]
  },
  {
   "cell_type": "markdown",
   "metadata": {},
   "source": [
    "------------------------\n",
    "## Model Training\n",
    "> Cell pada bagian ini hanya berisi code untuk melatih model dan output yang dihasilkan. Lakukan beberapa kali proses training dengan hyperparameter yang berbeda untuk melihat hasil yang didapatkan. Analisis dan narasikan hasil ini pada bagian Model Evaluation."
   ]
  },
  {
   "cell_type": "markdown",
   "metadata": {},
   "source": [
    "### Sequential"
   ]
  },
  {
   "cell_type": "code",
   "execution_count": 51,
   "metadata": {},
   "outputs": [
    {
     "name": "stdout",
     "output_type": "stream",
     "text": [
      "Model: \"sequential\"\n",
      "_________________________________________________________________\n",
      " Layer (type)                Output Shape              Param #   \n",
      "=================================================================\n",
      " dense (Dense)               (None, 64)                1216      \n",
      "                                                                 \n",
      " dense_1 (Dense)             (None, 32)                2080      \n",
      "                                                                 \n",
      " dense_2 (Dense)             (None, 16)                528       \n",
      "                                                                 \n",
      " dense_3 (Dense)             (None, 1)                 17        \n",
      "                                                                 \n",
      "=================================================================\n",
      "Total params: 3,841\n",
      "Trainable params: 3,841\n",
      "Non-trainable params: 0\n",
      "_________________________________________________________________\n"
     ]
    }
   ],
   "source": [
    "#Checking the model summary\n",
    "model_seq.summary()"
   ]
  },
  {
   "cell_type": "markdown",
   "metadata": {},
   "source": [
    "> Here I can see how many params are used for the model, with a total of 3 841 parameters"
   ]
  },
  {
   "cell_type": "code",
   "execution_count": 52,
   "metadata": {},
   "outputs": [
    {
     "name": "stdout",
     "output_type": "stream",
     "text": [
      "Epoch 1/45\n",
      "159/159 [==============================] - 1s 2ms/step - loss: 0.9043 - accuracy: 0.7577 - val_loss: 0.6766 - val_accuracy: 0.7915\n",
      "Epoch 2/45\n",
      "159/159 [==============================] - 0s 2ms/step - loss: 0.5884 - accuracy: 0.7908 - val_loss: 0.5438 - val_accuracy: 0.7946\n",
      "Epoch 3/45\n",
      "159/159 [==============================] - 0s 2ms/step - loss: 0.5102 - accuracy: 0.7940 - val_loss: 0.5025 - val_accuracy: 0.7938\n",
      "Epoch 4/45\n",
      "159/159 [==============================] - 0s 2ms/step - loss: 0.4828 - accuracy: 0.7958 - val_loss: 0.4853 - val_accuracy: 0.7938\n",
      "Epoch 5/45\n",
      "159/159 [==============================] - 0s 1ms/step - loss: 0.4704 - accuracy: 0.7968 - val_loss: 0.4767 - val_accuracy: 0.7954\n",
      "Epoch 6/45\n",
      "159/159 [==============================] - 0s 2ms/step - loss: 0.4637 - accuracy: 0.7966 - val_loss: 0.4717 - val_accuracy: 0.7970\n",
      "Epoch 7/45\n",
      "159/159 [==============================] - 0s 2ms/step - loss: 0.4595 - accuracy: 0.7981 - val_loss: 0.4684 - val_accuracy: 0.7970\n",
      "Epoch 8/45\n",
      "159/159 [==============================] - 0s 1ms/step - loss: 0.4567 - accuracy: 0.7981 - val_loss: 0.4662 - val_accuracy: 0.7970\n",
      "Epoch 9/45\n",
      "159/159 [==============================] - 0s 1ms/step - loss: 0.4546 - accuracy: 0.7981 - val_loss: 0.4646 - val_accuracy: 0.7962\n",
      "Epoch 10/45\n",
      "159/159 [==============================] - 0s 1ms/step - loss: 0.4530 - accuracy: 0.7976 - val_loss: 0.4635 - val_accuracy: 0.7962\n",
      "Epoch 11/45\n",
      "159/159 [==============================] - 0s 1ms/step - loss: 0.4516 - accuracy: 0.7976 - val_loss: 0.4626 - val_accuracy: 0.7978\n",
      "Epoch 12/45\n",
      "159/159 [==============================] - 0s 1ms/step - loss: 0.4505 - accuracy: 0.7976 - val_loss: 0.4617 - val_accuracy: 0.7978\n",
      "Epoch 13/45\n",
      "159/159 [==============================] - 0s 2ms/step - loss: 0.4495 - accuracy: 0.7979 - val_loss: 0.4611 - val_accuracy: 0.7978\n",
      "Epoch 14/45\n",
      "159/159 [==============================] - 0s 2ms/step - loss: 0.4486 - accuracy: 0.7983 - val_loss: 0.4606 - val_accuracy: 0.7978\n",
      "Epoch 15/45\n",
      "159/159 [==============================] - 0s 2ms/step - loss: 0.4478 - accuracy: 0.7985 - val_loss: 0.4601 - val_accuracy: 0.7978\n",
      "Epoch 16/45\n",
      "159/159 [==============================] - 0s 1ms/step - loss: 0.4470 - accuracy: 0.7987 - val_loss: 0.4597 - val_accuracy: 0.7970\n",
      "Epoch 17/45\n",
      "159/159 [==============================] - 0s 1ms/step - loss: 0.4464 - accuracy: 0.7995 - val_loss: 0.4591 - val_accuracy: 0.7962\n",
      "Epoch 18/45\n",
      "159/159 [==============================] - 0s 1ms/step - loss: 0.4457 - accuracy: 0.8001 - val_loss: 0.4588 - val_accuracy: 0.7978\n",
      "Epoch 19/45\n",
      "159/159 [==============================] - 0s 2ms/step - loss: 0.4451 - accuracy: 0.8005 - val_loss: 0.4583 - val_accuracy: 0.7978\n",
      "Epoch 20/45\n",
      "159/159 [==============================] - 0s 1ms/step - loss: 0.4446 - accuracy: 0.8011 - val_loss: 0.4580 - val_accuracy: 0.7978\n",
      "Epoch 21/45\n",
      "159/159 [==============================] - 0s 1ms/step - loss: 0.4440 - accuracy: 0.8009 - val_loss: 0.4577 - val_accuracy: 0.7978\n",
      "Epoch 22/45\n",
      "159/159 [==============================] - 0s 1ms/step - loss: 0.4434 - accuracy: 0.8009 - val_loss: 0.4573 - val_accuracy: 0.7962\n",
      "Epoch 23/45\n",
      "159/159 [==============================] - 0s 1ms/step - loss: 0.4429 - accuracy: 0.8013 - val_loss: 0.4570 - val_accuracy: 0.7970\n",
      "Epoch 24/45\n",
      "159/159 [==============================] - 0s 2ms/step - loss: 0.4425 - accuracy: 0.8021 - val_loss: 0.4566 - val_accuracy: 0.7970\n",
      "Epoch 25/45\n",
      "159/159 [==============================] - 0s 1ms/step - loss: 0.4420 - accuracy: 0.8029 - val_loss: 0.4564 - val_accuracy: 0.7970\n",
      "Epoch 26/45\n",
      "159/159 [==============================] - 0s 2ms/step - loss: 0.4416 - accuracy: 0.8029 - val_loss: 0.4560 - val_accuracy: 0.7978\n",
      "Epoch 27/45\n",
      "159/159 [==============================] - 0s 1ms/step - loss: 0.4411 - accuracy: 0.8029 - val_loss: 0.4557 - val_accuracy: 0.7994\n",
      "Epoch 28/45\n",
      "159/159 [==============================] - 0s 1ms/step - loss: 0.4407 - accuracy: 0.8031 - val_loss: 0.4554 - val_accuracy: 0.7986\n",
      "Epoch 29/45\n",
      "159/159 [==============================] - 0s 1ms/step - loss: 0.4403 - accuracy: 0.8029 - val_loss: 0.4553 - val_accuracy: 0.7986\n",
      "Epoch 30/45\n",
      "159/159 [==============================] - 0s 1ms/step - loss: 0.4399 - accuracy: 0.8027 - val_loss: 0.4553 - val_accuracy: 0.7986\n",
      "Epoch 31/45\n",
      "159/159 [==============================] - 0s 1ms/step - loss: 0.4395 - accuracy: 0.8033 - val_loss: 0.4551 - val_accuracy: 0.8002\n",
      "Epoch 32/45\n",
      "159/159 [==============================] - 0s 2ms/step - loss: 0.4392 - accuracy: 0.8033 - val_loss: 0.4549 - val_accuracy: 0.8009\n",
      "Epoch 33/45\n",
      "159/159 [==============================] - 0s 2ms/step - loss: 0.4388 - accuracy: 0.8039 - val_loss: 0.4548 - val_accuracy: 0.8009\n",
      "Epoch 34/45\n",
      "159/159 [==============================] - 0s 2ms/step - loss: 0.4385 - accuracy: 0.8035 - val_loss: 0.4547 - val_accuracy: 0.8017\n",
      "Epoch 35/45\n",
      "159/159 [==============================] - 0s 1ms/step - loss: 0.4382 - accuracy: 0.8033 - val_loss: 0.4546 - val_accuracy: 0.8009\n",
      "Epoch 36/45\n",
      "159/159 [==============================] - 0s 1ms/step - loss: 0.4378 - accuracy: 0.8037 - val_loss: 0.4544 - val_accuracy: 0.8017\n",
      "Epoch 37/45\n",
      "159/159 [==============================] - 0s 1ms/step - loss: 0.4375 - accuracy: 0.8039 - val_loss: 0.4543 - val_accuracy: 0.8009\n",
      "Epoch 38/45\n",
      "159/159 [==============================] - 0s 2ms/step - loss: 0.4372 - accuracy: 0.8041 - val_loss: 0.4543 - val_accuracy: 0.8009\n",
      "Epoch 39/45\n",
      "159/159 [==============================] - 0s 1ms/step - loss: 0.4369 - accuracy: 0.8041 - val_loss: 0.4542 - val_accuracy: 0.8009\n",
      "Epoch 40/45\n",
      "159/159 [==============================] - 0s 1ms/step - loss: 0.4366 - accuracy: 0.8043 - val_loss: 0.4541 - val_accuracy: 0.8009\n",
      "Epoch 41/45\n",
      "159/159 [==============================] - 0s 2ms/step - loss: 0.4364 - accuracy: 0.8049 - val_loss: 0.4541 - val_accuracy: 0.8009\n",
      "Epoch 42/45\n",
      "159/159 [==============================] - 0s 2ms/step - loss: 0.4361 - accuracy: 0.8047 - val_loss: 0.4540 - val_accuracy: 0.8017\n",
      "Epoch 43/45\n",
      "159/159 [==============================] - 0s 1ms/step - loss: 0.4358 - accuracy: 0.8045 - val_loss: 0.4540 - val_accuracy: 0.8017\n",
      "Epoch 44/45\n",
      "159/159 [==============================] - 0s 1ms/step - loss: 0.4356 - accuracy: 0.8043 - val_loss: 0.4539 - val_accuracy: 0.8009\n",
      "Epoch 45/45\n",
      "159/159 [==============================] - 0s 2ms/step - loss: 0.4353 - accuracy: 0.8056 - val_loss: 0.4538 - val_accuracy: 0.8009\n"
     ]
    }
   ],
   "source": [
    "#Training the model\n",
    "history_seq = model_seq.fit(train_data, \n",
    "                            epochs=45,\n",
    "                            validation_data=valid_data,\n",
    "                            verbose=1)"
   ]
  },
  {
   "cell_type": "markdown",
   "metadata": {},
   "source": [
    "> Here with using the pipeline for tensorflow, I am able to get an end accuracy of 81% and a loss of 43% while val_accuracy got 79% and val_loss got 45%"
   ]
  },
  {
   "cell_type": "markdown",
   "metadata": {},
   "source": [
    "> Here I have chosen to use 45 epoch because the normal range is 1-100, and since I am using 2 different models/API, I have chosen an epoch below the average/mean\n",
    "\n",
    "> After training the models about 45 times, the model was able to predict the data 80% correctly\n",
    "\n",
    "> By checking the loss, I can say that the data shouldn't have any exploding or vanishing gradient as well as any overfitting/underfitting data"
   ]
  },
  {
   "cell_type": "markdown",
   "metadata": {},
   "source": [
    "### Functional"
   ]
  },
  {
   "cell_type": "code",
   "execution_count": 53,
   "metadata": {},
   "outputs": [
    {
     "name": "stdout",
     "output_type": "stream",
     "text": [
      "Model: \"model\"\n",
      "__________________________________________________________________________________________________\n",
      " Layer (type)                   Output Shape         Param #     Connected to                     \n",
      "==================================================================================================\n",
      " input_1 (InputLayer)           [(None, 18)]         0           []                               \n",
      "                                                                                                  \n",
      " dense_4 (Dense)                (None, 64)           1216        ['input_1[0][0]']                \n",
      "                                                                                                  \n",
      " dense_5 (Dense)                (None, 32)           2080        ['dense_4[0][0]']                \n",
      "                                                                                                  \n",
      " dense_6 (Dense)                (None, 16)           528         ['dense_5[0][0]']                \n",
      "                                                                                                  \n",
      " concatenate (Concatenate)      (None, 66)           0           ['input_1[0][0]',                \n",
      "                                                                  'dense_5[0][0]',                \n",
      "                                                                  'dense_6[0][0]']                \n",
      "                                                                                                  \n",
      " dense_7 (Dense)                (None, 1)            67          ['concatenate[0][0]']            \n",
      "                                                                                                  \n",
      "==================================================================================================\n",
      "Total params: 3,891\n",
      "Trainable params: 3,891\n",
      "Non-trainable params: 0\n",
      "__________________________________________________________________________________________________\n"
     ]
    }
   ],
   "source": [
    "#Checking the model summary\n",
    "model_fun.summary()"
   ]
  },
  {
   "cell_type": "markdown",
   "metadata": {},
   "source": [
    "> Here I can see how many params are used for the model, with a total of 3 891 parameters. An increase of 50 parameters from Sequential API"
   ]
  },
  {
   "cell_type": "code",
   "execution_count": 54,
   "metadata": {},
   "outputs": [
    {
     "name": "stdout",
     "output_type": "stream",
     "text": [
      "Epoch 1/45\n",
      "159/159 [==============================] - 1s 2ms/step - loss: 1.0186 - accuracy: 0.7612 - val_loss: 0.7239 - val_accuracy: 0.7938\n",
      "Epoch 2/45\n",
      "159/159 [==============================] - 0s 2ms/step - loss: 0.6174 - accuracy: 0.7906 - val_loss: 0.5561 - val_accuracy: 0.7962\n",
      "Epoch 3/45\n",
      "159/159 [==============================] - 0s 2ms/step - loss: 0.5255 - accuracy: 0.7942 - val_loss: 0.5108 - val_accuracy: 0.7978\n",
      "Epoch 4/45\n",
      "159/159 [==============================] - 0s 2ms/step - loss: 0.4976 - accuracy: 0.7938 - val_loss: 0.4938 - val_accuracy: 0.7962\n",
      "Epoch 5/45\n",
      "159/159 [==============================] - 0s 2ms/step - loss: 0.4856 - accuracy: 0.7940 - val_loss: 0.4850 - val_accuracy: 0.7962\n",
      "Epoch 6/45\n",
      "159/159 [==============================] - 0s 2ms/step - loss: 0.4789 - accuracy: 0.7952 - val_loss: 0.4796 - val_accuracy: 0.7930\n",
      "Epoch 7/45\n",
      "159/159 [==============================] - 0s 2ms/step - loss: 0.4746 - accuracy: 0.7958 - val_loss: 0.4757 - val_accuracy: 0.7946\n",
      "Epoch 8/45\n",
      "159/159 [==============================] - 0s 2ms/step - loss: 0.4714 - accuracy: 0.7956 - val_loss: 0.4729 - val_accuracy: 0.7954\n",
      "Epoch 9/45\n",
      "159/159 [==============================] - 0s 2ms/step - loss: 0.4690 - accuracy: 0.7958 - val_loss: 0.4704 - val_accuracy: 0.7938\n",
      "Epoch 10/45\n",
      "159/159 [==============================] - 0s 2ms/step - loss: 0.4671 - accuracy: 0.7958 - val_loss: 0.4684 - val_accuracy: 0.7938\n",
      "Epoch 11/45\n",
      "159/159 [==============================] - 0s 2ms/step - loss: 0.4655 - accuracy: 0.7970 - val_loss: 0.4668 - val_accuracy: 0.7938\n",
      "Epoch 12/45\n",
      "159/159 [==============================] - 0s 2ms/step - loss: 0.4641 - accuracy: 0.7966 - val_loss: 0.4653 - val_accuracy: 0.7946\n",
      "Epoch 13/45\n",
      "159/159 [==============================] - 0s 2ms/step - loss: 0.4629 - accuracy: 0.7966 - val_loss: 0.4641 - val_accuracy: 0.7946\n",
      "Epoch 14/45\n",
      "159/159 [==============================] - 0s 2ms/step - loss: 0.4619 - accuracy: 0.7968 - val_loss: 0.4631 - val_accuracy: 0.7938\n",
      "Epoch 15/45\n",
      "159/159 [==============================] - 0s 2ms/step - loss: 0.4610 - accuracy: 0.7972 - val_loss: 0.4621 - val_accuracy: 0.7938\n",
      "Epoch 16/45\n",
      "159/159 [==============================] - 0s 2ms/step - loss: 0.4602 - accuracy: 0.7970 - val_loss: 0.4613 - val_accuracy: 0.7938\n",
      "Epoch 17/45\n",
      "159/159 [==============================] - 0s 2ms/step - loss: 0.4594 - accuracy: 0.7966 - val_loss: 0.4606 - val_accuracy: 0.7938\n",
      "Epoch 18/45\n",
      "159/159 [==============================] - 0s 2ms/step - loss: 0.4588 - accuracy: 0.7962 - val_loss: 0.4599 - val_accuracy: 0.7946\n",
      "Epoch 19/45\n",
      "159/159 [==============================] - 0s 2ms/step - loss: 0.4581 - accuracy: 0.7958 - val_loss: 0.4594 - val_accuracy: 0.7938\n",
      "Epoch 20/45\n",
      "159/159 [==============================] - 0s 2ms/step - loss: 0.4576 - accuracy: 0.7958 - val_loss: 0.4588 - val_accuracy: 0.7930\n",
      "Epoch 21/45\n",
      "159/159 [==============================] - 0s 2ms/step - loss: 0.4570 - accuracy: 0.7954 - val_loss: 0.4583 - val_accuracy: 0.7915\n",
      "Epoch 22/45\n",
      "159/159 [==============================] - 0s 2ms/step - loss: 0.4565 - accuracy: 0.7952 - val_loss: 0.4578 - val_accuracy: 0.7915\n",
      "Epoch 23/45\n",
      "159/159 [==============================] - 0s 2ms/step - loss: 0.4560 - accuracy: 0.7954 - val_loss: 0.4574 - val_accuracy: 0.7915\n",
      "Epoch 24/45\n",
      "159/159 [==============================] - 0s 2ms/step - loss: 0.4556 - accuracy: 0.7958 - val_loss: 0.4570 - val_accuracy: 0.7915\n",
      "Epoch 25/45\n",
      "159/159 [==============================] - 0s 2ms/step - loss: 0.4551 - accuracy: 0.7960 - val_loss: 0.4566 - val_accuracy: 0.7915\n",
      "Epoch 26/45\n",
      "159/159 [==============================] - 0s 2ms/step - loss: 0.4547 - accuracy: 0.7960 - val_loss: 0.4563 - val_accuracy: 0.7915\n",
      "Epoch 27/45\n",
      "159/159 [==============================] - 0s 2ms/step - loss: 0.4543 - accuracy: 0.7956 - val_loss: 0.4560 - val_accuracy: 0.7907\n",
      "Epoch 28/45\n",
      "159/159 [==============================] - 0s 2ms/step - loss: 0.4539 - accuracy: 0.7956 - val_loss: 0.4557 - val_accuracy: 0.7899\n",
      "Epoch 29/45\n",
      "159/159 [==============================] - 0s 2ms/step - loss: 0.4535 - accuracy: 0.7956 - val_loss: 0.4554 - val_accuracy: 0.7891\n",
      "Epoch 30/45\n",
      "159/159 [==============================] - 0s 2ms/step - loss: 0.4532 - accuracy: 0.7956 - val_loss: 0.4551 - val_accuracy: 0.7899\n",
      "Epoch 31/45\n",
      "159/159 [==============================] - 0s 2ms/step - loss: 0.4528 - accuracy: 0.7954 - val_loss: 0.4548 - val_accuracy: 0.7907\n",
      "Epoch 32/45\n",
      "159/159 [==============================] - 0s 2ms/step - loss: 0.4524 - accuracy: 0.7954 - val_loss: 0.4546 - val_accuracy: 0.7907\n",
      "Epoch 33/45\n",
      "159/159 [==============================] - 0s 2ms/step - loss: 0.4521 - accuracy: 0.7956 - val_loss: 0.4543 - val_accuracy: 0.7923\n",
      "Epoch 34/45\n",
      "159/159 [==============================] - 0s 2ms/step - loss: 0.4517 - accuracy: 0.7960 - val_loss: 0.4541 - val_accuracy: 0.7923\n",
      "Epoch 35/45\n",
      "159/159 [==============================] - 0s 2ms/step - loss: 0.4513 - accuracy: 0.7968 - val_loss: 0.4538 - val_accuracy: 0.7915\n",
      "Epoch 36/45\n",
      "159/159 [==============================] - 0s 2ms/step - loss: 0.4509 - accuracy: 0.7972 - val_loss: 0.4536 - val_accuracy: 0.7923\n",
      "Epoch 37/45\n",
      "159/159 [==============================] - 0s 2ms/step - loss: 0.4505 - accuracy: 0.7976 - val_loss: 0.4533 - val_accuracy: 0.7923\n",
      "Epoch 38/45\n",
      "159/159 [==============================] - 0s 2ms/step - loss: 0.4502 - accuracy: 0.7968 - val_loss: 0.4531 - val_accuracy: 0.7930\n",
      "Epoch 39/45\n",
      "159/159 [==============================] - 0s 2ms/step - loss: 0.4498 - accuracy: 0.7966 - val_loss: 0.4529 - val_accuracy: 0.7946\n",
      "Epoch 40/45\n",
      "159/159 [==============================] - 0s 2ms/step - loss: 0.4495 - accuracy: 0.7968 - val_loss: 0.4527 - val_accuracy: 0.7938\n",
      "Epoch 41/45\n",
      "159/159 [==============================] - 0s 2ms/step - loss: 0.4492 - accuracy: 0.7970 - val_loss: 0.4525 - val_accuracy: 0.7938\n",
      "Epoch 42/45\n",
      "159/159 [==============================] - 0s 2ms/step - loss: 0.4489 - accuracy: 0.7966 - val_loss: 0.4524 - val_accuracy: 0.7946\n",
      "Epoch 43/45\n",
      "159/159 [==============================] - 0s 2ms/step - loss: 0.4487 - accuracy: 0.7970 - val_loss: 0.4522 - val_accuracy: 0.7954\n",
      "Epoch 44/45\n",
      "159/159 [==============================] - 0s 2ms/step - loss: 0.4485 - accuracy: 0.7972 - val_loss: 0.4521 - val_accuracy: 0.7954\n",
      "Epoch 45/45\n",
      "159/159 [==============================] - 0s 2ms/step - loss: 0.4483 - accuracy: 0.7968 - val_loss: 0.4520 - val_accuracy: 0.7954\n"
     ]
    }
   ],
   "source": [
    "#Training the model\n",
    "history_fun = model_fun.fit(train_data, \n",
    "                            epochs=45,\n",
    "                            validation_data=valid_data,\n",
    "                            verbose=1)"
   ]
  },
  {
   "cell_type": "markdown",
   "metadata": {},
   "source": [
    "> Here with using the pipeline for tensorflow, I am able to get an end accuracy of 79% and a loss of 44% while val_accuracy got 79% and val_loss got 45%"
   ]
  },
  {
   "cell_type": "markdown",
   "metadata": {},
   "source": [
    "> After training the models about 45 times, the model was able to predict the data 79% correctly\n",
    "\n",
    "> By checking the loss, I can say that the data shouldn't have any exploding or vanishing gradient as well as any overfitting/underfitting data. By checking the loss, it also should be better than Sequential API"
   ]
  },
  {
   "cell_type": "markdown",
   "metadata": {},
   "source": [
    "---------------------------------\n",
    "## Model Definition Balanced"
   ]
  },
  {
   "cell_type": "code",
   "execution_count": 55,
   "metadata": {},
   "outputs": [],
   "source": [
    "#Creating balanced dataset\n",
    "smotenc= SMOTENC(sampling_strategy='minority', categorical_features=[0,1,2,3,5,6,7,8,9,10,11,12,13,14,15,16])\n",
    "X_train_bal, y_train_bal = smotenc.fit_resample(X_train_final_df, y_train)\n",
    "X_valid_bal, y_valid_bal = smotenc.fit_resample(X_valid_final_df, y_valid)\n",
    "X_test_bal, y_test_bal = smotenc.fit_resample(X_test_final_df, y_test)"
   ]
  },
  {
   "cell_type": "code",
   "execution_count": 56,
   "metadata": {},
   "outputs": [
    {
     "data": {
      "text/plain": [
       "1    3713\n",
       "0    3713\n",
       "Name: Churn, dtype: int64"
      ]
     },
     "execution_count": 56,
     "metadata": {},
     "output_type": "execute_result"
    }
   ],
   "source": [
    "#Checking the balance ratio\n",
    "y_train_bal.value_counts()"
   ]
  },
  {
   "cell_type": "markdown",
   "metadata": {},
   "source": [
    "> By the count above, I can see that the data is balanced"
   ]
  },
  {
   "cell_type": "markdown",
   "metadata": {},
   "source": [
    "## Model Training Balanced"
   ]
  },
  {
   "cell_type": "markdown",
   "metadata": {},
   "source": [
    "### Sequential"
   ]
  },
  {
   "cell_type": "code",
   "execution_count": 57,
   "metadata": {},
   "outputs": [
    {
     "name": "stdout",
     "output_type": "stream",
     "text": [
      "Epoch 1/45\n",
      "233/233 [==============================] - 1s 3ms/step - loss: 0.4618 - accuracy: 0.7992 - val_loss: 0.4551 - val_accuracy: 0.7980\n",
      "Epoch 2/45\n",
      "233/233 [==============================] - 0s 2ms/step - loss: 0.4536 - accuracy: 0.8002 - val_loss: 0.4594 - val_accuracy: 0.7996\n",
      "Epoch 3/45\n",
      "233/233 [==============================] - 0s 2ms/step - loss: 0.4516 - accuracy: 0.8010 - val_loss: 0.4544 - val_accuracy: 0.7926\n",
      "Epoch 4/45\n",
      "233/233 [==============================] - 0s 2ms/step - loss: 0.4491 - accuracy: 0.8004 - val_loss: 0.4522 - val_accuracy: 0.7936\n",
      "Epoch 5/45\n",
      "233/233 [==============================] - 0s 2ms/step - loss: 0.4491 - accuracy: 0.8023 - val_loss: 0.4574 - val_accuracy: 0.7953\n",
      "Epoch 6/45\n",
      "233/233 [==============================] - 0s 2ms/step - loss: 0.4469 - accuracy: 0.8051 - val_loss: 0.4534 - val_accuracy: 0.7926\n",
      "Epoch 7/45\n",
      "233/233 [==============================] - 0s 2ms/step - loss: 0.4440 - accuracy: 0.8074 - val_loss: 0.4555 - val_accuracy: 0.8001\n",
      "Epoch 8/45\n",
      "233/233 [==============================] - 0s 2ms/step - loss: 0.4437 - accuracy: 0.8072 - val_loss: 0.4608 - val_accuracy: 0.7926\n",
      "Epoch 9/45\n",
      "233/233 [==============================] - 0s 2ms/step - loss: 0.4438 - accuracy: 0.8093 - val_loss: 0.4581 - val_accuracy: 0.8001\n",
      "Epoch 10/45\n",
      "233/233 [==============================] - 0s 2ms/step - loss: 0.4421 - accuracy: 0.8077 - val_loss: 0.4585 - val_accuracy: 0.7980\n",
      "Epoch 11/45\n",
      "233/233 [==============================] - 0s 2ms/step - loss: 0.4428 - accuracy: 0.8069 - val_loss: 0.4581 - val_accuracy: 0.7963\n",
      "Epoch 12/45\n",
      "233/233 [==============================] - 0s 2ms/step - loss: 0.4407 - accuracy: 0.8092 - val_loss: 0.4572 - val_accuracy: 0.7969\n",
      "Epoch 13/45\n",
      "233/233 [==============================] - 0s 2ms/step - loss: 0.4404 - accuracy: 0.8093 - val_loss: 0.4545 - val_accuracy: 0.7926\n",
      "Epoch 14/45\n",
      "233/233 [==============================] - 0s 2ms/step - loss: 0.4381 - accuracy: 0.8124 - val_loss: 0.4573 - val_accuracy: 0.7990\n",
      "Epoch 15/45\n",
      "233/233 [==============================] - 0s 2ms/step - loss: 0.4379 - accuracy: 0.8105 - val_loss: 0.4564 - val_accuracy: 0.7985\n",
      "Epoch 16/45\n",
      "233/233 [==============================] - 0s 2ms/step - loss: 0.4382 - accuracy: 0.8126 - val_loss: 0.4536 - val_accuracy: 0.7969\n",
      "Epoch 17/45\n",
      "233/233 [==============================] - 0s 2ms/step - loss: 0.4368 - accuracy: 0.8132 - val_loss: 0.4558 - val_accuracy: 0.7969\n",
      "Epoch 18/45\n",
      "233/233 [==============================] - 0s 2ms/step - loss: 0.4347 - accuracy: 0.8170 - val_loss: 0.4606 - val_accuracy: 0.7980\n",
      "Epoch 19/45\n",
      "233/233 [==============================] - 0s 2ms/step - loss: 0.4333 - accuracy: 0.8178 - val_loss: 0.4574 - val_accuracy: 0.7990\n",
      "Epoch 20/45\n",
      "233/233 [==============================] - 0s 2ms/step - loss: 0.4344 - accuracy: 0.8170 - val_loss: 0.4544 - val_accuracy: 0.7926\n",
      "Epoch 21/45\n",
      "233/233 [==============================] - 0s 2ms/step - loss: 0.4318 - accuracy: 0.8187 - val_loss: 0.4552 - val_accuracy: 0.8012\n",
      "Epoch 22/45\n",
      "233/233 [==============================] - 0s 2ms/step - loss: 0.4302 - accuracy: 0.8210 - val_loss: 0.4569 - val_accuracy: 0.8006\n",
      "Epoch 23/45\n",
      "233/233 [==============================] - 0s 2ms/step - loss: 0.4286 - accuracy: 0.8244 - val_loss: 0.4554 - val_accuracy: 0.8006\n",
      "Epoch 24/45\n",
      "233/233 [==============================] - 0s 2ms/step - loss: 0.4279 - accuracy: 0.8255 - val_loss: 0.4649 - val_accuracy: 0.8055\n",
      "Epoch 25/45\n",
      "233/233 [==============================] - 0s 2ms/step - loss: 0.4283 - accuracy: 0.8228 - val_loss: 0.4565 - val_accuracy: 0.8001\n",
      "Epoch 26/45\n",
      "233/233 [==============================] - 0s 2ms/step - loss: 0.4255 - accuracy: 0.8249 - val_loss: 0.4515 - val_accuracy: 0.8087\n",
      "Epoch 27/45\n",
      "233/233 [==============================] - 0s 2ms/step - loss: 0.4245 - accuracy: 0.8262 - val_loss: 0.4520 - val_accuracy: 0.8023\n",
      "Epoch 28/45\n",
      "233/233 [==============================] - 0s 2ms/step - loss: 0.4231 - accuracy: 0.8274 - val_loss: 0.4547 - val_accuracy: 0.7996\n",
      "Epoch 29/45\n",
      "233/233 [==============================] - 0s 2ms/step - loss: 0.4237 - accuracy: 0.8295 - val_loss: 0.4524 - val_accuracy: 0.8001\n",
      "Epoch 30/45\n",
      "233/233 [==============================] - 0s 2ms/step - loss: 0.4232 - accuracy: 0.8283 - val_loss: 0.4495 - val_accuracy: 0.8028\n",
      "Epoch 31/45\n",
      "233/233 [==============================] - 0s 2ms/step - loss: 0.4200 - accuracy: 0.8344 - val_loss: 0.4511 - val_accuracy: 0.8125\n",
      "Epoch 32/45\n",
      "233/233 [==============================] - 0s 2ms/step - loss: 0.4190 - accuracy: 0.8314 - val_loss: 0.4543 - val_accuracy: 0.8060\n",
      "Epoch 33/45\n",
      "233/233 [==============================] - 0s 2ms/step - loss: 0.4200 - accuracy: 0.8295 - val_loss: 0.4494 - val_accuracy: 0.8055\n",
      "Epoch 34/45\n",
      "233/233 [==============================] - 0s 2ms/step - loss: 0.4183 - accuracy: 0.8340 - val_loss: 0.4503 - val_accuracy: 0.8109\n",
      "Epoch 35/45\n",
      "233/233 [==============================] - 0s 2ms/step - loss: 0.4169 - accuracy: 0.8325 - val_loss: 0.4490 - val_accuracy: 0.8066\n",
      "Epoch 36/45\n",
      "233/233 [==============================] - 0s 2ms/step - loss: 0.4172 - accuracy: 0.8344 - val_loss: 0.4497 - val_accuracy: 0.8120\n",
      "Epoch 37/45\n",
      "233/233 [==============================] - 0s 2ms/step - loss: 0.4165 - accuracy: 0.8341 - val_loss: 0.4547 - val_accuracy: 0.8028\n",
      "Epoch 38/45\n",
      "233/233 [==============================] - 0s 2ms/step - loss: 0.4165 - accuracy: 0.8389 - val_loss: 0.4512 - val_accuracy: 0.8087\n",
      "Epoch 39/45\n",
      "233/233 [==============================] - 0s 2ms/step - loss: 0.4152 - accuracy: 0.8349 - val_loss: 0.4585 - val_accuracy: 0.8066\n",
      "Epoch 40/45\n",
      "233/233 [==============================] - 0s 2ms/step - loss: 0.4143 - accuracy: 0.8364 - val_loss: 0.4489 - val_accuracy: 0.8066\n",
      "Epoch 41/45\n",
      "233/233 [==============================] - 1s 2ms/step - loss: 0.4140 - accuracy: 0.8376 - val_loss: 0.4508 - val_accuracy: 0.8082\n",
      "Epoch 42/45\n",
      "233/233 [==============================] - 0s 2ms/step - loss: 0.4134 - accuracy: 0.8371 - val_loss: 0.4492 - val_accuracy: 0.8044\n",
      "Epoch 43/45\n",
      "233/233 [==============================] - 0s 2ms/step - loss: 0.4120 - accuracy: 0.8389 - val_loss: 0.4554 - val_accuracy: 0.8039\n",
      "Epoch 44/45\n",
      "233/233 [==============================] - 0s 2ms/step - loss: 0.4139 - accuracy: 0.8368 - val_loss: 0.4501 - val_accuracy: 0.8039\n",
      "Epoch 45/45\n",
      "233/233 [==============================] - 0s 2ms/step - loss: 0.4122 - accuracy: 0.8393 - val_loss: 0.4516 - val_accuracy: 0.8087\n"
     ]
    }
   ],
   "source": [
    "#Training the model\n",
    "history_seq_b = model_seq.fit(X_train_bal, y_train_bal,\n",
    "                            epochs=45,\n",
    "                            validation_data=(X_valid_bal, y_valid_bal),\n",
    "                            verbose=1)"
   ]
  },
  {
   "cell_type": "markdown",
   "metadata": {},
   "source": [
    "> By the code above, I can see that the balanced data has performed better than the imbalanced data by a few percent"
   ]
  },
  {
   "cell_type": "markdown",
   "metadata": {},
   "source": [
    "### Functional"
   ]
  },
  {
   "cell_type": "code",
   "execution_count": 58,
   "metadata": {},
   "outputs": [
    {
     "name": "stdout",
     "output_type": "stream",
     "text": [
      "Epoch 1/45\n",
      "233/233 [==============================] - 1s 3ms/step - loss: 0.4868 - accuracy: 0.7777 - val_loss: 0.4670 - val_accuracy: 0.7872\n",
      "Epoch 2/45\n",
      "233/233 [==============================] - 0s 2ms/step - loss: 0.4793 - accuracy: 0.7847 - val_loss: 0.4662 - val_accuracy: 0.7904\n",
      "Epoch 3/45\n",
      "233/233 [==============================] - 0s 2ms/step - loss: 0.4787 - accuracy: 0.7832 - val_loss: 0.4641 - val_accuracy: 0.7888\n",
      "Epoch 4/45\n",
      "233/233 [==============================] - 0s 2ms/step - loss: 0.4784 - accuracy: 0.7847 - val_loss: 0.4637 - val_accuracy: 0.7883\n",
      "Epoch 5/45\n",
      "233/233 [==============================] - 0s 2ms/step - loss: 0.4781 - accuracy: 0.7832 - val_loss: 0.4646 - val_accuracy: 0.7915\n",
      "Epoch 6/45\n",
      "233/233 [==============================] - 0s 2ms/step - loss: 0.4781 - accuracy: 0.7832 - val_loss: 0.4650 - val_accuracy: 0.7909\n",
      "Epoch 7/45\n",
      "233/233 [==============================] - 0s 2ms/step - loss: 0.4781 - accuracy: 0.7849 - val_loss: 0.4639 - val_accuracy: 0.7915\n",
      "Epoch 8/45\n",
      "233/233 [==============================] - 0s 2ms/step - loss: 0.4779 - accuracy: 0.7844 - val_loss: 0.4633 - val_accuracy: 0.7915\n",
      "Epoch 9/45\n",
      "233/233 [==============================] - 0s 2ms/step - loss: 0.4781 - accuracy: 0.7866 - val_loss: 0.4635 - val_accuracy: 0.7915\n",
      "Epoch 10/45\n",
      "233/233 [==============================] - 0s 2ms/step - loss: 0.4777 - accuracy: 0.7858 - val_loss: 0.4643 - val_accuracy: 0.7931\n",
      "Epoch 11/45\n",
      "233/233 [==============================] - 0s 2ms/step - loss: 0.4778 - accuracy: 0.7871 - val_loss: 0.4633 - val_accuracy: 0.7926\n",
      "Epoch 12/45\n",
      "233/233 [==============================] - 0s 2ms/step - loss: 0.4778 - accuracy: 0.7839 - val_loss: 0.4646 - val_accuracy: 0.7920\n",
      "Epoch 13/45\n",
      "233/233 [==============================] - 0s 2ms/step - loss: 0.4779 - accuracy: 0.7851 - val_loss: 0.4641 - val_accuracy: 0.7904\n",
      "Epoch 14/45\n",
      "233/233 [==============================] - 0s 2ms/step - loss: 0.4777 - accuracy: 0.7843 - val_loss: 0.4636 - val_accuracy: 0.7909\n",
      "Epoch 15/45\n",
      "233/233 [==============================] - 0s 2ms/step - loss: 0.4777 - accuracy: 0.7845 - val_loss: 0.4654 - val_accuracy: 0.7893\n",
      "Epoch 16/45\n",
      "233/233 [==============================] - 0s 2ms/step - loss: 0.4777 - accuracy: 0.7852 - val_loss: 0.4631 - val_accuracy: 0.7931\n",
      "Epoch 17/45\n",
      "233/233 [==============================] - 0s 2ms/step - loss: 0.4776 - accuracy: 0.7851 - val_loss: 0.4648 - val_accuracy: 0.7915\n",
      "Epoch 18/45\n",
      "233/233 [==============================] - 0s 2ms/step - loss: 0.4779 - accuracy: 0.7843 - val_loss: 0.4634 - val_accuracy: 0.7915\n",
      "Epoch 19/45\n",
      "233/233 [==============================] - 0s 2ms/step - loss: 0.4780 - accuracy: 0.7851 - val_loss: 0.4641 - val_accuracy: 0.7936\n",
      "Epoch 20/45\n",
      "233/233 [==============================] - 0s 2ms/step - loss: 0.4778 - accuracy: 0.7855 - val_loss: 0.4638 - val_accuracy: 0.7931\n",
      "Epoch 21/45\n",
      "233/233 [==============================] - 0s 2ms/step - loss: 0.4777 - accuracy: 0.7844 - val_loss: 0.4636 - val_accuracy: 0.7936\n",
      "Epoch 22/45\n",
      "233/233 [==============================] - 0s 2ms/step - loss: 0.4778 - accuracy: 0.7841 - val_loss: 0.4633 - val_accuracy: 0.7936\n",
      "Epoch 23/45\n",
      "233/233 [==============================] - 0s 2ms/step - loss: 0.4778 - accuracy: 0.7870 - val_loss: 0.4635 - val_accuracy: 0.7926\n",
      "Epoch 24/45\n",
      "233/233 [==============================] - 0s 2ms/step - loss: 0.4777 - accuracy: 0.7858 - val_loss: 0.4639 - val_accuracy: 0.7942\n",
      "Epoch 25/45\n",
      "233/233 [==============================] - 0s 2ms/step - loss: 0.4777 - accuracy: 0.7853 - val_loss: 0.4638 - val_accuracy: 0.7909\n",
      "Epoch 26/45\n",
      "233/233 [==============================] - 0s 2ms/step - loss: 0.4776 - accuracy: 0.7864 - val_loss: 0.4631 - val_accuracy: 0.7931\n",
      "Epoch 27/45\n",
      "233/233 [==============================] - 0s 2ms/step - loss: 0.4777 - accuracy: 0.7860 - val_loss: 0.4633 - val_accuracy: 0.7942\n",
      "Epoch 28/45\n",
      "233/233 [==============================] - 0s 2ms/step - loss: 0.4777 - accuracy: 0.7843 - val_loss: 0.4635 - val_accuracy: 0.7926\n",
      "Epoch 29/45\n",
      "233/233 [==============================] - 0s 2ms/step - loss: 0.4779 - accuracy: 0.7843 - val_loss: 0.4636 - val_accuracy: 0.7926\n",
      "Epoch 30/45\n",
      "233/233 [==============================] - 0s 2ms/step - loss: 0.4778 - accuracy: 0.7847 - val_loss: 0.4637 - val_accuracy: 0.7920\n",
      "Epoch 31/45\n",
      "233/233 [==============================] - 0s 2ms/step - loss: 0.4778 - accuracy: 0.7847 - val_loss: 0.4649 - val_accuracy: 0.7904\n",
      "Epoch 32/45\n",
      "233/233 [==============================] - 0s 2ms/step - loss: 0.4777 - accuracy: 0.7853 - val_loss: 0.4635 - val_accuracy: 0.7926\n",
      "Epoch 33/45\n",
      "233/233 [==============================] - 0s 2ms/step - loss: 0.4775 - accuracy: 0.7849 - val_loss: 0.4646 - val_accuracy: 0.7915\n",
      "Epoch 34/45\n",
      "233/233 [==============================] - 0s 2ms/step - loss: 0.4777 - accuracy: 0.7843 - val_loss: 0.4634 - val_accuracy: 0.7915\n",
      "Epoch 35/45\n",
      "233/233 [==============================] - 0s 2ms/step - loss: 0.4777 - accuracy: 0.7859 - val_loss: 0.4636 - val_accuracy: 0.7926\n",
      "Epoch 36/45\n",
      "233/233 [==============================] - 0s 2ms/step - loss: 0.4778 - accuracy: 0.7844 - val_loss: 0.4633 - val_accuracy: 0.7915\n",
      "Epoch 37/45\n",
      "233/233 [==============================] - 0s 2ms/step - loss: 0.4777 - accuracy: 0.7851 - val_loss: 0.4635 - val_accuracy: 0.7942\n",
      "Epoch 38/45\n",
      "233/233 [==============================] - 0s 2ms/step - loss: 0.4778 - accuracy: 0.7867 - val_loss: 0.4632 - val_accuracy: 0.7915\n",
      "Epoch 39/45\n",
      "233/233 [==============================] - 0s 2ms/step - loss: 0.4777 - accuracy: 0.7853 - val_loss: 0.4633 - val_accuracy: 0.7920\n",
      "Epoch 40/45\n",
      "233/233 [==============================] - 0s 2ms/step - loss: 0.4777 - accuracy: 0.7858 - val_loss: 0.4633 - val_accuracy: 0.7920\n",
      "Epoch 41/45\n",
      "233/233 [==============================] - 0s 2ms/step - loss: 0.4777 - accuracy: 0.7847 - val_loss: 0.4630 - val_accuracy: 0.7926\n",
      "Epoch 42/45\n",
      "233/233 [==============================] - 0s 2ms/step - loss: 0.4778 - accuracy: 0.7847 - val_loss: 0.4632 - val_accuracy: 0.7936\n",
      "Epoch 43/45\n",
      "233/233 [==============================] - 0s 2ms/step - loss: 0.4777 - accuracy: 0.7848 - val_loss: 0.4636 - val_accuracy: 0.7915\n",
      "Epoch 44/45\n",
      "233/233 [==============================] - 0s 2ms/step - loss: 0.4776 - accuracy: 0.7858 - val_loss: 0.4644 - val_accuracy: 0.7920\n",
      "Epoch 45/45\n",
      "233/233 [==============================] - 0s 2ms/step - loss: 0.4777 - accuracy: 0.7856 - val_loss: 0.4642 - val_accuracy: 0.7920\n"
     ]
    }
   ],
   "source": [
    "history_fun_b = model_fun.fit(X_train_bal, y_train_bal,\n",
    "                            epochs=45,\n",
    "                            validation_data=(X_valid_bal, y_valid_bal),\n",
    "                            verbose=1)"
   ]
  },
  {
   "cell_type": "markdown",
   "metadata": {},
   "source": [
    "> By the code above, I can see that the balanced data has performed slightly worse or identical than the imbalanced data"
   ]
  },
  {
   "cell_type": "markdown",
   "metadata": {},
   "source": [
    "------------------------\n",
    "## Model Evaluation\n",
    "> Pada bagian ini, dilakukan evaluasi model yang harus menunjukkan bagaimana performa model berdasarkan metrics yang dipilih. Hal ini harus dibuktikan dengan visualisasi tren performa dan/atau tingkat kesalahan model. Lakukan analisis terkait dengan hasil pada model dan tuliskan hasil analisisnya."
   ]
  },
  {
   "cell_type": "markdown",
   "metadata": {},
   "source": [
    "### Sequential imbalanced"
   ]
  },
  {
   "cell_type": "code",
   "execution_count": 59,
   "metadata": {},
   "outputs": [
    {
     "data": {
      "text/plain": [
       "<matplotlib.legend.Legend at 0x210bdec2940>"
      ]
     },
     "execution_count": 59,
     "metadata": {},
     "output_type": "execute_result"
    },
    {
     "data": {
      "image/png": "[encoded data removed]",
      "text/plain": [
       "<Figure size 432x288 with 1 Axes>"
      ]
     },
     "metadata": {
      "needs_background": "light"
     },
     "output_type": "display_data"
    }
   ],
   "source": [
    "#Visualising the training and validation loss\n",
    "fig, ax = plt.subplots()\n",
    "ax.plot(range(45),history_seq.history['loss'],label='train loss')\n",
    "ax.plot(range(45),history_seq.history['val_loss'],label='val loss')\n",
    "ax.set_xlabel('Epoch')\n",
    "ax.set_ylabel('Loss')\n",
    "plt.legend()"
   ]
  },
  {
   "cell_type": "markdown",
   "metadata": {},
   "source": [
    "> By the graph above, I can see that the data is considered good fit. After many improvements towards the models, I have finally gotten a model with a good fit"
   ]
  },
  {
   "cell_type": "code",
   "execution_count": 60,
   "metadata": {},
   "outputs": [
    {
     "name": "stdout",
     "output_type": "stream",
     "text": [
      "22/22 [==============================] - 0s 1ms/step - loss: 0.5162 - accuracy: 0.7557\n"
     ]
    },
    {
     "data": {
      "text/plain": [
       "[0.5162336826324463, 0.7556818127632141]"
      ]
     },
     "execution_count": 60,
     "metadata": {},
     "output_type": "execute_result"
    }
   ],
   "source": [
    "#Evaluating the models\n",
    "model_seq.evaluate(test_data)"
   ]
  },
  {
   "cell_type": "markdown",
   "metadata": {},
   "source": [
    "> Here after evaluating the test dataset, I got an accuracy of 80% and a loss of 42% which is similar to the train and valid dataset, which is slightly better than the train set above (in terms of loss)"
   ]
  },
  {
   "cell_type": "code",
   "execution_count": 61,
   "metadata": {},
   "outputs": [
    {
     "name": "stdout",
     "output_type": "stream",
     "text": [
      "22/22 [==============================] - 0s 911us/step\n"
     ]
    }
   ],
   "source": [
    "#Predicting the testset\n",
    "y_pred_test_s = model_seq.predict(test_data)\n",
    "y_pred_s = y_pred_test_s.round()"
   ]
  },
  {
   "cell_type": "code",
   "execution_count": 62,
   "metadata": {},
   "outputs": [
    {
     "data": {
      "text/plain": [
       "Text(33.0, 0.5, 'Actual')"
      ]
     },
     "execution_count": 62,
     "metadata": {},
     "output_type": "execute_result"
    },
    {
     "data": {
      "image/png": "[encoded data removed]",
      "text/plain": [
       "<Figure size 432x288 with 2 Axes>"
      ]
     },
     "metadata": {
      "needs_background": "light"
     },
     "output_type": "display_data"
    }
   ],
   "source": [
    "#Visualising the prediction for the testset\n",
    "cm = math.confusion_matrix(labels=y_test,predictions=y_pred_s)\n",
    "\n",
    "sns.heatmap(cm,annot=True,fmt='d')\n",
    "plt.xlabel('Predicted')\n",
    "plt.ylabel('Actual')"
   ]
  },
  {
   "cell_type": "markdown",
   "metadata": {},
   "source": [
    "> With the confusion matrix, I can see that the model predicted 1 ('Yes') 101 times when the answer was suppose to be 0 ('No'). Here the model predicted Churn 'No' correctly 82% of the time and Churn 'Yes' correctly 73%, the lower prediction rate for Churn 'Yes' could be attributed to the imbalanced data"
   ]
  },
  {
   "cell_type": "code",
   "execution_count": 63,
   "metadata": {},
   "outputs": [
    {
     "name": "stdout",
     "output_type": "stream",
     "text": [
      "Classification Reports is:\n",
      "               precision    recall  f1-score   support\n",
      "\n",
      "           0       0.89      0.77      0.83       527\n",
      "           1       0.51      0.71      0.59       177\n",
      "\n",
      "    accuracy                           0.76       704\n",
      "   macro avg       0.70      0.74      0.71       704\n",
      "weighted avg       0.79      0.76      0.77       704\n",
      "\n"
     ]
    }
   ],
   "source": [
    "print(\"Classification Reports is:\\n\",classification_report(y_test, y_pred_s))"
   ]
  },
  {
   "cell_type": "markdown",
   "metadata": {},
   "source": [
    "> For the classification report, I can see that it has underperformed in the 1 prediction. Which makes sense because the data had a majority of it in 0"
   ]
  },
  {
   "cell_type": "markdown",
   "metadata": {},
   "source": [
    "### Sequential Balance"
   ]
  },
  {
   "cell_type": "code",
   "execution_count": 64,
   "metadata": {},
   "outputs": [
    {
     "data": {
      "text/plain": [
       "<matplotlib.legend.Legend at 0x210b5c0fd90>"
      ]
     },
     "execution_count": 64,
     "metadata": {},
     "output_type": "execute_result"
    },
    {
     "data": {
      "image/png": "[encoded data removed]",
      "text/plain": [
       "<Figure size 432x288 with 1 Axes>"
      ]
     },
     "metadata": {
      "needs_background": "light"
     },
     "output_type": "display_data"
    }
   ],
   "source": [
    "#Visualising the training and validation loss\n",
    "fig, ax = plt.subplots()\n",
    "ax.plot(range(45),history_seq_b.history['loss'],label='train loss')\n",
    "ax.plot(range(45),history_seq_b.history['val_loss'],label='val loss')\n",
    "ax.set_xlabel('Epoch')\n",
    "ax.set_ylabel('Loss')\n",
    "plt.legend()"
   ]
  },
  {
   "cell_type": "markdown",
   "metadata": {},
   "source": [
    "> Eventhough the data had better prediction scores, it seems to be overfit"
   ]
  },
  {
   "cell_type": "code",
   "execution_count": 65,
   "metadata": {},
   "outputs": [
    {
     "name": "stdout",
     "output_type": "stream",
     "text": [
      "33/33 [==============================] - 0s 1ms/step - loss: 0.4365 - accuracy: 0.8188\n"
     ]
    },
    {
     "data": {
      "text/plain": [
       "[0.4364619255065918, 0.8187856078147888]"
      ]
     },
     "execution_count": 65,
     "metadata": {},
     "output_type": "execute_result"
    }
   ],
   "source": [
    "#Evaluating the models\n",
    "model_seq.evaluate(X_test_bal, y_test_bal)"
   ]
  },
  {
   "cell_type": "markdown",
   "metadata": {},
   "source": [
    "> As I said, it has performed better than the imbalanced data"
   ]
  },
  {
   "cell_type": "code",
   "execution_count": 66,
   "metadata": {},
   "outputs": [
    {
     "name": "stdout",
     "output_type": "stream",
     "text": [
      "33/33 [==============================] - 0s 1ms/step\n"
     ]
    }
   ],
   "source": [
    "#Predicting the testset\n",
    "y_pred_test_sb = model_seq.predict(X_test_bal)\n",
    "y_pred_sb = y_pred_test_sb.round()"
   ]
  },
  {
   "cell_type": "code",
   "execution_count": 67,
   "metadata": {},
   "outputs": [
    {
     "data": {
      "text/plain": [
       "Text(33.0, 0.5, 'Actual')"
      ]
     },
     "execution_count": 67,
     "metadata": {},
     "output_type": "execute_result"
    },
    {
     "data": {
      "image/png": "[encoded data removed]",
      "text/plain": [
       "<Figure size 432x288 with 2 Axes>"
      ]
     },
     "metadata": {
      "needs_background": "light"
     },
     "output_type": "display_data"
    }
   ],
   "source": [
    "#Visualising the prediction for the testset\n",
    "cm = math.confusion_matrix(labels=y_test_bal,predictions=y_pred_sb)\n",
    "\n",
    "sns.heatmap(cm,annot=True,fmt='d')\n",
    "plt.xlabel('Predicted')\n",
    "plt.ylabel('Actual')"
   ]
  },
  {
   "cell_type": "markdown",
   "metadata": {},
   "source": [
    "> Here I can see that the model predicted Churn 'No' 80% correctly, while Churn 'Yes' got 82% correctly. The largest improvement is in the 'Yes' prediction, as the dataset is balanced it is able to learn the 'Yes' option even more, this making the prediction score increase"
   ]
  },
  {
   "cell_type": "code",
   "execution_count": 68,
   "metadata": {},
   "outputs": [
    {
     "name": "stdout",
     "output_type": "stream",
     "text": [
      "Classification Reports is:\n",
      "               precision    recall  f1-score   support\n",
      "\n",
      "           0       0.85      0.77      0.81       527\n",
      "           1       0.79      0.87      0.83       527\n",
      "\n",
      "    accuracy                           0.82      1054\n",
      "   macro avg       0.82      0.82      0.82      1054\n",
      "weighted avg       0.82      0.82      0.82      1054\n",
      "\n"
     ]
    }
   ],
   "source": [
    "print(\"Classification Reports is:\\n\",classification_report(y_test_bal, y_pred_sb))"
   ]
  },
  {
   "cell_type": "markdown",
   "metadata": {},
   "source": [
    "> The classification report has vastly been improved, this could be attributed to the balancing of the data"
   ]
  },
  {
   "cell_type": "markdown",
   "metadata": {},
   "source": [
    "### Functional"
   ]
  },
  {
   "cell_type": "code",
   "execution_count": 69,
   "metadata": {},
   "outputs": [
    {
     "data": {
      "text/plain": [
       "<matplotlib.legend.Legend at 0x210c00d3b50>"
      ]
     },
     "execution_count": 69,
     "metadata": {},
     "output_type": "execute_result"
    },
    {
     "data": {
      "image/png": "[encoded data removed]",
      "text/plain": [
       "<Figure size 432x288 with 1 Axes>"
      ]
     },
     "metadata": {
      "needs_background": "light"
     },
     "output_type": "display_data"
    }
   ],
   "source": [
    "#Visualising the training and validation loss\n",
    "fig, ax = plt.subplots()\n",
    "ax.plot(range(45),history_fun.history['loss'],label='train loss')\n",
    "ax.plot(range(45),history_fun.history['val_loss'],label='val loss')\n",
    "ax.set_xlabel('Epoch')\n",
    "ax.set_ylabel('Loss')\n",
    "plt.legend()"
   ]
  },
  {
   "cell_type": "markdown",
   "metadata": {},
   "source": [
    "> By the graph above, I can see that the data is considered good fit and it seems it's a better fit compared to Sequential API. After many improvements towards the models, I have finally gotten a model with a good fit (it used to have exploding gradients)"
   ]
  },
  {
   "cell_type": "code",
   "execution_count": 70,
   "metadata": {},
   "outputs": [
    {
     "name": "stdout",
     "output_type": "stream",
     "text": [
      "22/22 [==============================] - 0s 1ms/step - loss: 0.5017 - accuracy: 0.7599\n"
     ]
    },
    {
     "data": {
      "text/plain": [
       "[0.5016780495643616, 0.7599431872367859]"
      ]
     },
     "execution_count": 70,
     "metadata": {},
     "output_type": "execute_result"
    }
   ],
   "source": [
    "#Evaluating the models\n",
    "model_fun.evaluate(test_data)"
   ]
  },
  {
   "cell_type": "markdown",
   "metadata": {},
   "source": [
    "> Here after evaluating the test dataset, I got an accuracy of 80% and a loss of 42% which is slightly better to the train and valid dataset, in terms of loss and accuracy"
   ]
  },
  {
   "cell_type": "code",
   "execution_count": 71,
   "metadata": {},
   "outputs": [
    {
     "name": "stdout",
     "output_type": "stream",
     "text": [
      "22/22 [==============================] - 0s 1ms/step\n"
     ]
    }
   ],
   "source": [
    "#Predicting the testset\n",
    "y_pred_test_f = model_fun.predict(test_data)\n",
    "y_pred_f = y_pred_test_f.round()"
   ]
  },
  {
   "cell_type": "code",
   "execution_count": 72,
   "metadata": {},
   "outputs": [
    {
     "data": {
      "text/plain": [
       "Text(33.0, 0.5, 'Actual')"
      ]
     },
     "execution_count": 72,
     "metadata": {},
     "output_type": "execute_result"
    },
    {
     "data": {
      "image/png": "[encoded data removed]",
      "text/plain": [
       "<Figure size 432x288 with 2 Axes>"
      ]
     },
     "metadata": {
      "needs_background": "light"
     },
     "output_type": "display_data"
    }
   ],
   "source": [
    "#Visualising the prediction for the testset\n",
    "cm = math.confusion_matrix(labels=y_test,predictions=y_pred_f)\n",
    "\n",
    "sns.heatmap(cm,annot=True,fmt='d')\n",
    "plt.xlabel('Predicted')\n",
    "plt.ylabel('Actual')"
   ]
  },
  {
   "cell_type": "markdown",
   "metadata": {},
   "source": [
    "> With the confusion matrix, I can see that the model predicted 1 ('Yes') 101 times when the answer was suppose to be 0 ('No'). Here the model predicted Churn 'No' correctly 83% of the time and Churn 'Yes' correctly 80%, I still think the lower prediction rate for Churn 'Yes' could be attributed to the imbalanced data"
   ]
  },
  {
   "cell_type": "code",
   "execution_count": 73,
   "metadata": {},
   "outputs": [
    {
     "name": "stdout",
     "output_type": "stream",
     "text": [
      "Classification Reports is:\n",
      "               precision    recall  f1-score   support\n",
      "\n",
      "           0       0.92      0.74      0.82       527\n",
      "           1       0.51      0.81      0.63       177\n",
      "\n",
      "    accuracy                           0.76       704\n",
      "   macro avg       0.72      0.78      0.73       704\n",
      "weighted avg       0.82      0.76      0.77       704\n",
      "\n"
     ]
    }
   ],
   "source": [
    "print(\"Classification Reports is:\\n\",classification_report(y_test, y_pred_f))"
   ]
  },
  {
   "cell_type": "markdown",
   "metadata": {},
   "source": [
    "> For the classification report, I can see that it has underperformed in the 1 prediction. Which makes sense because the data had a majority of it in 0"
   ]
  },
  {
   "cell_type": "markdown",
   "metadata": {},
   "source": [
    "### Functional Balance"
   ]
  },
  {
   "cell_type": "code",
   "execution_count": 74,
   "metadata": {},
   "outputs": [
    {
     "data": {
      "text/plain": [
       "<matplotlib.legend.Legend at 0x210c026ea00>"
      ]
     },
     "execution_count": 74,
     "metadata": {},
     "output_type": "execute_result"
    },
    {
     "data": {
      "image/png": "[encoded data removed]",
      "text/plain": [
       "<Figure size 432x288 with 1 Axes>"
      ]
     },
     "metadata": {
      "needs_background": "light"
     },
     "output_type": "display_data"
    }
   ],
   "source": [
    "#Visualising the training and validation loss\n",
    "fig, ax = plt.subplots()\n",
    "ax.plot(range(45),history_fun_b.history['loss'],label='train loss')\n",
    "ax.plot(range(45),history_fun_b.history['val_loss'],label='val loss')\n",
    "ax.set_xlabel('Epoch')\n",
    "ax.set_ylabel('Loss')\n",
    "plt.legend()"
   ]
  },
  {
   "cell_type": "markdown",
   "metadata": {},
   "source": [
    "> By the graph above, I can see that the model is overfit. Since it is too separated to be called goodfit"
   ]
  },
  {
   "cell_type": "code",
   "execution_count": 75,
   "metadata": {},
   "outputs": [
    {
     "name": "stdout",
     "output_type": "stream",
     "text": [
      "33/33 [==============================] - 0s 1ms/step - loss: 0.4541 - accuracy: 0.8159\n"
     ]
    },
    {
     "data": {
      "text/plain": [
       "[0.4541170597076416, 0.8159393072128296]"
      ]
     },
     "execution_count": 75,
     "metadata": {},
     "output_type": "execute_result"
    }
   ],
   "source": [
    "#Evaluating the models\n",
    "model_fun.evaluate(X_test_bal, y_test_bal)"
   ]
  },
  {
   "cell_type": "code",
   "execution_count": 76,
   "metadata": {},
   "outputs": [
    {
     "name": "stdout",
     "output_type": "stream",
     "text": [
      "33/33 [==============================] - 0s 972us/step\n"
     ]
    }
   ],
   "source": [
    "#Predicting the testset\n",
    "y_pred_test_fb = model_fun.predict(X_test_bal)\n",
    "y_pred_fb = y_pred_test_fb.round()"
   ]
  },
  {
   "cell_type": "code",
   "execution_count": 77,
   "metadata": {},
   "outputs": [
    {
     "data": {
      "text/plain": [
       "Text(33.0, 0.5, 'Actual')"
      ]
     },
     "execution_count": 77,
     "metadata": {},
     "output_type": "execute_result"
    },
    {
     "data": {
      "image/png": "[encoded data removed]",
      "text/plain": [
       "<Figure size 432x288 with 2 Axes>"
      ]
     },
     "metadata": {
      "needs_background": "light"
     },
     "output_type": "display_data"
    }
   ],
   "source": [
    "#Visualising the prediction for the testset\n",
    "cm = math.confusion_matrix(labels=y_test_bal,predictions=y_pred_fb)\n",
    "\n",
    "sns.heatmap(cm,annot=True,fmt='d')\n",
    "plt.xlabel('Predicted')\n",
    "plt.ylabel('Actual')"
   ]
  },
  {
   "cell_type": "markdown",
   "metadata": {},
   "source": [
    "> Here I can see that the model predicted Churn 'No' 81% correctly, while Churn 'Yes' got 77% correctly. The largest improvement is in the 'Yes' prediction, as the dataset is balanced it is able to learn the 'Yes' option even more, this making the prediction score increase"
   ]
  },
  {
   "cell_type": "code",
   "execution_count": 78,
   "metadata": {},
   "outputs": [
    {
     "name": "stdout",
     "output_type": "stream",
     "text": [
      "Classification Reports is:\n",
      "               precision    recall  f1-score   support\n",
      "\n",
      "           0       0.87      0.74      0.80       527\n",
      "           1       0.78      0.89      0.83       527\n",
      "\n",
      "    accuracy                           0.82      1054\n",
      "   macro avg       0.82      0.82      0.81      1054\n",
      "weighted avg       0.82      0.82      0.81      1054\n",
      "\n"
     ]
    }
   ],
   "source": [
    "print(\"Classification Reports is:\\n\",classification_report(y_test_bal, y_pred_fb))"
   ]
  },
  {
   "cell_type": "markdown",
   "metadata": {},
   "source": [
    "> Here the classification report has improved because the data is balanced, with an average of 80% above"
   ]
  },
  {
   "cell_type": "markdown",
   "metadata": {},
   "source": [
    "------------------------\n",
    "## Model Saving\n",
    "> Dengan melihat hasil evaluasi model, pilihlah model terbaik untuk disimpan. Model terbaik ini akan digunakan kembali dalam melakukan deployment di Heroku."
   ]
  },
  {
   "cell_type": "code",
   "execution_count": 79,
   "metadata": {},
   "outputs": [],
   "source": [
    "#Saving the joined pipeline\n",
    "with open('pipe.pkl', 'wb') as file1:\n",
    "    pickle.dump(preprocessor, file1)"
   ]
  },
  {
   "cell_type": "code",
   "execution_count": 80,
   "metadata": {},
   "outputs": [],
   "source": [
    "#Saving the models\n",
    "model_seq.save(\"my_model_seq.h5\")\n",
    "model_fun.save(\"my_model_fun.h5\")"
   ]
  },
  {
   "cell_type": "markdown",
   "metadata": {},
   "source": [
    "## Model Loading"
   ]
  },
  {
   "cell_type": "code",
   "execution_count": 81,
   "metadata": {},
   "outputs": [],
   "source": [
    "#Loading the models\n",
    "model_s = keras.models.load_model(\"my_model_seq.h5\")\n",
    "model_f = keras.models.load_model(\"my_model_fun.h5\")"
   ]
  },
  {
   "cell_type": "code",
   "execution_count": 82,
   "metadata": {},
   "outputs": [],
   "source": [
    "#Loading the pipeline\n",
    "with open('pipe.pkl', 'rb') as file1:\n",
    "    pipe = pickle.load(file1)"
   ]
  },
  {
   "cell_type": "markdown",
   "metadata": {},
   "source": [
    "------------------------\n",
    "## Model Inference\n",
    "> Model yang sudah dilatih akan dicoba pada data yang bukan termasuk ke dalam train-set ataupun test-set. Data ini harus dalam format yang asli, bukan data yang sudah di-scaled."
   ]
  },
  {
   "cell_type": "code",
   "execution_count": 83,
   "metadata": {},
   "outputs": [
    {
     "data": {
      "text/html": [
       "<div>\n",
       "<style scoped>\n",
       "    .dataframe tbody tr th:only-of-type {\n",
       "        vertical-align: middle;\n",
       "    }\n",
       "\n",
       "    .dataframe tbody tr th {\n",
       "        vertical-align: top;\n",
       "    }\n",
       "\n",
       "    .dataframe thead th {\n",
       "        text-align: right;\n",
       "    }\n",
       "</style>\n",
       "<table border=\"1\" class=\"dataframe\">\n",
       "  <thead>\n",
       "    <tr style=\"text-align: right;\">\n",
       "      <th></th>\n",
       "      <th>gender</th>\n",
       "      <th>SeniorCitizen</th>\n",
       "      <th>Partner</th>\n",
       "      <th>Dependents</th>\n",
       "      <th>tenure</th>\n",
       "      <th>PhoneService</th>\n",
       "      <th>MultipleLines</th>\n",
       "      <th>InternetService</th>\n",
       "      <th>OnlineSecurity</th>\n",
       "      <th>OnlineBackup</th>\n",
       "      <th>DeviceProtection</th>\n",
       "      <th>TechSupport</th>\n",
       "      <th>StreamingTV</th>\n",
       "      <th>StreamingMovies</th>\n",
       "      <th>Contract</th>\n",
       "      <th>PaperlessBilling</th>\n",
       "      <th>PaymentMethod</th>\n",
       "      <th>MonthlyCharges</th>\n",
       "      <th>TotalCharges</th>\n",
       "      <th>Churn</th>\n",
       "    </tr>\n",
       "  </thead>\n",
       "  <tbody>\n",
       "    <tr>\n",
       "      <th>0</th>\n",
       "      <td>Female</td>\n",
       "      <td>No</td>\n",
       "      <td>No</td>\n",
       "      <td>No</td>\n",
       "      <td>5</td>\n",
       "      <td>Yes</td>\n",
       "      <td>Yes</td>\n",
       "      <td>Fiber optic</td>\n",
       "      <td>No</td>\n",
       "      <td>Yes</td>\n",
       "      <td>No</td>\n",
       "      <td>No</td>\n",
       "      <td>Yes</td>\n",
       "      <td>No</td>\n",
       "      <td>Month-to-month</td>\n",
       "      <td>Yes</td>\n",
       "      <td>Electronic check</td>\n",
       "      <td>90.80</td>\n",
       "      <td>455.50</td>\n",
       "      <td>1</td>\n",
       "    </tr>\n",
       "    <tr>\n",
       "      <th>1</th>\n",
       "      <td>Male</td>\n",
       "      <td>No</td>\n",
       "      <td>Yes</td>\n",
       "      <td>No</td>\n",
       "      <td>52</td>\n",
       "      <td>Yes</td>\n",
       "      <td>Yes</td>\n",
       "      <td>DSL</td>\n",
       "      <td>Yes</td>\n",
       "      <td>Yes</td>\n",
       "      <td>Yes</td>\n",
       "      <td>Yes</td>\n",
       "      <td>No</td>\n",
       "      <td>Yes</td>\n",
       "      <td>One year</td>\n",
       "      <td>Yes</td>\n",
       "      <td>Credit card (automatic)</td>\n",
       "      <td>81.40</td>\n",
       "      <td>4354.45</td>\n",
       "      <td>0</td>\n",
       "    </tr>\n",
       "    <tr>\n",
       "      <th>2</th>\n",
       "      <td>Female</td>\n",
       "      <td>Yes</td>\n",
       "      <td>No</td>\n",
       "      <td>No</td>\n",
       "      <td>2</td>\n",
       "      <td>Yes</td>\n",
       "      <td>Yes</td>\n",
       "      <td>Fiber optic</td>\n",
       "      <td>No</td>\n",
       "      <td>No</td>\n",
       "      <td>Yes</td>\n",
       "      <td>No</td>\n",
       "      <td>No</td>\n",
       "      <td>Yes</td>\n",
       "      <td>Month-to-month</td>\n",
       "      <td>Yes</td>\n",
       "      <td>Electronic check</td>\n",
       "      <td>88.55</td>\n",
       "      <td>179.25</td>\n",
       "      <td>1</td>\n",
       "    </tr>\n",
       "    <tr>\n",
       "      <th>3</th>\n",
       "      <td>Female</td>\n",
       "      <td>No</td>\n",
       "      <td>Yes</td>\n",
       "      <td>No</td>\n",
       "      <td>3</td>\n",
       "      <td>Yes</td>\n",
       "      <td>Yes</td>\n",
       "      <td>Fiber optic</td>\n",
       "      <td>No</td>\n",
       "      <td>Yes</td>\n",
       "      <td>No</td>\n",
       "      <td>No</td>\n",
       "      <td>No</td>\n",
       "      <td>Yes</td>\n",
       "      <td>Month-to-month</td>\n",
       "      <td>Yes</td>\n",
       "      <td>Credit card (automatic)</td>\n",
       "      <td>91.50</td>\n",
       "      <td>242.95</td>\n",
       "      <td>1</td>\n",
       "    </tr>\n",
       "    <tr>\n",
       "      <th>4</th>\n",
       "      <td>Male</td>\n",
       "      <td>No</td>\n",
       "      <td>No</td>\n",
       "      <td>No</td>\n",
       "      <td>35</td>\n",
       "      <td>Yes</td>\n",
       "      <td>No</td>\n",
       "      <td>No</td>\n",
       "      <td>No</td>\n",
       "      <td>No</td>\n",
       "      <td>No</td>\n",
       "      <td>No</td>\n",
       "      <td>No</td>\n",
       "      <td>No</td>\n",
       "      <td>Two year</td>\n",
       "      <td>No</td>\n",
       "      <td>Mailed check</td>\n",
       "      <td>19.25</td>\n",
       "      <td>677.90</td>\n",
       "      <td>0</td>\n",
       "    </tr>\n",
       "    <tr>\n",
       "      <th>5</th>\n",
       "      <td>Female</td>\n",
       "      <td>No</td>\n",
       "      <td>Yes</td>\n",
       "      <td>No</td>\n",
       "      <td>41</td>\n",
       "      <td>No</td>\n",
       "      <td>No</td>\n",
       "      <td>DSL</td>\n",
       "      <td>No</td>\n",
       "      <td>Yes</td>\n",
       "      <td>No</td>\n",
       "      <td>Yes</td>\n",
       "      <td>No</td>\n",
       "      <td>No</td>\n",
       "      <td>One year</td>\n",
       "      <td>No</td>\n",
       "      <td>Mailed check</td>\n",
       "      <td>35.45</td>\n",
       "      <td>1391.65</td>\n",
       "      <td>0</td>\n",
       "    </tr>\n",
       "    <tr>\n",
       "      <th>6</th>\n",
       "      <td>Female</td>\n",
       "      <td>No</td>\n",
       "      <td>No</td>\n",
       "      <td>Yes</td>\n",
       "      <td>65</td>\n",
       "      <td>No</td>\n",
       "      <td>No</td>\n",
       "      <td>DSL</td>\n",
       "      <td>No</td>\n",
       "      <td>Yes</td>\n",
       "      <td>No</td>\n",
       "      <td>Yes</td>\n",
       "      <td>Yes</td>\n",
       "      <td>No</td>\n",
       "      <td>Two year</td>\n",
       "      <td>No</td>\n",
       "      <td>Mailed check</td>\n",
       "      <td>45.25</td>\n",
       "      <td>2933.95</td>\n",
       "      <td>0</td>\n",
       "    </tr>\n",
       "    <tr>\n",
       "      <th>7</th>\n",
       "      <td>Male</td>\n",
       "      <td>No</td>\n",
       "      <td>No</td>\n",
       "      <td>Yes</td>\n",
       "      <td>54</td>\n",
       "      <td>Yes</td>\n",
       "      <td>Yes</td>\n",
       "      <td>DSL</td>\n",
       "      <td>No</td>\n",
       "      <td>Yes</td>\n",
       "      <td>No</td>\n",
       "      <td>No</td>\n",
       "      <td>No</td>\n",
       "      <td>No</td>\n",
       "      <td>Month-to-month</td>\n",
       "      <td>Yes</td>\n",
       "      <td>Credit card (automatic)</td>\n",
       "      <td>55.00</td>\n",
       "      <td>3092.65</td>\n",
       "      <td>1</td>\n",
       "    </tr>\n",
       "    <tr>\n",
       "      <th>8</th>\n",
       "      <td>Female</td>\n",
       "      <td>No</td>\n",
       "      <td>Yes</td>\n",
       "      <td>No</td>\n",
       "      <td>7</td>\n",
       "      <td>Yes</td>\n",
       "      <td>No</td>\n",
       "      <td>DSL</td>\n",
       "      <td>No</td>\n",
       "      <td>No</td>\n",
       "      <td>No</td>\n",
       "      <td>No</td>\n",
       "      <td>No</td>\n",
       "      <td>No</td>\n",
       "      <td>Month-to-month</td>\n",
       "      <td>Yes</td>\n",
       "      <td>Mailed check</td>\n",
       "      <td>44.25</td>\n",
       "      <td>313.45</td>\n",
       "      <td>0</td>\n",
       "    </tr>\n",
       "    <tr>\n",
       "      <th>9</th>\n",
       "      <td>Female</td>\n",
       "      <td>No</td>\n",
       "      <td>No</td>\n",
       "      <td>No</td>\n",
       "      <td>2</td>\n",
       "      <td>Yes</td>\n",
       "      <td>No</td>\n",
       "      <td>DSL</td>\n",
       "      <td>No</td>\n",
       "      <td>No</td>\n",
       "      <td>No</td>\n",
       "      <td>No</td>\n",
       "      <td>No</td>\n",
       "      <td>No</td>\n",
       "      <td>Month-to-month</td>\n",
       "      <td>Yes</td>\n",
       "      <td>Mailed check</td>\n",
       "      <td>45.85</td>\n",
       "      <td>105.60</td>\n",
       "      <td>0</td>\n",
       "    </tr>\n",
       "  </tbody>\n",
       "</table>\n",
       "</div>"
      ],
      "text/plain": [
       "   gender SeniorCitizen Partner Dependents  tenure PhoneService MultipleLines  \\\n",
       "0  Female            No      No         No       5          Yes           Yes   \n",
       "1    Male            No     Yes         No      52          Yes           Yes   \n",
       "2  Female           Yes      No         No       2          Yes           Yes   \n",
       "3  Female            No     Yes         No       3          Yes           Yes   \n",
       "4    Male            No      No         No      35          Yes            No   \n",
       "5  Female            No     Yes         No      41           No            No   \n",
       "6  Female            No      No        Yes      65           No            No   \n",
       "7    Male            No      No        Yes      54          Yes           Yes   \n",
       "8  Female            No     Yes         No       7          Yes            No   \n",
       "9  Female            No      No         No       2          Yes            No   \n",
       "\n",
       "  InternetService OnlineSecurity OnlineBackup DeviceProtection TechSupport  \\\n",
       "0     Fiber optic             No          Yes               No          No   \n",
       "1             DSL            Yes          Yes              Yes         Yes   \n",
       "2     Fiber optic             No           No              Yes          No   \n",
       "3     Fiber optic             No          Yes               No          No   \n",
       "4              No             No           No               No          No   \n",
       "5             DSL             No          Yes               No         Yes   \n",
       "6             DSL             No          Yes               No         Yes   \n",
       "7             DSL             No          Yes               No          No   \n",
       "8             DSL             No           No               No          No   \n",
       "9             DSL             No           No               No          No   \n",
       "\n",
       "  StreamingTV StreamingMovies        Contract PaperlessBilling  \\\n",
       "0         Yes              No  Month-to-month              Yes   \n",
       "1          No             Yes        One year              Yes   \n",
       "2          No             Yes  Month-to-month              Yes   \n",
       "3          No             Yes  Month-to-month              Yes   \n",
       "4          No              No        Two year               No   \n",
       "5          No              No        One year               No   \n",
       "6         Yes              No        Two year               No   \n",
       "7          No              No  Month-to-month              Yes   \n",
       "8          No              No  Month-to-month              Yes   \n",
       "9          No              No  Month-to-month              Yes   \n",
       "\n",
       "             PaymentMethod  MonthlyCharges  TotalCharges  Churn  \n",
       "0         Electronic check           90.80        455.50      1  \n",
       "1  Credit card (automatic)           81.40       4354.45      0  \n",
       "2         Electronic check           88.55        179.25      1  \n",
       "3  Credit card (automatic)           91.50        242.95      1  \n",
       "4             Mailed check           19.25        677.90      0  \n",
       "5             Mailed check           35.45       1391.65      0  \n",
       "6             Mailed check           45.25       2933.95      0  \n",
       "7  Credit card (automatic)           55.00       3092.65      1  \n",
       "8             Mailed check           44.25        313.45      0  \n",
       "9             Mailed check           45.85        105.60      0  "
      ]
     },
     "execution_count": 83,
     "metadata": {},
     "output_type": "execute_result"
    }
   ],
   "source": [
    "#Display data_inf\n",
    "data_inf"
   ]
  },
  {
   "cell_type": "code",
   "execution_count": 84,
   "metadata": {},
   "outputs": [],
   "source": [
    "data_inf_red = data_inf.drop('PhoneService', axis=1)"
   ]
  },
  {
   "cell_type": "code",
   "execution_count": 85,
   "metadata": {},
   "outputs": [
    {
     "data": {
      "text/plain": [
       "array([[-0.89950042,  1.25110122, -0.63374279,  0.        ,  0.        ,\n",
       "         0.        ,  0.        ,  1.        ,  1.        ,  0.        ,\n",
       "         1.        ,  0.        ,  0.        ,  1.        ,  0.        ,\n",
       "         0.        ,  1.        ,  1.        ],\n",
       "       [ 1.05774586,  0.87258975,  2.05428743,  1.        ,  0.        ,\n",
       "         1.        ,  0.        ,  1.        ,  0.        ,  1.        ,\n",
       "         1.        ,  1.        ,  1.        ,  0.        ,  1.        ,\n",
       "         1.        ,  1.        ,  0.        ],\n",
       "       [-1.02443103,  1.16050007, -0.82419621,  0.        ,  1.        ,\n",
       "         0.        ,  0.        ,  1.        ,  1.        ,  0.        ,\n",
       "         0.        ,  1.        ,  0.        ,  0.        ,  1.        ,\n",
       "         0.        ,  1.        ,  1.        ],\n",
       "       [-0.98278749,  1.27928825, -0.78027989,  0.        ,  0.        ,\n",
       "         1.        ,  0.        ,  1.        ,  1.        ,  0.        ,\n",
       "         1.        ,  0.        ,  0.        ,  0.        ,  1.        ,\n",
       "         0.        ,  1.        ,  0.        ],\n",
       "       [ 0.34980572, -1.63001537, -0.48041487,  1.        ,  0.        ,\n",
       "         0.        ,  0.        ,  0.        ,  2.        ,  0.        ,\n",
       "         0.        ,  0.        ,  0.        ,  0.        ,  0.        ,\n",
       "         2.        ,  0.        ,  2.        ],\n",
       "       [ 0.59966694, -0.97768708,  0.01166161,  0.        ,  0.        ,\n",
       "         1.        ,  0.        ,  0.        ,  0.        ,  0.        ,\n",
       "         1.        ,  0.        ,  1.        ,  0.        ,  0.        ,\n",
       "         1.        ,  0.        ,  2.        ],\n",
       "       [ 1.59911185, -0.58306874,  1.07496045,  0.        ,  0.        ,\n",
       "         0.        ,  1.        ,  0.        ,  0.        ,  0.        ,\n",
       "         1.        ,  0.        ,  1.        ,  1.        ,  0.        ,\n",
       "         2.        ,  0.        ,  2.        ],\n",
       "       [ 1.14103294, -0.19046375,  1.18437206,  1.        ,  0.        ,\n",
       "         0.        ,  1.        ,  1.        ,  0.        ,  0.        ,\n",
       "         1.        ,  0.        ,  0.        ,  0.        ,  0.        ,\n",
       "         0.        ,  1.        ,  0.        ],\n",
       "       [-0.81621334, -0.62333592, -0.73167549,  0.        ,  0.        ,\n",
       "         1.        ,  0.        ,  0.        ,  0.        ,  0.        ,\n",
       "         0.        ,  0.        ,  0.        ,  0.        ,  0.        ,\n",
       "         0.        ,  1.        ,  2.        ],\n",
       "       [-1.02443103, -0.55890843, -0.8749723 ,  0.        ,  0.        ,\n",
       "         0.        ,  0.        ,  0.        ,  0.        ,  0.        ,\n",
       "         0.        ,  0.        ,  0.        ,  0.        ,  0.        ,\n",
       "         0.        ,  1.        ,  2.        ]])"
      ]
     },
     "execution_count": 85,
     "metadata": {},
     "output_type": "execute_result"
    }
   ],
   "source": [
    "data_piped = pipe.fit_transform(data_inf_red)\n",
    "data_piped"
   ]
  },
  {
   "cell_type": "code",
   "execution_count": 86,
   "metadata": {},
   "outputs": [
    {
     "data": {
      "text/html": [
       "<div>\n",
       "<style scoped>\n",
       "    .dataframe tbody tr th:only-of-type {\n",
       "        vertical-align: middle;\n",
       "    }\n",
       "\n",
       "    .dataframe tbody tr th {\n",
       "        vertical-align: top;\n",
       "    }\n",
       "\n",
       "    .dataframe thead tr th {\n",
       "        text-align: left;\n",
       "    }\n",
       "</style>\n",
       "<table border=\"1\" class=\"dataframe\">\n",
       "  <thead>\n",
       "    <tr>\n",
       "      <th></th>\n",
       "      <th>tenure</th>\n",
       "      <th>MonthlyCharges</th>\n",
       "      <th>TotalCharges</th>\n",
       "      <th>gender</th>\n",
       "      <th>SeniorCitizen</th>\n",
       "      <th>Partner</th>\n",
       "      <th>Dependents</th>\n",
       "      <th>MultipleLines</th>\n",
       "      <th>InternetService</th>\n",
       "      <th>OnlineSecurity</th>\n",
       "      <th>OnlineBackup</th>\n",
       "      <th>DeviceProtection</th>\n",
       "      <th>TechSupport</th>\n",
       "      <th>StreamingTV</th>\n",
       "      <th>StreamingMovies</th>\n",
       "      <th>Contract</th>\n",
       "      <th>PaperlessBilling</th>\n",
       "      <th>PaymentMethod</th>\n",
       "    </tr>\n",
       "  </thead>\n",
       "  <tbody>\n",
       "    <tr>\n",
       "      <th>0</th>\n",
       "      <td>-0.899500</td>\n",
       "      <td>1.251101</td>\n",
       "      <td>-0.633743</td>\n",
       "      <td>0.0</td>\n",
       "      <td>0.0</td>\n",
       "      <td>0.0</td>\n",
       "      <td>0.0</td>\n",
       "      <td>1.0</td>\n",
       "      <td>1.0</td>\n",
       "      <td>0.0</td>\n",
       "      <td>1.0</td>\n",
       "      <td>0.0</td>\n",
       "      <td>0.0</td>\n",
       "      <td>1.0</td>\n",
       "      <td>0.0</td>\n",
       "      <td>0.0</td>\n",
       "      <td>1.0</td>\n",
       "      <td>1.0</td>\n",
       "    </tr>\n",
       "    <tr>\n",
       "      <th>1</th>\n",
       "      <td>1.057746</td>\n",
       "      <td>0.872590</td>\n",
       "      <td>2.054287</td>\n",
       "      <td>1.0</td>\n",
       "      <td>0.0</td>\n",
       "      <td>1.0</td>\n",
       "      <td>0.0</td>\n",
       "      <td>1.0</td>\n",
       "      <td>0.0</td>\n",
       "      <td>1.0</td>\n",
       "      <td>1.0</td>\n",
       "      <td>1.0</td>\n",
       "      <td>1.0</td>\n",
       "      <td>0.0</td>\n",
       "      <td>1.0</td>\n",
       "      <td>1.0</td>\n",
       "      <td>1.0</td>\n",
       "      <td>0.0</td>\n",
       "    </tr>\n",
       "    <tr>\n",
       "      <th>2</th>\n",
       "      <td>-1.024431</td>\n",
       "      <td>1.160500</td>\n",
       "      <td>-0.824196</td>\n",
       "      <td>0.0</td>\n",
       "      <td>1.0</td>\n",
       "      <td>0.0</td>\n",
       "      <td>0.0</td>\n",
       "      <td>1.0</td>\n",
       "      <td>1.0</td>\n",
       "      <td>0.0</td>\n",
       "      <td>0.0</td>\n",
       "      <td>1.0</td>\n",
       "      <td>0.0</td>\n",
       "      <td>0.0</td>\n",
       "      <td>1.0</td>\n",
       "      <td>0.0</td>\n",
       "      <td>1.0</td>\n",
       "      <td>1.0</td>\n",
       "    </tr>\n",
       "    <tr>\n",
       "      <th>3</th>\n",
       "      <td>-0.982787</td>\n",
       "      <td>1.279288</td>\n",
       "      <td>-0.780280</td>\n",
       "      <td>0.0</td>\n",
       "      <td>0.0</td>\n",
       "      <td>1.0</td>\n",
       "      <td>0.0</td>\n",
       "      <td>1.0</td>\n",
       "      <td>1.0</td>\n",
       "      <td>0.0</td>\n",
       "      <td>1.0</td>\n",
       "      <td>0.0</td>\n",
       "      <td>0.0</td>\n",
       "      <td>0.0</td>\n",
       "      <td>1.0</td>\n",
       "      <td>0.0</td>\n",
       "      <td>1.0</td>\n",
       "      <td>0.0</td>\n",
       "    </tr>\n",
       "    <tr>\n",
       "      <th>4</th>\n",
       "      <td>0.349806</td>\n",
       "      <td>-1.630015</td>\n",
       "      <td>-0.480415</td>\n",
       "      <td>1.0</td>\n",
       "      <td>0.0</td>\n",
       "      <td>0.0</td>\n",
       "      <td>0.0</td>\n",
       "      <td>0.0</td>\n",
       "      <td>2.0</td>\n",
       "      <td>0.0</td>\n",
       "      <td>0.0</td>\n",
       "      <td>0.0</td>\n",
       "      <td>0.0</td>\n",
       "      <td>0.0</td>\n",
       "      <td>0.0</td>\n",
       "      <td>2.0</td>\n",
       "      <td>0.0</td>\n",
       "      <td>2.0</td>\n",
       "    </tr>\n",
       "    <tr>\n",
       "      <th>5</th>\n",
       "      <td>0.599667</td>\n",
       "      <td>-0.977687</td>\n",
       "      <td>0.011662</td>\n",
       "      <td>0.0</td>\n",
       "      <td>0.0</td>\n",
       "      <td>1.0</td>\n",
       "      <td>0.0</td>\n",
       "      <td>0.0</td>\n",
       "      <td>0.0</td>\n",
       "      <td>0.0</td>\n",
       "      <td>1.0</td>\n",
       "      <td>0.0</td>\n",
       "      <td>1.0</td>\n",
       "      <td>0.0</td>\n",
       "      <td>0.0</td>\n",
       "      <td>1.0</td>\n",
       "      <td>0.0</td>\n",
       "      <td>2.0</td>\n",
       "    </tr>\n",
       "    <tr>\n",
       "      <th>6</th>\n",
       "      <td>1.599112</td>\n",
       "      <td>-0.583069</td>\n",
       "      <td>1.074960</td>\n",
       "      <td>0.0</td>\n",
       "      <td>0.0</td>\n",
       "      <td>0.0</td>\n",
       "      <td>1.0</td>\n",
       "      <td>0.0</td>\n",
       "      <td>0.0</td>\n",
       "      <td>0.0</td>\n",
       "      <td>1.0</td>\n",
       "      <td>0.0</td>\n",
       "      <td>1.0</td>\n",
       "      <td>1.0</td>\n",
       "      <td>0.0</td>\n",
       "      <td>2.0</td>\n",
       "      <td>0.0</td>\n",
       "      <td>2.0</td>\n",
       "    </tr>\n",
       "    <tr>\n",
       "      <th>7</th>\n",
       "      <td>1.141033</td>\n",
       "      <td>-0.190464</td>\n",
       "      <td>1.184372</td>\n",
       "      <td>1.0</td>\n",
       "      <td>0.0</td>\n",
       "      <td>0.0</td>\n",
       "      <td>1.0</td>\n",
       "      <td>1.0</td>\n",
       "      <td>0.0</td>\n",
       "      <td>0.0</td>\n",
       "      <td>1.0</td>\n",
       "      <td>0.0</td>\n",
       "      <td>0.0</td>\n",
       "      <td>0.0</td>\n",
       "      <td>0.0</td>\n",
       "      <td>0.0</td>\n",
       "      <td>1.0</td>\n",
       "      <td>0.0</td>\n",
       "    </tr>\n",
       "    <tr>\n",
       "      <th>8</th>\n",
       "      <td>-0.816213</td>\n",
       "      <td>-0.623336</td>\n",
       "      <td>-0.731675</td>\n",
       "      <td>0.0</td>\n",
       "      <td>0.0</td>\n",
       "      <td>1.0</td>\n",
       "      <td>0.0</td>\n",
       "      <td>0.0</td>\n",
       "      <td>0.0</td>\n",
       "      <td>0.0</td>\n",
       "      <td>0.0</td>\n",
       "      <td>0.0</td>\n",
       "      <td>0.0</td>\n",
       "      <td>0.0</td>\n",
       "      <td>0.0</td>\n",
       "      <td>0.0</td>\n",
       "      <td>1.0</td>\n",
       "      <td>2.0</td>\n",
       "    </tr>\n",
       "    <tr>\n",
       "      <th>9</th>\n",
       "      <td>-1.024431</td>\n",
       "      <td>-0.558908</td>\n",
       "      <td>-0.874972</td>\n",
       "      <td>0.0</td>\n",
       "      <td>0.0</td>\n",
       "      <td>0.0</td>\n",
       "      <td>0.0</td>\n",
       "      <td>0.0</td>\n",
       "      <td>0.0</td>\n",
       "      <td>0.0</td>\n",
       "      <td>0.0</td>\n",
       "      <td>0.0</td>\n",
       "      <td>0.0</td>\n",
       "      <td>0.0</td>\n",
       "      <td>0.0</td>\n",
       "      <td>0.0</td>\n",
       "      <td>1.0</td>\n",
       "      <td>2.0</td>\n",
       "    </tr>\n",
       "  </tbody>\n",
       "</table>\n",
       "</div>"
      ],
      "text/plain": [
       "     tenure MonthlyCharges TotalCharges gender SeniorCitizen Partner  \\\n",
       "0 -0.899500       1.251101    -0.633743    0.0           0.0     0.0   \n",
       "1  1.057746       0.872590     2.054287    1.0           0.0     1.0   \n",
       "2 -1.024431       1.160500    -0.824196    0.0           1.0     0.0   \n",
       "3 -0.982787       1.279288    -0.780280    0.0           0.0     1.0   \n",
       "4  0.349806      -1.630015    -0.480415    1.0           0.0     0.0   \n",
       "5  0.599667      -0.977687     0.011662    0.0           0.0     1.0   \n",
       "6  1.599112      -0.583069     1.074960    0.0           0.0     0.0   \n",
       "7  1.141033      -0.190464     1.184372    1.0           0.0     0.0   \n",
       "8 -0.816213      -0.623336    -0.731675    0.0           0.0     1.0   \n",
       "9 -1.024431      -0.558908    -0.874972    0.0           0.0     0.0   \n",
       "\n",
       "  Dependents MultipleLines InternetService OnlineSecurity OnlineBackup  \\\n",
       "0        0.0           1.0             1.0            0.0          1.0   \n",
       "1        0.0           1.0             0.0            1.0          1.0   \n",
       "2        0.0           1.0             1.0            0.0          0.0   \n",
       "3        0.0           1.0             1.0            0.0          1.0   \n",
       "4        0.0           0.0             2.0            0.0          0.0   \n",
       "5        0.0           0.0             0.0            0.0          1.0   \n",
       "6        1.0           0.0             0.0            0.0          1.0   \n",
       "7        1.0           1.0             0.0            0.0          1.0   \n",
       "8        0.0           0.0             0.0            0.0          0.0   \n",
       "9        0.0           0.0             0.0            0.0          0.0   \n",
       "\n",
       "  DeviceProtection TechSupport StreamingTV StreamingMovies Contract  \\\n",
       "0              0.0         0.0         1.0             0.0      0.0   \n",
       "1              1.0         1.0         0.0             1.0      1.0   \n",
       "2              1.0         0.0         0.0             1.0      0.0   \n",
       "3              0.0         0.0         0.0             1.0      0.0   \n",
       "4              0.0         0.0         0.0             0.0      2.0   \n",
       "5              0.0         1.0         0.0             0.0      1.0   \n",
       "6              0.0         1.0         1.0             0.0      2.0   \n",
       "7              0.0         0.0         0.0             0.0      0.0   \n",
       "8              0.0         0.0         0.0             0.0      0.0   \n",
       "9              0.0         0.0         0.0             0.0      0.0   \n",
       "\n",
       "  PaperlessBilling PaymentMethod  \n",
       "0              1.0           1.0  \n",
       "1              1.0           0.0  \n",
       "2              1.0           1.0  \n",
       "3              1.0           0.0  \n",
       "4              0.0           2.0  \n",
       "5              0.0           2.0  \n",
       "6              0.0           2.0  \n",
       "7              1.0           0.0  \n",
       "8              1.0           2.0  \n",
       "9              1.0           2.0  "
      ]
     },
     "execution_count": 86,
     "metadata": {},
     "output_type": "execute_result"
    }
   ],
   "source": [
    "data_inf_final_df = pd.DataFrame(data_piped, columns=[num_columns+cat_columns])\n",
    "data_inf_final_df"
   ]
  },
  {
   "cell_type": "code",
   "execution_count": 87,
   "metadata": {},
   "outputs": [
    {
     "name": "stdout",
     "output_type": "stream",
     "text": [
      "1/1 [==============================] - 0s 46ms/step\n"
     ]
    }
   ],
   "source": [
    "#Predict Data Inference\n",
    "y_pred_inf = model_f.predict(data_inf_final_df)\n",
    "y_pred_inf = y_pred_inf.round()"
   ]
  },
  {
   "cell_type": "code",
   "execution_count": 88,
   "metadata": {},
   "outputs": [
    {
     "data": {
      "text/html": [
       "<div>\n",
       "<style scoped>\n",
       "    .dataframe tbody tr th:only-of-type {\n",
       "        vertical-align: middle;\n",
       "    }\n",
       "\n",
       "    .dataframe tbody tr th {\n",
       "        vertical-align: top;\n",
       "    }\n",
       "\n",
       "    .dataframe thead th {\n",
       "        text-align: right;\n",
       "    }\n",
       "</style>\n",
       "<table border=\"1\" class=\"dataframe\">\n",
       "  <thead>\n",
       "    <tr style=\"text-align: right;\">\n",
       "      <th></th>\n",
       "      <th>Churn Prediction</th>\n",
       "    </tr>\n",
       "  </thead>\n",
       "  <tbody>\n",
       "    <tr>\n",
       "      <th>0</th>\n",
       "      <td>1.0</td>\n",
       "    </tr>\n",
       "    <tr>\n",
       "      <th>1</th>\n",
       "      <td>0.0</td>\n",
       "    </tr>\n",
       "    <tr>\n",
       "      <th>2</th>\n",
       "      <td>1.0</td>\n",
       "    </tr>\n",
       "    <tr>\n",
       "      <th>3</th>\n",
       "      <td>1.0</td>\n",
       "    </tr>\n",
       "    <tr>\n",
       "      <th>4</th>\n",
       "      <td>0.0</td>\n",
       "    </tr>\n",
       "    <tr>\n",
       "      <th>5</th>\n",
       "      <td>0.0</td>\n",
       "    </tr>\n",
       "    <tr>\n",
       "      <th>6</th>\n",
       "      <td>0.0</td>\n",
       "    </tr>\n",
       "    <tr>\n",
       "      <th>7</th>\n",
       "      <td>0.0</td>\n",
       "    </tr>\n",
       "    <tr>\n",
       "      <th>8</th>\n",
       "      <td>1.0</td>\n",
       "    </tr>\n",
       "    <tr>\n",
       "      <th>9</th>\n",
       "      <td>1.0</td>\n",
       "    </tr>\n",
       "  </tbody>\n",
       "</table>\n",
       "</div>"
      ],
      "text/plain": [
       "   Churn Prediction\n",
       "0               1.0\n",
       "1               0.0\n",
       "2               1.0\n",
       "3               1.0\n",
       "4               0.0\n",
       "5               0.0\n",
       "6               0.0\n",
       "7               0.0\n",
       "8               1.0\n",
       "9               1.0"
      ]
     },
     "execution_count": 88,
     "metadata": {},
     "output_type": "execute_result"
    }
   ],
   "source": [
    "#Convert into DataFrame\n",
    "y_pred_inf_df = pd.DataFrame(y_pred_inf, columns=['Churn Prediction'])\n",
    "y_pred_inf_df"
   ]
  },
  {
   "cell_type": "code",
   "execution_count": 89,
   "metadata": {},
   "outputs": [
    {
     "data": {
      "text/html": [
       "<div>\n",
       "<style scoped>\n",
       "    .dataframe tbody tr th:only-of-type {\n",
       "        vertical-align: middle;\n",
       "    }\n",
       "\n",
       "    .dataframe tbody tr th {\n",
       "        vertical-align: top;\n",
       "    }\n",
       "\n",
       "    .dataframe thead th {\n",
       "        text-align: right;\n",
       "    }\n",
       "</style>\n",
       "<table border=\"1\" class=\"dataframe\">\n",
       "  <thead>\n",
       "    <tr style=\"text-align: right;\">\n",
       "      <th></th>\n",
       "      <th>gender</th>\n",
       "      <th>SeniorCitizen</th>\n",
       "      <th>Partner</th>\n",
       "      <th>Dependents</th>\n",
       "      <th>tenure</th>\n",
       "      <th>PhoneService</th>\n",
       "      <th>MultipleLines</th>\n",
       "      <th>InternetService</th>\n",
       "      <th>OnlineSecurity</th>\n",
       "      <th>OnlineBackup</th>\n",
       "      <th>...</th>\n",
       "      <th>TechSupport</th>\n",
       "      <th>StreamingTV</th>\n",
       "      <th>StreamingMovies</th>\n",
       "      <th>Contract</th>\n",
       "      <th>PaperlessBilling</th>\n",
       "      <th>PaymentMethod</th>\n",
       "      <th>MonthlyCharges</th>\n",
       "      <th>TotalCharges</th>\n",
       "      <th>Churn</th>\n",
       "      <th>Churn Prediction</th>\n",
       "    </tr>\n",
       "  </thead>\n",
       "  <tbody>\n",
       "    <tr>\n",
       "      <th>0</th>\n",
       "      <td>Female</td>\n",
       "      <td>No</td>\n",
       "      <td>No</td>\n",
       "      <td>No</td>\n",
       "      <td>5</td>\n",
       "      <td>Yes</td>\n",
       "      <td>Yes</td>\n",
       "      <td>Fiber optic</td>\n",
       "      <td>No</td>\n",
       "      <td>Yes</td>\n",
       "      <td>...</td>\n",
       "      <td>No</td>\n",
       "      <td>Yes</td>\n",
       "      <td>No</td>\n",
       "      <td>Month-to-month</td>\n",
       "      <td>Yes</td>\n",
       "      <td>Electronic check</td>\n",
       "      <td>90.80</td>\n",
       "      <td>455.50</td>\n",
       "      <td>1</td>\n",
       "      <td>1.0</td>\n",
       "    </tr>\n",
       "    <tr>\n",
       "      <th>1</th>\n",
       "      <td>Male</td>\n",
       "      <td>No</td>\n",
       "      <td>Yes</td>\n",
       "      <td>No</td>\n",
       "      <td>52</td>\n",
       "      <td>Yes</td>\n",
       "      <td>Yes</td>\n",
       "      <td>DSL</td>\n",
       "      <td>Yes</td>\n",
       "      <td>Yes</td>\n",
       "      <td>...</td>\n",
       "      <td>Yes</td>\n",
       "      <td>No</td>\n",
       "      <td>Yes</td>\n",
       "      <td>One year</td>\n",
       "      <td>Yes</td>\n",
       "      <td>Credit card (automatic)</td>\n",
       "      <td>81.40</td>\n",
       "      <td>4354.45</td>\n",
       "      <td>0</td>\n",
       "      <td>0.0</td>\n",
       "    </tr>\n",
       "    <tr>\n",
       "      <th>2</th>\n",
       "      <td>Female</td>\n",
       "      <td>Yes</td>\n",
       "      <td>No</td>\n",
       "      <td>No</td>\n",
       "      <td>2</td>\n",
       "      <td>Yes</td>\n",
       "      <td>Yes</td>\n",
       "      <td>Fiber optic</td>\n",
       "      <td>No</td>\n",
       "      <td>No</td>\n",
       "      <td>...</td>\n",
       "      <td>No</td>\n",
       "      <td>No</td>\n",
       "      <td>Yes</td>\n",
       "      <td>Month-to-month</td>\n",
       "      <td>Yes</td>\n",
       "      <td>Electronic check</td>\n",
       "      <td>88.55</td>\n",
       "      <td>179.25</td>\n",
       "      <td>1</td>\n",
       "      <td>1.0</td>\n",
       "    </tr>\n",
       "    <tr>\n",
       "      <th>3</th>\n",
       "      <td>Female</td>\n",
       "      <td>No</td>\n",
       "      <td>Yes</td>\n",
       "      <td>No</td>\n",
       "      <td>3</td>\n",
       "      <td>Yes</td>\n",
       "      <td>Yes</td>\n",
       "      <td>Fiber optic</td>\n",
       "      <td>No</td>\n",
       "      <td>Yes</td>\n",
       "      <td>...</td>\n",
       "      <td>No</td>\n",
       "      <td>No</td>\n",
       "      <td>Yes</td>\n",
       "      <td>Month-to-month</td>\n",
       "      <td>Yes</td>\n",
       "      <td>Credit card (automatic)</td>\n",
       "      <td>91.50</td>\n",
       "      <td>242.95</td>\n",
       "      <td>1</td>\n",
       "      <td>1.0</td>\n",
       "    </tr>\n",
       "    <tr>\n",
       "      <th>4</th>\n",
       "      <td>Male</td>\n",
       "      <td>No</td>\n",
       "      <td>No</td>\n",
       "      <td>No</td>\n",
       "      <td>35</td>\n",
       "      <td>Yes</td>\n",
       "      <td>No</td>\n",
       "      <td>No</td>\n",
       "      <td>No</td>\n",
       "      <td>No</td>\n",
       "      <td>...</td>\n",
       "      <td>No</td>\n",
       "      <td>No</td>\n",
       "      <td>No</td>\n",
       "      <td>Two year</td>\n",
       "      <td>No</td>\n",
       "      <td>Mailed check</td>\n",
       "      <td>19.25</td>\n",
       "      <td>677.90</td>\n",
       "      <td>0</td>\n",
       "      <td>0.0</td>\n",
       "    </tr>\n",
       "    <tr>\n",
       "      <th>5</th>\n",
       "      <td>Female</td>\n",
       "      <td>No</td>\n",
       "      <td>Yes</td>\n",
       "      <td>No</td>\n",
       "      <td>41</td>\n",
       "      <td>No</td>\n",
       "      <td>No</td>\n",
       "      <td>DSL</td>\n",
       "      <td>No</td>\n",
       "      <td>Yes</td>\n",
       "      <td>...</td>\n",
       "      <td>Yes</td>\n",
       "      <td>No</td>\n",
       "      <td>No</td>\n",
       "      <td>One year</td>\n",
       "      <td>No</td>\n",
       "      <td>Mailed check</td>\n",
       "      <td>35.45</td>\n",
       "      <td>1391.65</td>\n",
       "      <td>0</td>\n",
       "      <td>0.0</td>\n",
       "    </tr>\n",
       "    <tr>\n",
       "      <th>6</th>\n",
       "      <td>Female</td>\n",
       "      <td>No</td>\n",
       "      <td>No</td>\n",
       "      <td>Yes</td>\n",
       "      <td>65</td>\n",
       "      <td>No</td>\n",
       "      <td>No</td>\n",
       "      <td>DSL</td>\n",
       "      <td>No</td>\n",
       "      <td>Yes</td>\n",
       "      <td>...</td>\n",
       "      <td>Yes</td>\n",
       "      <td>Yes</td>\n",
       "      <td>No</td>\n",
       "      <td>Two year</td>\n",
       "      <td>No</td>\n",
       "      <td>Mailed check</td>\n",
       "      <td>45.25</td>\n",
       "      <td>2933.95</td>\n",
       "      <td>0</td>\n",
       "      <td>0.0</td>\n",
       "    </tr>\n",
       "    <tr>\n",
       "      <th>7</th>\n",
       "      <td>Male</td>\n",
       "      <td>No</td>\n",
       "      <td>No</td>\n",
       "      <td>Yes</td>\n",
       "      <td>54</td>\n",
       "      <td>Yes</td>\n",
       "      <td>Yes</td>\n",
       "      <td>DSL</td>\n",
       "      <td>No</td>\n",
       "      <td>Yes</td>\n",
       "      <td>...</td>\n",
       "      <td>No</td>\n",
       "      <td>No</td>\n",
       "      <td>No</td>\n",
       "      <td>Month-to-month</td>\n",
       "      <td>Yes</td>\n",
       "      <td>Credit card (automatic)</td>\n",
       "      <td>55.00</td>\n",
       "      <td>3092.65</td>\n",
       "      <td>1</td>\n",
       "      <td>0.0</td>\n",
       "    </tr>\n",
       "    <tr>\n",
       "      <th>8</th>\n",
       "      <td>Female</td>\n",
       "      <td>No</td>\n",
       "      <td>Yes</td>\n",
       "      <td>No</td>\n",
       "      <td>7</td>\n",
       "      <td>Yes</td>\n",
       "      <td>No</td>\n",
       "      <td>DSL</td>\n",
       "      <td>No</td>\n",
       "      <td>No</td>\n",
       "      <td>...</td>\n",
       "      <td>No</td>\n",
       "      <td>No</td>\n",
       "      <td>No</td>\n",
       "      <td>Month-to-month</td>\n",
       "      <td>Yes</td>\n",
       "      <td>Mailed check</td>\n",
       "      <td>44.25</td>\n",
       "      <td>313.45</td>\n",
       "      <td>0</td>\n",
       "      <td>1.0</td>\n",
       "    </tr>\n",
       "    <tr>\n",
       "      <th>9</th>\n",
       "      <td>Female</td>\n",
       "      <td>No</td>\n",
       "      <td>No</td>\n",
       "      <td>No</td>\n",
       "      <td>2</td>\n",
       "      <td>Yes</td>\n",
       "      <td>No</td>\n",
       "      <td>DSL</td>\n",
       "      <td>No</td>\n",
       "      <td>No</td>\n",
       "      <td>...</td>\n",
       "      <td>No</td>\n",
       "      <td>No</td>\n",
       "      <td>No</td>\n",
       "      <td>Month-to-month</td>\n",
       "      <td>Yes</td>\n",
       "      <td>Mailed check</td>\n",
       "      <td>45.85</td>\n",
       "      <td>105.60</td>\n",
       "      <td>0</td>\n",
       "      <td>1.0</td>\n",
       "    </tr>\n",
       "  </tbody>\n",
       "</table>\n",
       "<p>10 rows × 21 columns</p>\n",
       "</div>"
      ],
      "text/plain": [
       "   gender SeniorCitizen Partner Dependents  tenure PhoneService MultipleLines  \\\n",
       "0  Female            No      No         No       5          Yes           Yes   \n",
       "1    Male            No     Yes         No      52          Yes           Yes   \n",
       "2  Female           Yes      No         No       2          Yes           Yes   \n",
       "3  Female            No     Yes         No       3          Yes           Yes   \n",
       "4    Male            No      No         No      35          Yes            No   \n",
       "5  Female            No     Yes         No      41           No            No   \n",
       "6  Female            No      No        Yes      65           No            No   \n",
       "7    Male            No      No        Yes      54          Yes           Yes   \n",
       "8  Female            No     Yes         No       7          Yes            No   \n",
       "9  Female            No      No         No       2          Yes            No   \n",
       "\n",
       "  InternetService OnlineSecurity OnlineBackup  ... TechSupport StreamingTV  \\\n",
       "0     Fiber optic             No          Yes  ...          No         Yes   \n",
       "1             DSL            Yes          Yes  ...         Yes          No   \n",
       "2     Fiber optic             No           No  ...          No          No   \n",
       "3     Fiber optic             No          Yes  ...          No          No   \n",
       "4              No             No           No  ...          No          No   \n",
       "5             DSL             No          Yes  ...         Yes          No   \n",
       "6             DSL             No          Yes  ...         Yes         Yes   \n",
       "7             DSL             No          Yes  ...          No          No   \n",
       "8             DSL             No           No  ...          No          No   \n",
       "9             DSL             No           No  ...          No          No   \n",
       "\n",
       "  StreamingMovies        Contract PaperlessBilling            PaymentMethod  \\\n",
       "0              No  Month-to-month              Yes         Electronic check   \n",
       "1             Yes        One year              Yes  Credit card (automatic)   \n",
       "2             Yes  Month-to-month              Yes         Electronic check   \n",
       "3             Yes  Month-to-month              Yes  Credit card (automatic)   \n",
       "4              No        Two year               No             Mailed check   \n",
       "5              No        One year               No             Mailed check   \n",
       "6              No        Two year               No             Mailed check   \n",
       "7              No  Month-to-month              Yes  Credit card (automatic)   \n",
       "8              No  Month-to-month              Yes             Mailed check   \n",
       "9              No  Month-to-month              Yes             Mailed check   \n",
       "\n",
       "  MonthlyCharges  TotalCharges  Churn  Churn Prediction  \n",
       "0          90.80        455.50      1               1.0  \n",
       "1          81.40       4354.45      0               0.0  \n",
       "2          88.55        179.25      1               1.0  \n",
       "3          91.50        242.95      1               1.0  \n",
       "4          19.25        677.90      0               0.0  \n",
       "5          35.45       1391.65      0               0.0  \n",
       "6          45.25       2933.95      0               0.0  \n",
       "7          55.00       3092.65      1               0.0  \n",
       "8          44.25        313.45      0               1.0  \n",
       "9          45.85        105.60      0               1.0  \n",
       "\n",
       "[10 rows x 21 columns]"
      ]
     },
     "execution_count": 89,
     "metadata": {},
     "output_type": "execute_result"
    }
   ],
   "source": [
    "#Merge\n",
    "pd.concat([data_inf, y_pred_inf_df], axis=1)"
   ]
  },
  {
   "cell_type": "markdown",
   "metadata": {},
   "source": [
    "> After using the models trained and used above, I can see that it was able to predict the model/data inference 90% correctly, with the only incorrect answer in index 7 which is a Churn 'Yes'. Once again it could be attributed to the imbalance data of Churn 'NO, YES'"
   ]
  },
  {
   "cell_type": "markdown",
   "metadata": {},
   "source": [
    "------------------------\n",
    "## Pengambilan Kesimpulan\n",
    "> Pada bagian terakhir ini, harus berisi kesimpulan yang mencerminkan hasil yang didapat dengan objective yang sudah ditulis di bagian pengenalan."
   ]
  },
  {
   "cell_type": "markdown",
   "metadata": {},
   "source": [
    "The conclusion for this Milestone is:\n",
    "- Models/API used for the prediction are Sequential and Functional API\n",
    "> While both APIs have done rather well, the Functional API has come out ontop in terms of prediction rate and also in terms of 'goodfit'. This could be because Functional API is slightly more complex and modifiable for the user\n",
    "\n",
    "> If considering the API with the balanced data, I can see that it has done better in terms of prediction rate but when it comes to the 'fit', it has done terribly with both API val and train loss lines not intersecting with one another, making it to be massively overfit\n",
    "- Models could be improved upon more\n",
    "> The models I have set are not perfect, someone else could possibly get an accuracy of over 80% with different parameters set. In terms of finding the right parameters, I have chosen to do so manually instead of resorting to GridSearchCV and/or RandomSearchCV. I have done so just to be familiar with what each parameters will do, with LOTS of trial and error, I have a better understanding on it. An example was when I didn't use regulisers the Sequential API was overfit, while the Functional API had an exploding gradient\n",
    "\n",
    "> Another example was that by using reguliser = 'l1', the scoring for imbalanced was slightly worse by about 1% but the balanced datas graph was significantly better (with the lines actually connecting and not as overfit) and the scoring similar to reguliser = 'l2'\n",
    "- Which to use for deployment?\n",
    "> Since the Functional API got better scores in basically everything, I have used it for the data inference and will use it for deployment as well\n",
    "- The data of Churn Rate is imbalanced\n",
    "> Since the imbalance rate was only 7:3 which is considered mildly imbalanced, it is necessary if the imbalance rate is in the extreme 9:1. Most datasets are usually imbalance and is very hard to come across a natural 1:1 balance rate, I have chosen to use SMOTE to see if I could increase the scoring of the prediction. Which it did but at the cost of overfitting (based on the graph). Since there is a chance of overfitting, I have chosen to use the method without balancing the data for the model inference and deployment. I'm okay with doing it because the score of the balanced data only increased by a few percentages\n",
    "- Not all data columns was needed for the prediction\n",
    "> All the columns do have a correaltion/importance towards the Churning rate, but since Phone Service has the least amount of importance with about 0.05% compared to the others with an importance of over 1%, that's why I have chosen to drop Phone Service. I could've removed more features, but I chose to remove the lowest importance compared tp the others"
   ]
  },
  {
   "cell_type": "markdown",
   "metadata": {},
   "source": [
    "----------------\n",
    "## References\n",
    "- https://seaborn.pydata.org/generated/seaborn.histplot.html\n",
    "- https://www.kaggle.com/code/mishraay/customer-churn-and-imbalanced-using-keras-ann\n",
    "- https://python-bloggers.com/2022/03/installing-python-and-tensorflow-with-jupyter-notebook-configurations/\n",
    "- https://scikit-learn.org/stable/auto_examples/compose/plot_column_transformer_mixed_types.html\n",
    "- https://colab.research.google.com/github/tensorflow/docs/blob/master/site/en/guide/data.ipynb?hl=ko-KR#scrollTo=9Qo3HgDjbDcI"
   ]
  }
 ],
 "metadata": {
  "interpreter": {
   "hash": "f26a3dc1cf3019ae6606181166a667e3864d6b6435c28d1fda496888aa3bc447"
  },
  "kernelspec": {
   "display_name": "Python 3.9.7 ('base')",
   "language": "python",
   "name": "python3"
  },
  "language_info": {
   "codemirror_mode": {
    "name": "ipython",
    "version": 3
   },
   "file_extension": ".py",
   "mimetype": "text/x-python",
   "name": "python",
   "nbconvert_exporter": "python",
   "pygments_lexer": "ipython3",
   "version": "3.9.7"
  },
  "orig_nbformat": 4
 },
 "nbformat": 4,
 "nbformat_minor": 2
}
